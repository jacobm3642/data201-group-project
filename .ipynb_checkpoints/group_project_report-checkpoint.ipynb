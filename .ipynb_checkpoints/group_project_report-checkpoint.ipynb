{
 "cells": [
  {
   "cell_type": "raw",
   "id": "33fa3b6d-1c3b-4e8b-ada2-a6254f3cb543",
   "metadata": {},
   "source": [
    "DATA201 GROUP PROJECT"
   ]
  },
  {
   "cell_type": "code",
   "execution_count": null,
   "id": "95ee5423-4b62-43a5-a214-da847abd71e6",
   "metadata": {},
   "outputs": [],
   "source": []
  }
 ],
 "metadata": {
  "kernelspec": {
   "display_name": "R",
   "language": "R",
   "name": "ir"
  },
  "language_info": {
   "codemirror_mode": "r",
   "file_extension": ".r",
   "mimetype": "text/x-r-source",
   "name": "R",
   "pygments_lexer": "r",
   "version": "4.3.1"
  }
 },
 "nbformat": 4,
 "nbformat_minor": 5
}
