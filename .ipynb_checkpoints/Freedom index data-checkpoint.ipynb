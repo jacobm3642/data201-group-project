{
 "cells": [
  {
   "cell_type": "code",
   "execution_count": 1,
   "id": "72948d23-ef9b-41f2-8577-410e35c7fd2c",
   "metadata": {
    "tags": []
   },
   "outputs": [
    {
     "name": "stderr",
     "output_type": "stream",
     "text": [
      "── \u001b[1mAttaching core tidyverse packages\u001b[22m ──────────────────────── tidyverse 2.0.0 ──\n",
      "\u001b[32m✔\u001b[39m \u001b[34mdplyr    \u001b[39m 1.1.2     \u001b[32m✔\u001b[39m \u001b[34mreadr    \u001b[39m 2.1.4\n",
      "\u001b[32m✔\u001b[39m \u001b[34mforcats  \u001b[39m 1.0.0     \u001b[32m✔\u001b[39m \u001b[34mstringr  \u001b[39m 1.5.0\n",
      "\u001b[32m✔\u001b[39m \u001b[34mggplot2  \u001b[39m 3.4.3     \u001b[32m✔\u001b[39m \u001b[34mtibble   \u001b[39m 3.2.1\n",
      "\u001b[32m✔\u001b[39m \u001b[34mlubridate\u001b[39m 1.9.2     \u001b[32m✔\u001b[39m \u001b[34mtidyr    \u001b[39m 1.3.0\n",
      "\u001b[32m✔\u001b[39m \u001b[34mpurrr    \u001b[39m 1.0.1     \n",
      "── \u001b[1mConflicts\u001b[22m ────────────────────────────────────────── tidyverse_conflicts() ──\n",
      "\u001b[31m✖\u001b[39m \u001b[34mdplyr\u001b[39m::\u001b[32mfilter()\u001b[39m         masks \u001b[34mstats\u001b[39m::filter()\n",
      "\u001b[31m✖\u001b[39m \u001b[34mreadr\u001b[39m::\u001b[32mguess_encoding()\u001b[39m masks \u001b[34mrvest\u001b[39m::guess_encoding()\n",
      "\u001b[31m✖\u001b[39m \u001b[34mdplyr\u001b[39m::\u001b[32mlag()\u001b[39m            masks \u001b[34mstats\u001b[39m::lag()\n",
      "\u001b[36mℹ\u001b[39m Use the conflicted package (\u001b[3m\u001b[34m<http://conflicted.r-lib.org/>\u001b[39m\u001b[23m) to force all conflicts to become errors\n",
      "\n",
      "Attaching package: 'magrittr'\n",
      "\n",
      "\n",
      "The following object is masked from 'package:purrr':\n",
      "\n",
      "    set_names\n",
      "\n",
      "\n",
      "The following object is masked from 'package:tidyr':\n",
      "\n",
      "    extract\n",
      "\n",
      "\n",
      "\n",
      "Attaching package: 'jsonlite'\n",
      "\n",
      "\n",
      "The following object is masked from 'package:purrr':\n",
      "\n",
      "    flatten\n",
      "\n",
      "\n"
     ]
    }
   ],
   "source": [
    "#loading packages\n",
    "library(rvest)\n",
    "library(tidyverse)\n",
    "library(dplyr)\n",
    "library(ggplot2)\n",
    "library(magrittr) \n",
    "library(purrr) \n",
    "library(glue)\n",
    "library(stringr) \n",
    "library(httr)\n",
    "library(jsonlite)\n",
    "library(gapminder)\n",
    "library(readxl)\n",
    "library(lubridate)\n",
    "library(visdat)"
   ]
  },
  {
   "cell_type": "code",
   "execution_count": 2,
   "id": "0a48ee0c-1344-4639-8415-b58286371960",
   "metadata": {},
   "outputs": [
    {
     "name": "stderr",
     "output_type": "stream",
     "text": [
      "\u001b[1mRows: \u001b[22m\u001b[34m24570\u001b[39m \u001b[1mColumns: \u001b[22m\u001b[34m34\u001b[39m\n",
      "\u001b[36m──\u001b[39m \u001b[1mColumn specification\u001b[22m \u001b[36m────────────────────────────────────────────────────────\u001b[39m\n",
      "\u001b[1mDelimiter:\u001b[22m \",\"\n",
      "\u001b[31mchr\u001b[39m  (18): IndicatorCode, Indicator, ValueType, ParentLocationCode, ParentLo...\n",
      "\u001b[32mdbl\u001b[39m   (5): Period, FactValueNumeric, FactValueNumericLow, FactValueNumericHi...\n",
      "\u001b[33mlgl\u001b[39m  (10): IsLatestYear, Dim3 type, Dim3, Dim3ValueCode, DataSourceDimValueC...\n",
      "\u001b[34mdttm\u001b[39m  (1): DateModified\n",
      "\n",
      "\u001b[36mℹ\u001b[39m Use `spec()` to retrieve the full column specification for this data.\n",
      "\u001b[36mℹ\u001b[39m Specify the column types or set `show_col_types = FALSE` to quiet this message.\n"
     ]
    },
    {
     "data": {
      "text/html": [
       "<table class=\"dataframe\">\n",
       "<caption>A tibble: 3 × 52</caption>\n",
       "<thead>\n",
       "\t<tr><th scope=col>country</th><th scope=col>1972</th><th scope=col>1973</th><th scope=col>1974</th><th scope=col>1975</th><th scope=col>1976</th><th scope=col>1977</th><th scope=col>1978</th><th scope=col>1979</th><th scope=col>1980</th><th scope=col>⋯</th><th scope=col>2013</th><th scope=col>2014</th><th scope=col>2015</th><th scope=col>2016</th><th scope=col>2017</th><th scope=col>2018</th><th scope=col>2019</th><th scope=col>2020</th><th scope=col>2021</th><th scope=col>2022</th></tr>\n",
       "\t<tr><th scope=col>&lt;chr&gt;</th><th scope=col>&lt;dbl&gt;</th><th scope=col>&lt;dbl&gt;</th><th scope=col>&lt;dbl&gt;</th><th scope=col>&lt;dbl&gt;</th><th scope=col>&lt;dbl&gt;</th><th scope=col>&lt;dbl&gt;</th><th scope=col>&lt;dbl&gt;</th><th scope=col>&lt;dbl&gt;</th><th scope=col>&lt;dbl&gt;</th><th scope=col>⋯</th><th scope=col>&lt;dbl&gt;</th><th scope=col>&lt;dbl&gt;</th><th scope=col>&lt;dbl&gt;</th><th scope=col>&lt;dbl&gt;</th><th scope=col>&lt;dbl&gt;</th><th scope=col>&lt;dbl&gt;</th><th scope=col>&lt;dbl&gt;</th><th scope=col>&lt;dbl&gt;</th><th scope=col>&lt;dbl&gt;</th><th scope=col>&lt;dbl&gt;</th></tr>\n",
       "</thead>\n",
       "<tbody>\n",
       "\t<tr><td>Afghanistan</td><td> 4</td><td> 7</td><td> 7</td><td>7</td><td>7</td><td>6</td><td>7</td><td>7</td><td>7</td><td>⋯</td><td>6</td><td>6</td><td>6</td><td>6</td><td>5</td><td>5</td><td>5</td><td>5</td><td>7</td><td>7</td></tr>\n",
       "\t<tr><td>Angola     </td><td>NA</td><td>NA</td><td>NA</td><td>6</td><td>6</td><td>7</td><td>7</td><td>7</td><td>7</td><td>⋯</td><td>6</td><td>6</td><td>6</td><td>6</td><td>6</td><td>6</td><td>6</td><td>6</td><td>6</td><td>6</td></tr>\n",
       "\t<tr><td>Albania    </td><td> 7</td><td> 7</td><td> 7</td><td>7</td><td>7</td><td>7</td><td>7</td><td>7</td><td>7</td><td>⋯</td><td>3</td><td>3</td><td>3</td><td>3</td><td>3</td><td>3</td><td>3</td><td>3</td><td>3</td><td>3</td></tr>\n",
       "</tbody>\n",
       "</table>\n"
      ],
      "text/latex": [
       "A tibble: 3 × 52\n",
       "\\begin{tabular}{lllllllllllllllllllll}\n",
       " country & 1972 & 1973 & 1974 & 1975 & 1976 & 1977 & 1978 & 1979 & 1980 & ⋯ & 2013 & 2014 & 2015 & 2016 & 2017 & 2018 & 2019 & 2020 & 2021 & 2022\\\\\n",
       " <chr> & <dbl> & <dbl> & <dbl> & <dbl> & <dbl> & <dbl> & <dbl> & <dbl> & <dbl> & ⋯ & <dbl> & <dbl> & <dbl> & <dbl> & <dbl> & <dbl> & <dbl> & <dbl> & <dbl> & <dbl>\\\\\n",
       "\\hline\n",
       "\t Afghanistan &  4 &  7 &  7 & 7 & 7 & 6 & 7 & 7 & 7 & ⋯ & 6 & 6 & 6 & 6 & 5 & 5 & 5 & 5 & 7 & 7\\\\\n",
       "\t Angola      & NA & NA & NA & 6 & 6 & 7 & 7 & 7 & 7 & ⋯ & 6 & 6 & 6 & 6 & 6 & 6 & 6 & 6 & 6 & 6\\\\\n",
       "\t Albania     &  7 &  7 &  7 & 7 & 7 & 7 & 7 & 7 & 7 & ⋯ & 3 & 3 & 3 & 3 & 3 & 3 & 3 & 3 & 3 & 3\\\\\n",
       "\\end{tabular}\n"
      ],
      "text/markdown": [
       "\n",
       "A tibble: 3 × 52\n",
       "\n",
       "| country &lt;chr&gt; | 1972 &lt;dbl&gt; | 1973 &lt;dbl&gt; | 1974 &lt;dbl&gt; | 1975 &lt;dbl&gt; | 1976 &lt;dbl&gt; | 1977 &lt;dbl&gt; | 1978 &lt;dbl&gt; | 1979 &lt;dbl&gt; | 1980 &lt;dbl&gt; | ⋯ ⋯ | 2013 &lt;dbl&gt; | 2014 &lt;dbl&gt; | 2015 &lt;dbl&gt; | 2016 &lt;dbl&gt; | 2017 &lt;dbl&gt; | 2018 &lt;dbl&gt; | 2019 &lt;dbl&gt; | 2020 &lt;dbl&gt; | 2021 &lt;dbl&gt; | 2022 &lt;dbl&gt; |\n",
       "|---|---|---|---|---|---|---|---|---|---|---|---|---|---|---|---|---|---|---|---|---|\n",
       "| Afghanistan |  4 |  7 |  7 | 7 | 7 | 6 | 7 | 7 | 7 | ⋯ | 6 | 6 | 6 | 6 | 5 | 5 | 5 | 5 | 7 | 7 |\n",
       "| Angola      | NA | NA | NA | 6 | 6 | 7 | 7 | 7 | 7 | ⋯ | 6 | 6 | 6 | 6 | 6 | 6 | 6 | 6 | 6 | 6 |\n",
       "| Albania     |  7 |  7 |  7 | 7 | 7 | 7 | 7 | 7 | 7 | ⋯ | 3 | 3 | 3 | 3 | 3 | 3 | 3 | 3 | 3 | 3 |\n",
       "\n"
      ],
      "text/plain": [
       "  country     1972 1973 1974 1975 1976 1977 1978 1979 1980 ⋯ 2013 2014 2015\n",
       "1 Afghanistan  4    7    7   7    7    6    7    7    7    ⋯ 6    6    6   \n",
       "2 Angola      NA   NA   NA   6    6    7    7    7    7    ⋯ 6    6    6   \n",
       "3 Albania      7    7    7   7    7    7    7    7    7    ⋯ 3    3    3   \n",
       "  2016 2017 2018 2019 2020 2021 2022\n",
       "1 6    5    5    5    5    7    7   \n",
       "2 6    6    6    6    6    6    6   \n",
       "3 3    3    3    3    3    3    3   "
      ]
     },
     "metadata": {},
     "output_type": "display_data"
    }
   ],
   "source": [
    "df = read_excel('polrights_fh.xlsx') #new dataset\n",
    "dfbmi = read_csv('bmi_data.csv') #original dataset\n",
    "\n",
    "head(df, 3)"
   ]
  },
  {
   "cell_type": "code",
   "execution_count": 3,
   "id": "6ffd3ace-a7fb-4e1d-beec-ac4ebf64a0dc",
   "metadata": {
    "tags": []
   },
   "outputs": [],
   "source": [
    "#pivoting and filtering the new dataset\n",
    "pivot_df = df %>%\n",
    "    pivot_longer(cols = -country, names_to='Year', values_to='Freedom_index')\n",
    "\n",
    "pivot_df = pivot_df %>%\n",
    "    filter(Year > 1974, Year < 2017) %>% #filtering to the same timespan\n",
    "    drop_na() %>%\n",
    "    mutate(year = as.factor(Year),\n",
    "          Freedom_index = as.factor(Freedom_index))"
   ]
  },
  {
   "cell_type": "code",
   "execution_count": 4,
   "id": "3ae3f292-5b32-4380-8039-605795d8391d",
   "metadata": {
    "tags": []
   },
   "outputs": [
    {
     "data": {
      "text/html": [
       "<table class=\"dataframe\">\n",
       "<caption>A tibble: 6 × 34</caption>\n",
       "<thead>\n",
       "\t<tr><th scope=col>IndicatorCode</th><th scope=col>Indicator</th><th scope=col>ValueType</th><th scope=col>ParentLocationCode</th><th scope=col>ParentLocation</th><th scope=col>Location type</th><th scope=col>SpatialDimValueCode</th><th scope=col>Location</th><th scope=col>Period type</th><th scope=col>Period</th><th scope=col>⋯</th><th scope=col>FactValueUoM</th><th scope=col>FactValueNumericLowPrefix</th><th scope=col>FactValueNumericLow</th><th scope=col>FactValueNumericHighPrefix</th><th scope=col>FactValueNumericHigh</th><th scope=col>Value</th><th scope=col>FactValueTranslationID</th><th scope=col>FactComments</th><th scope=col>Language</th><th scope=col>DateModified</th></tr>\n",
       "\t<tr><th scope=col>&lt;chr&gt;</th><th scope=col>&lt;chr&gt;</th><th scope=col>&lt;chr&gt;</th><th scope=col>&lt;chr&gt;</th><th scope=col>&lt;chr&gt;</th><th scope=col>&lt;chr&gt;</th><th scope=col>&lt;chr&gt;</th><th scope=col>&lt;chr&gt;</th><th scope=col>&lt;chr&gt;</th><th scope=col>&lt;dbl&gt;</th><th scope=col>⋯</th><th scope=col>&lt;lgl&gt;</th><th scope=col>&lt;lgl&gt;</th><th scope=col>&lt;dbl&gt;</th><th scope=col>&lt;lgl&gt;</th><th scope=col>&lt;dbl&gt;</th><th scope=col>&lt;chr&gt;</th><th scope=col>&lt;dbl&gt;</th><th scope=col>&lt;chr&gt;</th><th scope=col>&lt;chr&gt;</th><th scope=col>&lt;dttm&gt;</th></tr>\n",
       "</thead>\n",
       "<tbody>\n",
       "\t<tr><td>NCD_BMI_MEAN</td><td>Mean BMI (kg/m²) (age-standardized estimate)</td><td>numeric</td><td>EMR</td><td>Eastern Mediterranean</td><td>Country</td><td>AFG</td><td>Afghanistan</td><td>Year</td><td>2016</td><td>⋯</td><td>NA</td><td>NA</td><td>20.1</td><td>NA</td><td>25.1</td><td>22.6 [20.1 – 25.1]</td><td>NA</td><td>NA</td><td>EN</td><td>2017-09-26 11:00:00</td></tr>\n",
       "\t<tr><td>NCD_BMI_MEAN</td><td>Mean BMI (kg/m²) (age-standardized estimate)</td><td>numeric</td><td>EMR</td><td>Eastern Mediterranean</td><td>Country</td><td>AFG</td><td>Afghanistan</td><td>Year</td><td>2016</td><td>⋯</td><td>NA</td><td>NA</td><td>22.0</td><td>NA</td><td>24.8</td><td>23.4 [22 – 24.8]  </td><td>NA</td><td>NA</td><td>EN</td><td>2017-09-26 11:00:00</td></tr>\n",
       "\t<tr><td>NCD_BMI_MEAN</td><td>Mean BMI (kg/m²) (age-standardized estimate)</td><td>numeric</td><td>EMR</td><td>Eastern Mediterranean</td><td>Country</td><td>AFG</td><td>Afghanistan</td><td>Year</td><td>2016</td><td>⋯</td><td>NA</td><td>NA</td><td>23.0</td><td>NA</td><td>25.3</td><td>24.1 [23 – 25.3]  </td><td>NA</td><td>NA</td><td>EN</td><td>2017-09-26 11:00:00</td></tr>\n",
       "\t<tr><td>NCD_BMI_MEAN</td><td>Mean BMI (kg/m²) (age-standardized estimate)</td><td>numeric</td><td>EMR</td><td>Eastern Mediterranean</td><td>Country</td><td>AFG</td><td>Afghanistan</td><td>Year</td><td>2015</td><td>⋯</td><td>NA</td><td>NA</td><td>20.1</td><td>NA</td><td>25.0</td><td>22.5 [20.1 – 25]  </td><td>NA</td><td>NA</td><td>EN</td><td>2017-09-26 11:00:00</td></tr>\n",
       "\t<tr><td>NCD_BMI_MEAN</td><td>Mean BMI (kg/m²) (age-standardized estimate)</td><td>numeric</td><td>EMR</td><td>Eastern Mediterranean</td><td>Country</td><td>AFG</td><td>Afghanistan</td><td>Year</td><td>2015</td><td>⋯</td><td>NA</td><td>NA</td><td>21.9</td><td>NA</td><td>24.6</td><td>23.3 [21.9 – 24.6]</td><td>NA</td><td>NA</td><td>EN</td><td>2017-09-26 11:00:00</td></tr>\n",
       "\t<tr><td>NCD_BMI_MEAN</td><td>Mean BMI (kg/m²) (age-standardized estimate)</td><td>numeric</td><td>EMR</td><td>Eastern Mediterranean</td><td>Country</td><td>AFG</td><td>Afghanistan</td><td>Year</td><td>2015</td><td>⋯</td><td>NA</td><td>NA</td><td>22.9</td><td>NA</td><td>25.1</td><td>24 [22.9 – 25.1]  </td><td>NA</td><td>NA</td><td>EN</td><td>2017-09-26 11:00:00</td></tr>\n",
       "</tbody>\n",
       "</table>\n"
      ],
      "text/latex": [
       "A tibble: 6 × 34\n",
       "\\begin{tabular}{lllllllllllllllllllll}\n",
       " IndicatorCode & Indicator & ValueType & ParentLocationCode & ParentLocation & Location type & SpatialDimValueCode & Location & Period type & Period & ⋯ & FactValueUoM & FactValueNumericLowPrefix & FactValueNumericLow & FactValueNumericHighPrefix & FactValueNumericHigh & Value & FactValueTranslationID & FactComments & Language & DateModified\\\\\n",
       " <chr> & <chr> & <chr> & <chr> & <chr> & <chr> & <chr> & <chr> & <chr> & <dbl> & ⋯ & <lgl> & <lgl> & <dbl> & <lgl> & <dbl> & <chr> & <dbl> & <chr> & <chr> & <dttm>\\\\\n",
       "\\hline\n",
       "\t NCD\\_BMI\\_MEAN & Mean BMI (kg/m²) (age-standardized estimate) & numeric & EMR & Eastern Mediterranean & Country & AFG & Afghanistan & Year & 2016 & ⋯ & NA & NA & 20.1 & NA & 25.1 & 22.6 {[}20.1 – 25.1{]} & NA & NA & EN & 2017-09-26 11:00:00\\\\\n",
       "\t NCD\\_BMI\\_MEAN & Mean BMI (kg/m²) (age-standardized estimate) & numeric & EMR & Eastern Mediterranean & Country & AFG & Afghanistan & Year & 2016 & ⋯ & NA & NA & 22.0 & NA & 24.8 & 23.4 {[}22 – 24.8{]}   & NA & NA & EN & 2017-09-26 11:00:00\\\\\n",
       "\t NCD\\_BMI\\_MEAN & Mean BMI (kg/m²) (age-standardized estimate) & numeric & EMR & Eastern Mediterranean & Country & AFG & Afghanistan & Year & 2016 & ⋯ & NA & NA & 23.0 & NA & 25.3 & 24.1 {[}23 – 25.3{]}   & NA & NA & EN & 2017-09-26 11:00:00\\\\\n",
       "\t NCD\\_BMI\\_MEAN & Mean BMI (kg/m²) (age-standardized estimate) & numeric & EMR & Eastern Mediterranean & Country & AFG & Afghanistan & Year & 2015 & ⋯ & NA & NA & 20.1 & NA & 25.0 & 22.5 {[}20.1 – 25{]}   & NA & NA & EN & 2017-09-26 11:00:00\\\\\n",
       "\t NCD\\_BMI\\_MEAN & Mean BMI (kg/m²) (age-standardized estimate) & numeric & EMR & Eastern Mediterranean & Country & AFG & Afghanistan & Year & 2015 & ⋯ & NA & NA & 21.9 & NA & 24.6 & 23.3 {[}21.9 – 24.6{]} & NA & NA & EN & 2017-09-26 11:00:00\\\\\n",
       "\t NCD\\_BMI\\_MEAN & Mean BMI (kg/m²) (age-standardized estimate) & numeric & EMR & Eastern Mediterranean & Country & AFG & Afghanistan & Year & 2015 & ⋯ & NA & NA & 22.9 & NA & 25.1 & 24 {[}22.9 – 25.1{]}   & NA & NA & EN & 2017-09-26 11:00:00\\\\\n",
       "\\end{tabular}\n"
      ],
      "text/markdown": [
       "\n",
       "A tibble: 6 × 34\n",
       "\n",
       "| IndicatorCode &lt;chr&gt; | Indicator &lt;chr&gt; | ValueType &lt;chr&gt; | ParentLocationCode &lt;chr&gt; | ParentLocation &lt;chr&gt; | Location type &lt;chr&gt; | SpatialDimValueCode &lt;chr&gt; | Location &lt;chr&gt; | Period type &lt;chr&gt; | Period &lt;dbl&gt; | ⋯ ⋯ | FactValueUoM &lt;lgl&gt; | FactValueNumericLowPrefix &lt;lgl&gt; | FactValueNumericLow &lt;dbl&gt; | FactValueNumericHighPrefix &lt;lgl&gt; | FactValueNumericHigh &lt;dbl&gt; | Value &lt;chr&gt; | FactValueTranslationID &lt;dbl&gt; | FactComments &lt;chr&gt; | Language &lt;chr&gt; | DateModified &lt;dttm&gt; |\n",
       "|---|---|---|---|---|---|---|---|---|---|---|---|---|---|---|---|---|---|---|---|---|\n",
       "| NCD_BMI_MEAN | Mean BMI (kg/m²) (age-standardized estimate) | numeric | EMR | Eastern Mediterranean | Country | AFG | Afghanistan | Year | 2016 | ⋯ | NA | NA | 20.1 | NA | 25.1 | 22.6 [20.1 – 25.1] | NA | NA | EN | 2017-09-26 11:00:00 |\n",
       "| NCD_BMI_MEAN | Mean BMI (kg/m²) (age-standardized estimate) | numeric | EMR | Eastern Mediterranean | Country | AFG | Afghanistan | Year | 2016 | ⋯ | NA | NA | 22.0 | NA | 24.8 | 23.4 [22 – 24.8]   | NA | NA | EN | 2017-09-26 11:00:00 |\n",
       "| NCD_BMI_MEAN | Mean BMI (kg/m²) (age-standardized estimate) | numeric | EMR | Eastern Mediterranean | Country | AFG | Afghanistan | Year | 2016 | ⋯ | NA | NA | 23.0 | NA | 25.3 | 24.1 [23 – 25.3]   | NA | NA | EN | 2017-09-26 11:00:00 |\n",
       "| NCD_BMI_MEAN | Mean BMI (kg/m²) (age-standardized estimate) | numeric | EMR | Eastern Mediterranean | Country | AFG | Afghanistan | Year | 2015 | ⋯ | NA | NA | 20.1 | NA | 25.0 | 22.5 [20.1 – 25]   | NA | NA | EN | 2017-09-26 11:00:00 |\n",
       "| NCD_BMI_MEAN | Mean BMI (kg/m²) (age-standardized estimate) | numeric | EMR | Eastern Mediterranean | Country | AFG | Afghanistan | Year | 2015 | ⋯ | NA | NA | 21.9 | NA | 24.6 | 23.3 [21.9 – 24.6] | NA | NA | EN | 2017-09-26 11:00:00 |\n",
       "| NCD_BMI_MEAN | Mean BMI (kg/m²) (age-standardized estimate) | numeric | EMR | Eastern Mediterranean | Country | AFG | Afghanistan | Year | 2015 | ⋯ | NA | NA | 22.9 | NA | 25.1 | 24 [22.9 – 25.1]   | NA | NA | EN | 2017-09-26 11:00:00 |\n",
       "\n"
      ],
      "text/plain": [
       "  IndicatorCode Indicator                                    ValueType\n",
       "1 NCD_BMI_MEAN  Mean BMI (kg/m²) (age-standardized estimate) numeric  \n",
       "2 NCD_BMI_MEAN  Mean BMI (kg/m²) (age-standardized estimate) numeric  \n",
       "3 NCD_BMI_MEAN  Mean BMI (kg/m²) (age-standardized estimate) numeric  \n",
       "4 NCD_BMI_MEAN  Mean BMI (kg/m²) (age-standardized estimate) numeric  \n",
       "5 NCD_BMI_MEAN  Mean BMI (kg/m²) (age-standardized estimate) numeric  \n",
       "6 NCD_BMI_MEAN  Mean BMI (kg/m²) (age-standardized estimate) numeric  \n",
       "  ParentLocationCode ParentLocation        Location type SpatialDimValueCode\n",
       "1 EMR                Eastern Mediterranean Country       AFG                \n",
       "2 EMR                Eastern Mediterranean Country       AFG                \n",
       "3 EMR                Eastern Mediterranean Country       AFG                \n",
       "4 EMR                Eastern Mediterranean Country       AFG                \n",
       "5 EMR                Eastern Mediterranean Country       AFG                \n",
       "6 EMR                Eastern Mediterranean Country       AFG                \n",
       "  Location    Period type Period ⋯ FactValueUoM FactValueNumericLowPrefix\n",
       "1 Afghanistan Year        2016   ⋯ NA           NA                       \n",
       "2 Afghanistan Year        2016   ⋯ NA           NA                       \n",
       "3 Afghanistan Year        2016   ⋯ NA           NA                       \n",
       "4 Afghanistan Year        2015   ⋯ NA           NA                       \n",
       "5 Afghanistan Year        2015   ⋯ NA           NA                       \n",
       "6 Afghanistan Year        2015   ⋯ NA           NA                       \n",
       "  FactValueNumericLow FactValueNumericHighPrefix FactValueNumericHigh\n",
       "1 20.1                NA                         25.1                \n",
       "2 22.0                NA                         24.8                \n",
       "3 23.0                NA                         25.3                \n",
       "4 20.1                NA                         25.0                \n",
       "5 21.9                NA                         24.6                \n",
       "6 22.9                NA                         25.1                \n",
       "  Value              FactValueTranslationID FactComments Language\n",
       "1 22.6 [20.1 – 25.1] NA                     NA           EN      \n",
       "2 23.4 [22 – 24.8]   NA                     NA           EN      \n",
       "3 24.1 [23 – 25.3]   NA                     NA           EN      \n",
       "4 22.5 [20.1 – 25]   NA                     NA           EN      \n",
       "5 23.3 [21.9 – 24.6] NA                     NA           EN      \n",
       "6 24 [22.9 – 25.1]   NA                     NA           EN      \n",
       "  DateModified       \n",
       "1 2017-09-26 11:00:00\n",
       "2 2017-09-26 11:00:00\n",
       "3 2017-09-26 11:00:00\n",
       "4 2017-09-26 11:00:00\n",
       "5 2017-09-26 11:00:00\n",
       "6 2017-09-26 11:00:00"
      ]
     },
     "metadata": {},
     "output_type": "display_data"
    },
    {
     "data": {
      "text/html": [
       "<table class=\"dataframe\">\n",
       "<caption>A tibble: 6 × 4</caption>\n",
       "<thead>\n",
       "\t<tr><th scope=col>country</th><th scope=col>Year</th><th scope=col>Freedom_index</th><th scope=col>year</th></tr>\n",
       "\t<tr><th scope=col>&lt;chr&gt;</th><th scope=col>&lt;chr&gt;</th><th scope=col>&lt;fct&gt;</th><th scope=col>&lt;fct&gt;</th></tr>\n",
       "</thead>\n",
       "<tbody>\n",
       "\t<tr><td>Afghanistan</td><td>1975</td><td>7</td><td>1975</td></tr>\n",
       "\t<tr><td>Afghanistan</td><td>1976</td><td>7</td><td>1976</td></tr>\n",
       "\t<tr><td>Afghanistan</td><td>1977</td><td>6</td><td>1977</td></tr>\n",
       "\t<tr><td>Afghanistan</td><td>1978</td><td>7</td><td>1978</td></tr>\n",
       "\t<tr><td>Afghanistan</td><td>1979</td><td>7</td><td>1979</td></tr>\n",
       "\t<tr><td>Afghanistan</td><td>1980</td><td>7</td><td>1980</td></tr>\n",
       "</tbody>\n",
       "</table>\n"
      ],
      "text/latex": [
       "A tibble: 6 × 4\n",
       "\\begin{tabular}{llll}\n",
       " country & Year & Freedom\\_index & year\\\\\n",
       " <chr> & <chr> & <fct> & <fct>\\\\\n",
       "\\hline\n",
       "\t Afghanistan & 1975 & 7 & 1975\\\\\n",
       "\t Afghanistan & 1976 & 7 & 1976\\\\\n",
       "\t Afghanistan & 1977 & 6 & 1977\\\\\n",
       "\t Afghanistan & 1978 & 7 & 1978\\\\\n",
       "\t Afghanistan & 1979 & 7 & 1979\\\\\n",
       "\t Afghanistan & 1980 & 7 & 1980\\\\\n",
       "\\end{tabular}\n"
      ],
      "text/markdown": [
       "\n",
       "A tibble: 6 × 4\n",
       "\n",
       "| country &lt;chr&gt; | Year &lt;chr&gt; | Freedom_index &lt;fct&gt; | year &lt;fct&gt; |\n",
       "|---|---|---|---|\n",
       "| Afghanistan | 1975 | 7 | 1975 |\n",
       "| Afghanistan | 1976 | 7 | 1976 |\n",
       "| Afghanistan | 1977 | 6 | 1977 |\n",
       "| Afghanistan | 1978 | 7 | 1978 |\n",
       "| Afghanistan | 1979 | 7 | 1979 |\n",
       "| Afghanistan | 1980 | 7 | 1980 |\n",
       "\n"
      ],
      "text/plain": [
       "  country     Year Freedom_index year\n",
       "1 Afghanistan 1975 7             1975\n",
       "2 Afghanistan 1976 7             1976\n",
       "3 Afghanistan 1977 6             1977\n",
       "4 Afghanistan 1978 7             1978\n",
       "5 Afghanistan 1979 7             1979\n",
       "6 Afghanistan 1980 7             1980"
      ]
     },
     "metadata": {},
     "output_type": "display_data"
    }
   ],
   "source": [
    "bmi_sorted = dfbmi %>%\n",
    "        arrange(Location, decreasing=TRUE)\n",
    "\n",
    "pivot_sorted = pivot_df %>%\n",
    "    arrange(country, decreasing=TRUE)\n",
    "\n",
    "head(bmi_sorted)\n",
    "head(pivot_sorted)"
   ]
  },
  {
   "cell_type": "code",
   "execution_count": 5,
   "id": "448b2300-4f34-4e59-9192-3997f62a4fbe",
   "metadata": {
    "tags": []
   },
   "outputs": [],
   "source": [
    "#a very ugly replacement process that I will turn into a function\n",
    "#essentially matching all the names so the sets can be merged\n",
    "bmi_sorted$Location[bmi_sorted$Location == 'Venezuela (Bolivarian Republic of)'] <- 'Venezuela'\n",
    "bmi_sorted$Location[bmi_sorted$Location == 'Bolivia (Plurinational State of)'] <- 'Bolivia'\n",
    "bmi_sorted$Location[bmi_sorted$Location == 'Brunei Darussalam'] <- 'Brunei'\n",
    "bmi_sorted$Location[bmi_sorted$Location == 'Cabo Verde'] <- 'Cape Verde'\n",
    "bmi_sorted$Location[bmi_sorted$Location == 'Congo'] <- 'Congo, Rep.'\n",
    "bmi_sorted$Location[bmi_sorted$Location == 'Côte d’Ivoire'] <- 'Cote d\\'Ivoire'\n",
    "bmi_sorted$Location[bmi_sorted$Location == 'Czechia'] <- 'Czech Republic'\n",
    "bmi_sorted$Location[bmi_sorted$Location == 'Democratic Republic of the Congo'] <- 'Congo, Dem. Rep.'\n",
    "bmi_sorted$Location[bmi_sorted$Location == 'Iran (Islamic Republic of)'] <- 'Iran'\n",
    "bmi_sorted$Location[bmi_sorted$Location == 'Lao People\\'s Democratic Republic'] <- 'Lao'\n",
    "bmi_sorted$Location[bmi_sorted$Location == 'United Kingdom of Great Britain and Northern Ireland'] <- 'UK'\n",
    "bmi_sorted$Location[bmi_sorted$Location == 'United Arab Emirates'] <- 'UAE'\n",
    "bmi_sorted$Location[bmi_sorted$Location == 'United States of America'] <- 'USA'\n",
    "bmi_sorted$Location[bmi_sorted$Location == 'Viet Nam'] <- 'Vietnam'\n",
    "bmi_sorted$Location[bmi_sorted$Location == 'United Republic of Tanzania'] <- 'Tanzania'\n",
    "bmi_sorted$Location[bmi_sorted$Location == 'Türkiye'] <- 'Turkey'\n",
    "bmi_sorted$Location[bmi_sorted$Location == 'Democratic People\\'s Republic of Korea'] <- 'North Korea'\n",
    "bmi_sorted$Location[bmi_sorted$Location == 'Republic of Korea'] <- 'South Korea'\n",
    "bmi_sorted$Location[bmi_sorted$Location == 'Saint Kitts and Nevis'] <- 'St. Kitts and Nevis'\n",
    "bmi_sorted$Location[bmi_sorted$Location == 'Syrian Arab Republic'] <- 'Syria'\n",
    "bmi_sorted$Location[bmi_sorted$Location == 'Russian Federation'] <- 'Russia'\n",
    "bmi_sorted$Location[bmi_sorted$Location == 'Republic of Moldova'] <- 'Moldova'\n",
    "bmi_sorted$Location[bmi_sorted$Location == 'Saint Vincent and the Grenadines'] <- 'St. Vincent and the Grenadines'\n",
    "bmi_sorted$Location[bmi_sorted$Location == 'Micronesia (Federated States of)'] <- 'Micronesia, Fed. Sts.'\n",
    "bmi_sorted$Location[bmi_sorted$Location == 'Kyrgyz Republic'] <- 'Kyrgyzstan'\n",
    "bmi_sorted$Location[bmi_sorted$Location == 'The former Yugoslav Republic of Macedonia'] <- 'North Macedonia'\n",
    "bmi_sorted$Location[bmi_sorted$Location == 'Slovak Republic'] <- 'Slovakia'\n",
    "bmi_sorted$Location[bmi_sorted$Location == 'Saint Lucia'] <- 'St. Lucia'\n",
    "bmi_sorted$Location[bmi_sorted$Location == 'Kyrgyzstan'] <- 'Kyrgyz Republic'\n",
    "bmi_sorted$Location[bmi_sorted$Location== 'Slovak Republic'] <- 'Slovakia'\n",
    "\n",
    "\n",
    "pivot_sorted$country[pivot_sorted$country == 'Cote d\\'Ivoire'] <- 'Côte d’Ivoire'"
   ]
  },
  {
   "cell_type": "code",
   "execution_count": 6,
   "id": "3761ce6f-1725-4cb5-903f-cf9e1074ae9d",
   "metadata": {
    "tags": []
   },
   "outputs": [],
   "source": [
    "#going to merge on country and year. so need to rename cols\n",
    "bmi_sorted = bmi_sorted %>%\n",
    "    rename('country' = 'Location',\n",
    "           'year' = 'Period') %>%\n",
    "    mutate(year = as.factor(year))"
   ]
  },
  {
   "cell_type": "code",
   "execution_count": 7,
   "id": "04297947-6887-4020-a4d0-e72e1783f092",
   "metadata": {
    "tags": []
   },
   "outputs": [],
   "source": [
    "#there are 3 measurements for each country.  Male, female and both.\n",
    "#need to duplicate the obs in my new dataset\n",
    "\n",
    "#number of times to duplicate each row\n",
    "n_duplicates <- 3\n",
    "\n",
    "#duplicate rows using rep()\n",
    "duplicated_df <- pivot_sorted[rep(seq_len(nrow(pivot_sorted)), each = n_duplicates), ]\n",
    "\n",
    "#reset row names\n",
    "row.names(duplicated_df) <- NULL\n",
    "\n",
    "#duplicated_df"
   ]
  },
  {
   "cell_type": "code",
   "execution_count": 8,
   "id": "b1fde88e-7392-4c0a-b23a-2b41c21af67f",
   "metadata": {
    "tags": []
   },
   "outputs": [],
   "source": [
    "#inner join\n",
    "merged_df <- inner_join(duplicated_df, bmi_sorted, by = c(\"country\", 'year'), relationship =\n",
    "  \"many-to-many\")\n",
    "\n",
    "#this creates 3 times the number of observations :("
   ]
  },
  {
   "cell_type": "code",
   "execution_count": 9,
   "id": "d184de8a-127a-4f47-982a-50c9f183ff30",
   "metadata": {
    "tags": []
   },
   "outputs": [
    {
     "data": {
      "text/html": [
       "<table class=\"dataframe\">\n",
       "<caption>A tibble: 6 × 36</caption>\n",
       "<thead>\n",
       "\t<tr><th scope=col>country</th><th scope=col>Year</th><th scope=col>Freedom_index</th><th scope=col>year</th><th scope=col>IndicatorCode</th><th scope=col>Indicator</th><th scope=col>ValueType</th><th scope=col>ParentLocationCode</th><th scope=col>ParentLocation</th><th scope=col>Location type</th><th scope=col>⋯</th><th scope=col>FactValueUoM</th><th scope=col>FactValueNumericLowPrefix</th><th scope=col>FactValueNumericLow</th><th scope=col>FactValueNumericHighPrefix</th><th scope=col>FactValueNumericHigh</th><th scope=col>Value</th><th scope=col>FactValueTranslationID</th><th scope=col>FactComments</th><th scope=col>Language</th><th scope=col>DateModified</th></tr>\n",
       "\t<tr><th scope=col>&lt;chr&gt;</th><th scope=col>&lt;chr&gt;</th><th scope=col>&lt;fct&gt;</th><th scope=col>&lt;fct&gt;</th><th scope=col>&lt;chr&gt;</th><th scope=col>&lt;chr&gt;</th><th scope=col>&lt;chr&gt;</th><th scope=col>&lt;chr&gt;</th><th scope=col>&lt;chr&gt;</th><th scope=col>&lt;chr&gt;</th><th scope=col>⋯</th><th scope=col>&lt;lgl&gt;</th><th scope=col>&lt;lgl&gt;</th><th scope=col>&lt;dbl&gt;</th><th scope=col>&lt;lgl&gt;</th><th scope=col>&lt;dbl&gt;</th><th scope=col>&lt;chr&gt;</th><th scope=col>&lt;dbl&gt;</th><th scope=col>&lt;chr&gt;</th><th scope=col>&lt;chr&gt;</th><th scope=col>&lt;dttm&gt;</th></tr>\n",
       "</thead>\n",
       "<tbody>\n",
       "\t<tr><td>Afghanistan</td><td>1975</td><td>7</td><td>1975</td><td>NCD_BMI_MEAN</td><td>Mean BMI (kg/m²) (age-standardized estimate)</td><td>numeric</td><td>EMR</td><td>Eastern Mediterranean</td><td>Country</td><td>⋯</td><td>NA</td><td>NA</td><td>15.8</td><td>NA</td><td>21.9</td><td>18.9 [15.8 – 21.9]</td><td>NA</td><td>NA</td><td>EN</td><td>2017-09-26 11:00:00</td></tr>\n",
       "\t<tr><td>Afghanistan</td><td>1975</td><td>7</td><td>1975</td><td>NCD_BMI_MEAN</td><td>Mean BMI (kg/m²) (age-standardized estimate)</td><td>numeric</td><td>EMR</td><td>Eastern Mediterranean</td><td>Country</td><td>⋯</td><td>NA</td><td>NA</td><td>16.9</td><td>NA</td><td>21.0</td><td>18.9 [16.9 – 21]  </td><td>NA</td><td>NA</td><td>EN</td><td>2017-09-26 11:00:00</td></tr>\n",
       "\t<tr><td>Afghanistan</td><td>1975</td><td>7</td><td>1975</td><td>NCD_BMI_MEAN</td><td>Mean BMI (kg/m²) (age-standardized estimate)</td><td>numeric</td><td>EMR</td><td>Eastern Mediterranean</td><td>Country</td><td>⋯</td><td>NA</td><td>NA</td><td>16.3</td><td>NA</td><td>21.7</td><td>19 [16.3 – 21.7]  </td><td>NA</td><td>NA</td><td>EN</td><td>2017-09-26 11:00:00</td></tr>\n",
       "\t<tr><td>Afghanistan</td><td>1976</td><td>7</td><td>1976</td><td>NCD_BMI_MEAN</td><td>Mean BMI (kg/m²) (age-standardized estimate)</td><td>numeric</td><td>EMR</td><td>Eastern Mediterranean</td><td>Country</td><td>⋯</td><td>NA</td><td>NA</td><td>15.9</td><td>NA</td><td>22.0</td><td>19 [15.9 – 22]    </td><td>NA</td><td>NA</td><td>EN</td><td>2017-09-26 11:00:00</td></tr>\n",
       "\t<tr><td>Afghanistan</td><td>1976</td><td>7</td><td>1976</td><td>NCD_BMI_MEAN</td><td>Mean BMI (kg/m²) (age-standardized estimate)</td><td>numeric</td><td>EMR</td><td>Eastern Mediterranean</td><td>Country</td><td>⋯</td><td>NA</td><td>NA</td><td>17.0</td><td>NA</td><td>21.0</td><td>19 [17 – 21]      </td><td>NA</td><td>NA</td><td>EN</td><td>2017-09-26 11:00:00</td></tr>\n",
       "\t<tr><td>Afghanistan</td><td>1976</td><td>7</td><td>1976</td><td>NCD_BMI_MEAN</td><td>Mean BMI (kg/m²) (age-standardized estimate)</td><td>numeric</td><td>EMR</td><td>Eastern Mediterranean</td><td>Country</td><td>⋯</td><td>NA</td><td>NA</td><td>16.5</td><td>NA</td><td>21.7</td><td>19.1 [16.5 – 21.7]</td><td>NA</td><td>NA</td><td>EN</td><td>2017-09-26 11:00:00</td></tr>\n",
       "</tbody>\n",
       "</table>\n"
      ],
      "text/latex": [
       "A tibble: 6 × 36\n",
       "\\begin{tabular}{lllllllllllllllllllll}\n",
       " country & Year & Freedom\\_index & year & IndicatorCode & Indicator & ValueType & ParentLocationCode & ParentLocation & Location type & ⋯ & FactValueUoM & FactValueNumericLowPrefix & FactValueNumericLow & FactValueNumericHighPrefix & FactValueNumericHigh & Value & FactValueTranslationID & FactComments & Language & DateModified\\\\\n",
       " <chr> & <chr> & <fct> & <fct> & <chr> & <chr> & <chr> & <chr> & <chr> & <chr> & ⋯ & <lgl> & <lgl> & <dbl> & <lgl> & <dbl> & <chr> & <dbl> & <chr> & <chr> & <dttm>\\\\\n",
       "\\hline\n",
       "\t Afghanistan & 1975 & 7 & 1975 & NCD\\_BMI\\_MEAN & Mean BMI (kg/m²) (age-standardized estimate) & numeric & EMR & Eastern Mediterranean & Country & ⋯ & NA & NA & 15.8 & NA & 21.9 & 18.9 {[}15.8 – 21.9{]} & NA & NA & EN & 2017-09-26 11:00:00\\\\\n",
       "\t Afghanistan & 1975 & 7 & 1975 & NCD\\_BMI\\_MEAN & Mean BMI (kg/m²) (age-standardized estimate) & numeric & EMR & Eastern Mediterranean & Country & ⋯ & NA & NA & 16.9 & NA & 21.0 & 18.9 {[}16.9 – 21{]}   & NA & NA & EN & 2017-09-26 11:00:00\\\\\n",
       "\t Afghanistan & 1975 & 7 & 1975 & NCD\\_BMI\\_MEAN & Mean BMI (kg/m²) (age-standardized estimate) & numeric & EMR & Eastern Mediterranean & Country & ⋯ & NA & NA & 16.3 & NA & 21.7 & 19 {[}16.3 – 21.7{]}   & NA & NA & EN & 2017-09-26 11:00:00\\\\\n",
       "\t Afghanistan & 1976 & 7 & 1976 & NCD\\_BMI\\_MEAN & Mean BMI (kg/m²) (age-standardized estimate) & numeric & EMR & Eastern Mediterranean & Country & ⋯ & NA & NA & 15.9 & NA & 22.0 & 19 {[}15.9 – 22{]}     & NA & NA & EN & 2017-09-26 11:00:00\\\\\n",
       "\t Afghanistan & 1976 & 7 & 1976 & NCD\\_BMI\\_MEAN & Mean BMI (kg/m²) (age-standardized estimate) & numeric & EMR & Eastern Mediterranean & Country & ⋯ & NA & NA & 17.0 & NA & 21.0 & 19 {[}17 – 21{]}       & NA & NA & EN & 2017-09-26 11:00:00\\\\\n",
       "\t Afghanistan & 1976 & 7 & 1976 & NCD\\_BMI\\_MEAN & Mean BMI (kg/m²) (age-standardized estimate) & numeric & EMR & Eastern Mediterranean & Country & ⋯ & NA & NA & 16.5 & NA & 21.7 & 19.1 {[}16.5 – 21.7{]} & NA & NA & EN & 2017-09-26 11:00:00\\\\\n",
       "\\end{tabular}\n"
      ],
      "text/markdown": [
       "\n",
       "A tibble: 6 × 36\n",
       "\n",
       "| country &lt;chr&gt; | Year &lt;chr&gt; | Freedom_index &lt;fct&gt; | year &lt;fct&gt; | IndicatorCode &lt;chr&gt; | Indicator &lt;chr&gt; | ValueType &lt;chr&gt; | ParentLocationCode &lt;chr&gt; | ParentLocation &lt;chr&gt; | Location type &lt;chr&gt; | ⋯ ⋯ | FactValueUoM &lt;lgl&gt; | FactValueNumericLowPrefix &lt;lgl&gt; | FactValueNumericLow &lt;dbl&gt; | FactValueNumericHighPrefix &lt;lgl&gt; | FactValueNumericHigh &lt;dbl&gt; | Value &lt;chr&gt; | FactValueTranslationID &lt;dbl&gt; | FactComments &lt;chr&gt; | Language &lt;chr&gt; | DateModified &lt;dttm&gt; |\n",
       "|---|---|---|---|---|---|---|---|---|---|---|---|---|---|---|---|---|---|---|---|---|\n",
       "| Afghanistan | 1975 | 7 | 1975 | NCD_BMI_MEAN | Mean BMI (kg/m²) (age-standardized estimate) | numeric | EMR | Eastern Mediterranean | Country | ⋯ | NA | NA | 15.8 | NA | 21.9 | 18.9 [15.8 – 21.9] | NA | NA | EN | 2017-09-26 11:00:00 |\n",
       "| Afghanistan | 1975 | 7 | 1975 | NCD_BMI_MEAN | Mean BMI (kg/m²) (age-standardized estimate) | numeric | EMR | Eastern Mediterranean | Country | ⋯ | NA | NA | 16.9 | NA | 21.0 | 18.9 [16.9 – 21]   | NA | NA | EN | 2017-09-26 11:00:00 |\n",
       "| Afghanistan | 1975 | 7 | 1975 | NCD_BMI_MEAN | Mean BMI (kg/m²) (age-standardized estimate) | numeric | EMR | Eastern Mediterranean | Country | ⋯ | NA | NA | 16.3 | NA | 21.7 | 19 [16.3 – 21.7]   | NA | NA | EN | 2017-09-26 11:00:00 |\n",
       "| Afghanistan | 1976 | 7 | 1976 | NCD_BMI_MEAN | Mean BMI (kg/m²) (age-standardized estimate) | numeric | EMR | Eastern Mediterranean | Country | ⋯ | NA | NA | 15.9 | NA | 22.0 | 19 [15.9 – 22]     | NA | NA | EN | 2017-09-26 11:00:00 |\n",
       "| Afghanistan | 1976 | 7 | 1976 | NCD_BMI_MEAN | Mean BMI (kg/m²) (age-standardized estimate) | numeric | EMR | Eastern Mediterranean | Country | ⋯ | NA | NA | 17.0 | NA | 21.0 | 19 [17 – 21]       | NA | NA | EN | 2017-09-26 11:00:00 |\n",
       "| Afghanistan | 1976 | 7 | 1976 | NCD_BMI_MEAN | Mean BMI (kg/m²) (age-standardized estimate) | numeric | EMR | Eastern Mediterranean | Country | ⋯ | NA | NA | 16.5 | NA | 21.7 | 19.1 [16.5 – 21.7] | NA | NA | EN | 2017-09-26 11:00:00 |\n",
       "\n"
      ],
      "text/plain": [
       "  country     Year Freedom_index year IndicatorCode\n",
       "1 Afghanistan 1975 7             1975 NCD_BMI_MEAN \n",
       "2 Afghanistan 1975 7             1975 NCD_BMI_MEAN \n",
       "3 Afghanistan 1975 7             1975 NCD_BMI_MEAN \n",
       "4 Afghanistan 1976 7             1976 NCD_BMI_MEAN \n",
       "5 Afghanistan 1976 7             1976 NCD_BMI_MEAN \n",
       "6 Afghanistan 1976 7             1976 NCD_BMI_MEAN \n",
       "  Indicator                                    ValueType ParentLocationCode\n",
       "1 Mean BMI (kg/m²) (age-standardized estimate) numeric   EMR               \n",
       "2 Mean BMI (kg/m²) (age-standardized estimate) numeric   EMR               \n",
       "3 Mean BMI (kg/m²) (age-standardized estimate) numeric   EMR               \n",
       "4 Mean BMI (kg/m²) (age-standardized estimate) numeric   EMR               \n",
       "5 Mean BMI (kg/m²) (age-standardized estimate) numeric   EMR               \n",
       "6 Mean BMI (kg/m²) (age-standardized estimate) numeric   EMR               \n",
       "  ParentLocation        Location type ⋯ FactValueUoM FactValueNumericLowPrefix\n",
       "1 Eastern Mediterranean Country       ⋯ NA           NA                       \n",
       "2 Eastern Mediterranean Country       ⋯ NA           NA                       \n",
       "3 Eastern Mediterranean Country       ⋯ NA           NA                       \n",
       "4 Eastern Mediterranean Country       ⋯ NA           NA                       \n",
       "5 Eastern Mediterranean Country       ⋯ NA           NA                       \n",
       "6 Eastern Mediterranean Country       ⋯ NA           NA                       \n",
       "  FactValueNumericLow FactValueNumericHighPrefix FactValueNumericHigh\n",
       "1 15.8                NA                         21.9                \n",
       "2 16.9                NA                         21.0                \n",
       "3 16.3                NA                         21.7                \n",
       "4 15.9                NA                         22.0                \n",
       "5 17.0                NA                         21.0                \n",
       "6 16.5                NA                         21.7                \n",
       "  Value              FactValueTranslationID FactComments Language\n",
       "1 18.9 [15.8 – 21.9] NA                     NA           EN      \n",
       "2 18.9 [16.9 – 21]   NA                     NA           EN      \n",
       "3 19 [16.3 – 21.7]   NA                     NA           EN      \n",
       "4 19 [15.9 – 22]     NA                     NA           EN      \n",
       "5 19 [17 – 21]       NA                     NA           EN      \n",
       "6 19.1 [16.5 – 21.7] NA                     NA           EN      \n",
       "  DateModified       \n",
       "1 2017-09-26 11:00:00\n",
       "2 2017-09-26 11:00:00\n",
       "3 2017-09-26 11:00:00\n",
       "4 2017-09-26 11:00:00\n",
       "5 2017-09-26 11:00:00\n",
       "6 2017-09-26 11:00:00"
      ]
     },
     "metadata": {},
     "output_type": "display_data"
    }
   ],
   "source": [
    "#need to iterate over the dataframe to keep 3 rows and then skip the next 6\n",
    "\n",
    "num_rows <- nrow(merged_df)\n",
    "result <- data.frame()\n",
    "\n",
    "rows_to_keep <- 3\n",
    "rows_to_skip <- 6\n",
    "\n",
    "for (i in seq(1, num_rows, by = rows_to_keep + rows_to_skip)) {\n",
    "  #select the current subset of rows\n",
    "  current_subset <- merged_df[i:(i + rows_to_keep - 1), ]\n",
    "  \n",
    "  #append the subset to the result dataframe\n",
    "  result <- rbind(result, current_subset)\n",
    "}\n",
    "\n",
    "head(result)"
   ]
  },
  {
   "cell_type": "code",
   "execution_count": 10,
   "id": "069968c2-6c92-4e0d-a745-7e12dbb505fe",
   "metadata": {
    "tags": []
   },
   "outputs": [],
   "source": [
    "#want to rename the columns so will remove all spaces and replace them with '_'\n",
    "\n",
    "for (col in colnames(result)) {\n",
    "  new_col_name <- gsub(\" \", \"_\", col)\n",
    "  colnames(result)[colnames(result) == col] <- new_col_name\n",
    "}"
   ]
  },
  {
   "cell_type": "code",
   "execution_count": 11,
   "id": "3758b636-4702-45ac-a377-fb7fc2c07be5",
   "metadata": {
    "tags": []
   },
   "outputs": [],
   "source": [
    "#renaming the columns and adjusting datatypes\n",
    "result = result %>%\n",
    "    mutate(year = Year, \n",
    "           region_code = as.factor(ParentLocationCode),\n",
    "           country_code = as.factor(SpatialDimValueCode),\n",
    "           region = as.factor(ParentLocation),\n",
    "           gender = as.factor(Dim1),\n",
    "           age = as.factor(Dim2),\n",
    "           bmi_ave = FactValueNumeric,\n",
    "           bmi_low = FactValueNumericLow,\n",
    "            bmi_high = FactValueNumericHigh\n",
    "           \n",
    "           \n",
    "    )"
   ]
  },
  {
   "cell_type": "code",
   "execution_count": 12,
   "id": "13321231-f074-4150-91d5-fd7ee13df101",
   "metadata": {
    "tags": []
   },
   "outputs": [
    {
     "data": {
      "text/html": [
       "<table class=\"dataframe\">\n",
       "<caption>A tibble: 3 × 10</caption>\n",
       "<thead>\n",
       "\t<tr><th scope=col>year</th><th scope=col>country</th><th scope=col>Freedom_index</th><th scope=col>region</th><th scope=col>region_code</th><th scope=col>country_code</th><th scope=col>gender</th><th scope=col>bmi_ave</th><th scope=col>bmi_low</th><th scope=col>bmi_high</th></tr>\n",
       "\t<tr><th scope=col>&lt;chr&gt;</th><th scope=col>&lt;chr&gt;</th><th scope=col>&lt;fct&gt;</th><th scope=col>&lt;fct&gt;</th><th scope=col>&lt;fct&gt;</th><th scope=col>&lt;fct&gt;</th><th scope=col>&lt;fct&gt;</th><th scope=col>&lt;dbl&gt;</th><th scope=col>&lt;dbl&gt;</th><th scope=col>&lt;dbl&gt;</th></tr>\n",
       "</thead>\n",
       "<tbody>\n",
       "\t<tr><td>1975</td><td>Afghanistan</td><td>7</td><td>Eastern Mediterranean</td><td>EMR</td><td>AFG</td><td>Female    </td><td>18.9</td><td>15.8</td><td>21.9</td></tr>\n",
       "\t<tr><td>1975</td><td>Afghanistan</td><td>7</td><td>Eastern Mediterranean</td><td>EMR</td><td>AFG</td><td>Both sexes</td><td>18.9</td><td>16.9</td><td>21.0</td></tr>\n",
       "\t<tr><td>1975</td><td>Afghanistan</td><td>7</td><td>Eastern Mediterranean</td><td>EMR</td><td>AFG</td><td>Male      </td><td>19.0</td><td>16.3</td><td>21.7</td></tr>\n",
       "</tbody>\n",
       "</table>\n"
      ],
      "text/latex": [
       "A tibble: 3 × 10\n",
       "\\begin{tabular}{llllllllll}\n",
       " year & country & Freedom\\_index & region & region\\_code & country\\_code & gender & bmi\\_ave & bmi\\_low & bmi\\_high\\\\\n",
       " <chr> & <chr> & <fct> & <fct> & <fct> & <fct> & <fct> & <dbl> & <dbl> & <dbl>\\\\\n",
       "\\hline\n",
       "\t 1975 & Afghanistan & 7 & Eastern Mediterranean & EMR & AFG & Female     & 18.9 & 15.8 & 21.9\\\\\n",
       "\t 1975 & Afghanistan & 7 & Eastern Mediterranean & EMR & AFG & Both sexes & 18.9 & 16.9 & 21.0\\\\\n",
       "\t 1975 & Afghanistan & 7 & Eastern Mediterranean & EMR & AFG & Male       & 19.0 & 16.3 & 21.7\\\\\n",
       "\\end{tabular}\n"
      ],
      "text/markdown": [
       "\n",
       "A tibble: 3 × 10\n",
       "\n",
       "| year &lt;chr&gt; | country &lt;chr&gt; | Freedom_index &lt;fct&gt; | region &lt;fct&gt; | region_code &lt;fct&gt; | country_code &lt;fct&gt; | gender &lt;fct&gt; | bmi_ave &lt;dbl&gt; | bmi_low &lt;dbl&gt; | bmi_high &lt;dbl&gt; |\n",
       "|---|---|---|---|---|---|---|---|---|---|\n",
       "| 1975 | Afghanistan | 7 | Eastern Mediterranean | EMR | AFG | Female     | 18.9 | 15.8 | 21.9 |\n",
       "| 1975 | Afghanistan | 7 | Eastern Mediterranean | EMR | AFG | Both sexes | 18.9 | 16.9 | 21.0 |\n",
       "| 1975 | Afghanistan | 7 | Eastern Mediterranean | EMR | AFG | Male       | 19.0 | 16.3 | 21.7 |\n",
       "\n"
      ],
      "text/plain": [
       "  year country     Freedom_index region                region_code country_code\n",
       "1 1975 Afghanistan 7             Eastern Mediterranean EMR         AFG         \n",
       "2 1975 Afghanistan 7             Eastern Mediterranean EMR         AFG         \n",
       "3 1975 Afghanistan 7             Eastern Mediterranean EMR         AFG         \n",
       "  gender     bmi_ave bmi_low bmi_high\n",
       "1 Female     18.9    15.8    21.9    \n",
       "2 Both sexes 18.9    16.9    21.0    \n",
       "3 Male       19.0    16.3    21.7    "
      ]
     },
     "metadata": {},
     "output_type": "display_data"
    }
   ],
   "source": [
    "#keep the relevant rows\n",
    "dff = result %>%\n",
    "    select(year, country, Freedom_index, region, \n",
    "       region_code, country_code, gender, \n",
    "           bmi_ave, bmi_low, bmi_high,\n",
    "       )\n",
    "       \n",
    "head(dff, 3)"
   ]
  },
  {
   "cell_type": "code",
   "execution_count": 13,
   "id": "ba88ed4a-b867-43f6-a5d6-f4ba97c7c820",
   "metadata": {
    "tags": []
   },
   "outputs": [
    {
     "name": "stdout",
     "output_type": "stream",
     "text": [
      "Rows: 21,576\n",
      "Columns: 10\n",
      "$ year          \u001b[3m\u001b[90m<chr>\u001b[39m\u001b[23m \"1975\", \"1975\", \"1975\", \"1976\", \"1976\", \"1976\", \"1977\", …\n",
      "$ country       \u001b[3m\u001b[90m<chr>\u001b[39m\u001b[23m \"Afghanistan\", \"Afghanistan\", \"Afghanistan\", \"Afghanista…\n",
      "$ Freedom_index \u001b[3m\u001b[90m<fct>\u001b[39m\u001b[23m 7, 7, 7, 7, 7, 7, 6, 6, 6, 7, 7, 7, 7, 7, 7, 7, 7, 7, 7,…\n",
      "$ region        \u001b[3m\u001b[90m<fct>\u001b[39m\u001b[23m Eastern Mediterranean, Eastern Mediterranean, Eastern Me…\n",
      "$ region_code   \u001b[3m\u001b[90m<fct>\u001b[39m\u001b[23m EMR, EMR, EMR, EMR, EMR, EMR, EMR, EMR, EMR, EMR, EMR, E…\n",
      "$ country_code  \u001b[3m\u001b[90m<fct>\u001b[39m\u001b[23m AFG, AFG, AFG, AFG, AFG, AFG, AFG, AFG, AFG, AFG, AFG, A…\n",
      "$ gender        \u001b[3m\u001b[90m<fct>\u001b[39m\u001b[23m Female, Both sexes, Male, Female, Both sexes, Male, Fema…\n",
      "$ bmi_ave       \u001b[3m\u001b[90m<dbl>\u001b[39m\u001b[23m 18.9, 18.9, 19.0, 19.0, 19.0, 19.1, 19.1, 19.2, 19.2, 19…\n",
      "$ bmi_low       \u001b[3m\u001b[90m<dbl>\u001b[39m\u001b[23m 15.8, 16.9, 16.3, 15.9, 17.0, 16.5, 16.2, 16.6, 17.2, 16…\n",
      "$ bmi_high      \u001b[3m\u001b[90m<dbl>\u001b[39m\u001b[23m 21.9, 21.0, 21.7, 22.0, 21.0, 21.7, 22.0, 21.8, 21.1, 22…\n"
     ]
    },
    {
     "data": {
      "text/plain": [
       "     year             country          Freedom_index \n",
       " Length:21576       Length:21576       1      :5568  \n",
       " Class :character   Class :character   6      :3621  \n",
       " Mode  :character   Mode  :character   2      :3183  \n",
       "                                       7      :3006  \n",
       "                                       5      :2184  \n",
       "                                       3      :2070  \n",
       "                                       (Other):1944  \n",
       "                   region     region_code  country_code          gender    \n",
       " Africa               :5460   AFR :5460   AFG    :  123   Both sexes:7192  \n",
       " Americas             :4215   AMR :4215   AGO    :  123   Female    :7192  \n",
       " Eastern Mediterranean:2577   EMR :2577   ALB    :  123   Male      :7192  \n",
       " Europe               :5172   EUR :5172   ARE    :  123                    \n",
       " South-East Asia      :1284   SEAR:1284   ARG    :  123                    \n",
       " Western Pacific      :2868   WPR :2868   AUS    :  123                    \n",
       "                                          (Other):20838                    \n",
       "    bmi_ave         bmi_low         bmi_high    \n",
       " Min.   :16.50   Min.   :14.40   Min.   :18.60  \n",
       " 1st Qu.:22.20   1st Qu.:21.10   1st Qu.:23.20  \n",
       " Median :24.50   Median :23.50   Median :25.40  \n",
       " Mean   :24.18   Mean   :23.17   Mean   :25.19  \n",
       " 3rd Qu.:26.00   3rd Qu.:25.20   3rd Qu.:26.80  \n",
       " Max.   :34.10   Max.   :33.50   Max.   :35.00  \n",
       " NA's   :300     NA's   :300     NA's   :300    "
      ]
     },
     "metadata": {},
     "output_type": "display_data"
    },
    {
     "data": {
      "image/png": "[encoded data removed]",
      "text/plain": [
       "plot without title"
      ]
     },
     "metadata": {
      "image/png": {
       "height": 420,
       "width": 420
      }
     },
     "output_type": "display_data"
    }
   ],
   "source": [
    "#check the results\n",
    "dff %>%\n",
    "    glimpse() %>%\n",
    "    vis_dat() \n",
    "summary(dff)\n"
   ]
  }
 ],
 "metadata": {
  "kernelspec": {
   "display_name": "R",
   "language": "R",
   "name": "ir"
  },
  "language_info": {
   "codemirror_mode": "r",
   "file_extension": ".r",
   "mimetype": "text/x-r-source",
   "name": "R",
   "pygments_lexer": "r",
   "version": "4.3.1"
  }
 },
 "nbformat": 4,
 "nbformat_minor": 5
}
