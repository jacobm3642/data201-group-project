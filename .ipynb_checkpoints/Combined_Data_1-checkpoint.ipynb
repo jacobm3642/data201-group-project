{
 "cells": [
  {
   "cell_type": "markdown",
   "id": "140e6168-8bfc-404a-8a4f-8ef81b99e8e9",
   "metadata": {},
   "source": [
    "Packages"
   ]
  },
  {
   "cell_type": "code",
   "execution_count": 1,
   "id": "6e11d3a8-439a-469f-b504-265ce0767644",
   "metadata": {
    "tags": []
   },
   "outputs": [
    {
     "name": "stderr",
     "output_type": "stream",
     "text": [
      "── \u001b[1mAttaching core tidyverse packages\u001b[22m ──────────────────────── tidyverse 2.0.0 ──\n",
      "\u001b[32m✔\u001b[39m \u001b[34mdplyr    \u001b[39m 1.1.2     \u001b[32m✔\u001b[39m \u001b[34mreadr    \u001b[39m 2.1.4\n",
      "\u001b[32m✔\u001b[39m \u001b[34mforcats  \u001b[39m 1.0.0     \u001b[32m✔\u001b[39m \u001b[34mstringr  \u001b[39m 1.5.0\n",
      "\u001b[32m✔\u001b[39m \u001b[34mggplot2  \u001b[39m 3.4.3     \u001b[32m✔\u001b[39m \u001b[34mtibble   \u001b[39m 3.2.1\n",
      "\u001b[32m✔\u001b[39m \u001b[34mlubridate\u001b[39m 1.9.2     \u001b[32m✔\u001b[39m \u001b[34mtidyr    \u001b[39m 1.3.0\n",
      "\u001b[32m✔\u001b[39m \u001b[34mpurrr    \u001b[39m 1.0.1     \n",
      "── \u001b[1mConflicts\u001b[22m ────────────────────────────────────────── tidyverse_conflicts() ──\n",
      "\u001b[31m✖\u001b[39m \u001b[34mdplyr\u001b[39m::\u001b[32mfilter()\u001b[39m         masks \u001b[34mstats\u001b[39m::filter()\n",
      "\u001b[31m✖\u001b[39m \u001b[34mreadr\u001b[39m::\u001b[32mguess_encoding()\u001b[39m masks \u001b[34mrvest\u001b[39m::guess_encoding()\n",
      "\u001b[31m✖\u001b[39m \u001b[34mdplyr\u001b[39m::\u001b[32mlag()\u001b[39m            masks \u001b[34mstats\u001b[39m::lag()\n",
      "\u001b[36mℹ\u001b[39m Use the conflicted package (\u001b[3m\u001b[34m<http://conflicted.r-lib.org/>\u001b[39m\u001b[23m) to force all conflicts to become errors\n",
      "\n",
      "Attaching package: 'magrittr'\n",
      "\n",
      "\n",
      "The following object is masked from 'package:purrr':\n",
      "\n",
      "    set_names\n",
      "\n",
      "\n",
      "The following object is masked from 'package:tidyr':\n",
      "\n",
      "    extract\n",
      "\n",
      "\n",
      "\n",
      "Attaching package: 'jsonlite'\n",
      "\n",
      "\n",
      "The following object is masked from 'package:purrr':\n",
      "\n",
      "    flatten\n",
      "\n",
      "\n",
      "Linking to GEOS 3.11.2, GDAL 3.6.2, PROJ 9.2.0; sf_use_s2() is TRUE\n",
      "\n",
      "The legacy packages maptools, rgdal, and rgeos, underpinning the sp package,\n",
      "which was just loaded, were retired in October 2023.\n",
      "Please refer to R-spatial evolution reports for details, especially\n",
      "https://r-spatial.org/r/2023/05/15/evolution4.html.\n",
      "It may be desirable to make the sf package available;\n",
      "package maintainers should consider adding sf to Suggests:.\n",
      "\n",
      "Support for Spatial objects (`sp`) will be deprecated in {rnaturalearth} and will be removed in a future release of the package. Please use `sf` objects with {rnaturalearth}. For example: `ne_download(returnclass = 'sf')`\n",
      "\n",
      "Registered S3 method overwritten by 'geojsonsf':\n",
      "  method        from   \n",
      "  print.geojson geojson\n",
      "\n",
      "\n",
      "Attaching package: 'geojsonio'\n",
      "\n",
      "\n",
      "The following object is masked from 'package:base':\n",
      "\n",
      "    pretty\n",
      "\n",
      "\n"
     ]
    }
   ],
   "source": [
    "#loading packages - there are lots and at this point I'm afraid my code will break if I remove any of them\n",
    "library(rvest)\n",
    "library(tidyverse)\n",
    "library(dplyr)\n",
    "library(ggplot2)\n",
    "library(magrittr) \n",
    "library(purrr) \n",
    "library(glue)\n",
    "library(stringr) \n",
    "library(httr)\n",
    "library(jsonlite)\n",
    "library(gapminder)\n",
    "library(readxl)\n",
    "library(lubridate)\n",
    "library(visdat)\n",
    "library(writexl)\n",
    "library(visdat)\n",
    "library(sf) #working with geographic simple features in R\n",
    "library(rnaturalearth) #world map data from Natural Earth\n",
    "library(countrycode) #get ISO code from country names\n",
    "library(ggrepel) #\"ggplot2\" extension for overlapping text labels\n",
    "library(geojsonio)\n",
    "\n",
    "library(skimr)"
   ]
  },
  {
   "cell_type": "markdown",
   "id": "ff929aee-2959-481b-9c40-d87e3d47a41f",
   "metadata": {},
   "source": [
    "Bringing in local data"
   ]
  },
  {
   "cell_type": "code",
   "execution_count": 2,
   "id": "6e8fd7f6-4230-4801-9ecd-a3dfd57f4b21",
   "metadata": {
    "tags": []
   },
   "outputs": [],
   "source": [
    "#freedom index data\n",
    "df_free = read_excel('polrights_fh.xlsx')\n",
    "\n",
    "#BMI data \n",
    "df_bmi = read_csv('bmi_data.csv', show_col_types = FALSE)\n",
    "\n",
    "#gini index data\n",
    "df_gini = read_csv('ddf--datapoints--gapminder_gini--by--geo--time.csv', show_col_types = FALSE) \n",
    "\n",
    "#real gdp per capita data\n",
    "df_gdp = read_csv('gdppercapita_us_inflation_adjusted.csv', show_col_types = FALSE) \n",
    "\n",
    "#sugar data\n",
    "df_sugar = read_csv('sugar_per_person_g_per_day.csv', show_col_types = FALSE) \n",
    "\n",
    "#Bring in another dataset: \n",
    "#This dataset shows the percentage of premature deaths from non communicable diseases\n",
    "# such as cancers, cardiovascular disease, diabetes and chronic lung illnesses.\n",
    "\n",
    "premature_deaths <- read.csv('prematurencddeaths.csv')"
   ]
  },
  {
   "cell_type": "markdown",
   "id": "2cde9a8e-8cca-4776-ae3f-ae74584c0994",
   "metadata": {},
   "source": [
    "bringing in country info from github"
   ]
  },
  {
   "cell_type": "code",
   "execution_count": 3,
   "id": "6422bf61-5449-4ca4-b234-c507ae18abe3",
   "metadata": {
    "tags": []
   },
   "outputs": [],
   "source": [
    "country_codes = fromJSON('https://gist.githubusercontent.com/bensquire/1ba2037079b69e38bb0d6aea4c4a0229/raw/8609a1a86683bbd6d0e4a7e9456eabf6e7b65b7f/countries.json')\n",
    "\n",
    "df_countries = country_codes %>% #converting to dataframe and renaming variables\n",
    "    mutate(country_code = code,\n",
    "           country = name) %>%\n",
    "    select(country_code, country, eu)"
   ]
  },
  {
   "cell_type": "code",
   "execution_count": 4,
   "id": "4430ed01-7fdf-4b94-bd86-7ab7e22124c4",
   "metadata": {
    "tags": []
   },
   "outputs": [],
   "source": [
    "#this function allows a quick look at the contents of a dataframe\n",
    "#just type it as quick_viz('dataframe name goes here')\n",
    "\n",
    "quick_viz = function(dataframe) {\n",
    "dataframe %>%\n",
    "    glimpse() %>%\n",
    "    vis_dat() \n",
    "    }"
   ]
  },
  {
   "cell_type": "code",
   "execution_count": 5,
   "id": "b2d77ee0-2800-434e-9ab7-dbd1f9cbe648",
   "metadata": {
    "tags": []
   },
   "outputs": [
    {
     "data": {
      "text/html": [
       "<table class=\"dataframe\">\n",
       "<caption>A data.frame: 1 × 9</caption>\n",
       "<thead>\n",
       "\t<tr><th></th><th scope=col>year</th><th scope=col>country</th><th scope=col>country_code</th><th scope=col>region</th><th scope=col>region_code</th><th scope=col>gender</th><th scope=col>min_deaths</th><th scope=col>max_deaths</th><th scope=col>deaths</th></tr>\n",
       "\t<tr><th></th><th scope=col>&lt;dbl&gt;</th><th scope=col>&lt;chr&gt;</th><th scope=col>&lt;chr&gt;</th><th scope=col>&lt;fct&gt;</th><th scope=col>&lt;fct&gt;</th><th scope=col>&lt;fct&gt;</th><th scope=col>&lt;dbl&gt;</th><th scope=col>&lt;dbl&gt;</th><th scope=col>&lt;dbl&gt;</th></tr>\n",
       "</thead>\n",
       "<tbody>\n",
       "\t<tr><th scope=row>1</th><td>2019</td><td>Japan</td><td>JPN</td><td>Western Pacific</td><td>WPR</td><td>Female</td><td>9.07</td><td>12.2</td><td>10.42</td></tr>\n",
       "</tbody>\n",
       "</table>\n"
      ],
      "text/latex": [
       "A data.frame: 1 × 9\n",
       "\\begin{tabular}{r|lllllllll}\n",
       "  & year & country & country\\_code & region & region\\_code & gender & min\\_deaths & max\\_deaths & deaths\\\\\n",
       "  & <dbl> & <chr> & <chr> & <fct> & <fct> & <fct> & <dbl> & <dbl> & <dbl>\\\\\n",
       "\\hline\n",
       "\t1 & 2019 & Japan & JPN & Western Pacific & WPR & Female & 9.07 & 12.2 & 10.42\\\\\n",
       "\\end{tabular}\n"
      ],
      "text/markdown": [
       "\n",
       "A data.frame: 1 × 9\n",
       "\n",
       "| <!--/--> | year &lt;dbl&gt; | country &lt;chr&gt; | country_code &lt;chr&gt; | region &lt;fct&gt; | region_code &lt;fct&gt; | gender &lt;fct&gt; | min_deaths &lt;dbl&gt; | max_deaths &lt;dbl&gt; | deaths &lt;dbl&gt; |\n",
       "|---|---|---|---|---|---|---|---|---|---|\n",
       "| 1 | 2019 | Japan | JPN | Western Pacific | WPR | Female | 9.07 | 12.2 | 10.42 |\n",
       "\n"
      ],
      "text/plain": [
       "  year country country_code region          region_code gender min_deaths\n",
       "1 2019 Japan   JPN          Western Pacific WPR         Female 9.07      \n",
       "  max_deaths deaths\n",
       "1 12.2       10.42 "
      ]
     },
     "metadata": {},
     "output_type": "display_data"
    }
   ],
   "source": [
    "#editing premature deaths dataframe so that it can merge with the bmi dataset\n",
    "premature_deaths = premature_deaths %>%\n",
    "  mutate(\n",
    "    gender_code = case_when(\n",
    "      gender_code %in% 'FMLE' ~ \"Female\",\n",
    "      gender_code %in% 'MLE' ~ \"Male\",\n",
    "      gender_code %in% 'BTSX' ~ \"Other\")) #need to match on sex, so have to recode to what I used for the BMI data\n",
    "\n",
    "\n",
    "premature_deaths = premature_deaths %>%\n",
    "    mutate(country_code = location_code, #once again, ensuring that the column names are the same\n",
    "           country = location,\n",
    "           year = as.numeric(period),\n",
    "           gender = as.factor(gender_code),\n",
    "           region = as.factor(region),\n",
    "           region_code = as.factor(region_code)) %>%\n",
    "    select(year, country, country_code, region, \n",
    "           region_code, gender, min_deaths, \n",
    "           max_deaths, deaths)\n",
    "\n",
    "premature_deaths %>% head(1)"
   ]
  },
  {
   "cell_type": "markdown",
   "id": "54202551-f12f-4fd9-b2e7-88a652cb31d7",
   "metadata": {},
   "source": [
    "Pivoting some data to match target format"
   ]
  },
  {
   "cell_type": "code",
   "execution_count": 6,
   "id": "93b8f9c7-8224-4e70-a275-6f312b972c13",
   "metadata": {
    "tags": []
   },
   "outputs": [],
   "source": [
    "#the gini coefficient data \n",
    "pivot_free = df_free %>%\n",
    "    pivot_longer(cols = -country, names_to='year', #pivoting the data\n",
    "                 values_to='Freedom_index')\n",
    "\n",
    "pivot_free = pivot_free %>%\n",
    "    filter(year > 1974, year < 2017) %>% #filtering to the same timespan\n",
    "    mutate(Freedom_index = as.factor(Freedom_index),\n",
    "          year = as.numeric(year))"
   ]
  },
  {
   "cell_type": "code",
   "execution_count": 7,
   "id": "e93e19c4-94c0-42e6-96cc-ef9f6832738e",
   "metadata": {
    "tags": []
   },
   "outputs": [],
   "source": [
    "#sugar consumption dataset \n",
    "pivot_sugar = df_sugar %>%\n",
    "    pivot_longer(cols = -country, names_to='year', #pivoting the data\n",
    "                 values_to='daily_sugar_pp_grams')\n",
    "\n",
    "pivot_sugar = pivot_sugar %>%\n",
    "    filter(year > 1974, year < 2017) %>% #filtering to the same timespan\n",
    "    drop_na() %>%\n",
    "    mutate(year = as.numeric(year))"
   ]
  },
  {
   "cell_type": "code",
   "execution_count": 8,
   "id": "1654617a-4c91-4e8e-847b-04e844e72d49",
   "metadata": {
    "tags": []
   },
   "outputs": [],
   "source": [
    "#gdp/capita dataset\n",
    "pivot_gdp = df_gdp %>%\n",
    "    pivot_longer(cols = -country, names_to='year', #pivoting the data\n",
    "                 values_to='GDP_per_capita')\n",
    "\n",
    "pivot_gdp = pivot_gdp %>%\n",
    "    filter(year > 1974, year < 2017) %>% #filtering to the same timespan\n",
    "    mutate(year = as.numeric(year)) "
   ]
  },
  {
   "cell_type": "markdown",
   "id": "8adef5fb-adc6-4029-92ff-420e3d90faf2",
   "metadata": {},
   "source": [
    "**Now it is time to clean some data** - the goal is to merge all of the data together.  \n",
    "\n",
    "This will require changing column names and data types"
   ]
  },
  {
   "cell_type": "code",
   "execution_count": null,
   "id": "d4e762cf-6559-472d-8c8c-ea66b1ed87e4",
   "metadata": {},
   "outputs": [],
   "source": []
  },
  {
   "cell_type": "markdown",
   "id": "50300fa1-2c58-4a0f-940e-518a6c156022",
   "metadata": {},
   "source": [
    "Cleaning the gdp data, converting the GDP measures into the right data format"
   ]
  },
  {
   "cell_type": "code",
   "execution_count": 9,
   "id": "b941ac63-7a0e-410c-bf1a-804c8c22b934",
   "metadata": {
    "tags": []
   },
   "outputs": [],
   "source": [
    "pivot_gdp <- pivot_gdp %>% \n",
    "  mutate(GDP_per_capita = as.numeric(str_replace_all(GDP_per_capita, \n",
    "                c( '\\\\.' = '', 'k' = '000')))) #replacing string representation of 'thousands'"
   ]
  },
  {
   "cell_type": "markdown",
   "id": "b7b0db9b-04bb-40ad-b62a-e4da278cec99",
   "metadata": {},
   "source": [
    "Cleaning gini dataset - rename variables, convert country_code obs to upper case"
   ]
  },
  {
   "cell_type": "code",
   "execution_count": 10,
   "id": "6696ad3e-d392-476f-998f-f00e5cfaa2fb",
   "metadata": {
    "tags": []
   },
   "outputs": [],
   "source": [
    "df_gini_clean = df_gini %>%\n",
    "    mutate(country_code = toupper(geo), #match the case of the codes\n",
    "           year = time,\n",
    "           gini = gapminder_gini) %>%\n",
    "    filter(year > 1974, year < 2017) %>%\n",
    "    select(country_code, year, gini)"
   ]
  },
  {
   "cell_type": "markdown",
   "id": "ad819474-2093-4db0-9f2a-c4564882b37a",
   "metadata": {},
   "source": [
    "Going to merge on country and year. Need to rename columns so they match"
   ]
  },
  {
   "cell_type": "code",
   "execution_count": 11,
   "id": "724ac786-0600-4b02-be41-7882e52d8607",
   "metadata": {
    "tags": []
   },
   "outputs": [],
   "source": [
    "df_bmi = df_bmi %>%\n",
    "    rename('country' = 'Location',\n",
    "           'year' = 'Period',\n",
    "            'country_code' = 'SpatialDimValueCode')"
   ]
  },
  {
   "cell_type": "markdown",
   "id": "7c2bbe8d-9d5c-417b-a9fe-93ad665bd68d",
   "metadata": {},
   "source": [
    "Ideally we would merge on country_codes, as that is a standard format.  Unfortunately, not all the datasets had these embedded, so we will merge on country until we get to the point that we can standardize.\n",
    "\n",
    "This going to require some 'hand cranking' to get started."
   ]
  },
  {
   "cell_type": "code",
   "execution_count": 12,
   "id": "a5b49e45-6090-426b-b2c6-ab03c4887107",
   "metadata": {
    "tags": []
   },
   "outputs": [],
   "source": [
    "#renaming countries so that merging works\n",
    "pivot_sugar <- pivot_sugar %>%\n",
    "  mutate(\n",
    "    country = case_when(\n",
    "      country %in% 'USA' ~ \"United States\",\n",
    "      country %in% 'Bolivia' ~ \"Bolivia, Plurinational State of\",\n",
    "      country %in% 'UK' ~ \"United Kingdom\",\n",
    "      country %in% 'Russia' ~ \"Russian Federation\",\n",
    "      country %in% 'North Korea' ~ \"Korea, Democratic People's Republic of\",\n",
    "      country %in% 'South Korea' ~ \"Korea, Republic of\",\n",
    "      country %in% 'Congo, Rep.' ~ \"Congo\",\n",
    "      country %in% 'Tanzania' ~ \"Tanzania, United Republic of\",\n",
    "      country %in% 'Vietnam' ~ \"Viet Nam\",\n",
    "      country %in% 'Taiwan' ~ \"Taiwan, Province of China\",\n",
    "      country %in% 'UAE' ~ \"United Arab Emirates\",\n",
    "      country %in% \"Czechoslovakia\" ~ \"Czech Republic\",\n",
    "      country %in% 'Cote d\\'Ivoire' ~ \"Côte d'Ivoire\",\n",
    "      country %in% 'Iran' ~ \"Iran, Islamic Republic of\",\n",
    "      country %in% 'St. Kitts and Nevis' ~ \"Saint Kitts and Nevis\",\n",
    "      country %in% 'Lao' ~ \"Lao People's Democratic Republic\",\n",
    "      country %in% 'Brunei' ~ \"Brunei Darussalam\",\n",
    "      country %in% 'Hong Kong, China' ~ \"Hong Kong\",\n",
    "      country %in% 'Kyrgyz Republic' ~ \"Kyrgyzstan\",\n",
    "      country %in% 'Macao, China' ~ \"Macao\",\n",
    "      country %in% 'Moldova' ~ \"Moldova, Republic of\",\n",
    "      country %in% 'Macedonia' ~ \"Macedonia, the former Yugoslav Republic of\",\n",
    "      country %in% 'St. Lucia' ~ \"Saint Lucia\",\n",
    "      country %in% 'St. Vincent and the Grenadines' ~ \"Saint Vincent and the Grenadines\",\n",
    "      country %in% 'Slovak Republic' ~ \"Slovakia\",\n",
    "      country %in% 'Venezuela' ~ \"Venezuela, Bolivarian Republic of\",\n",
    "      TRUE ~ country\n",
    "    )\n",
    "  )\n"
   ]
  },
  {
   "cell_type": "markdown",
   "id": "c498270f-9f5b-4f49-a82e-521fb92a9e5f",
   "metadata": {},
   "source": [
    "Now we can combine the sugar data with the country data.  This will allow us to merge it more simply in the future."
   ]
  },
  {
   "cell_type": "code",
   "execution_count": 13,
   "id": "49f7a190-ff88-408f-b443-29f83e876ac1",
   "metadata": {
    "tags": []
   },
   "outputs": [],
   "source": [
    "#this adds the pivoted sugar df with the df of all countries and iso3 codes\n",
    "\n",
    "sugar_df = inner_join(pivot_sugar, df_countries, by =('country'))\n",
    "#head(sugar_df, 1)"
   ]
  },
  {
   "cell_type": "code",
   "execution_count": 14,
   "id": "86807010-5493-45e2-91d6-f9fba4180265",
   "metadata": {
    "tags": []
   },
   "outputs": [],
   "source": [
    "#this adds the cleaned gini df to the df of all countries and iso3 codes\n",
    "\n",
    "gini_df = inner_join(df_gini_clean, df_countries, by = 'country_code')\n",
    "#head(gini_df, 1)"
   ]
  },
  {
   "cell_type": "markdown",
   "id": "0369201a-3763-44ec-8a3e-29ac11b86972",
   "metadata": {},
   "source": [
    "Now join the new gini df with the freedom index data"
   ]
  },
  {
   "cell_type": "code",
   "execution_count": 15,
   "id": "b2d468f4-2988-4e8f-bb37-ee3743f28170",
   "metadata": {
    "tags": []
   },
   "outputs": [],
   "source": [
    "#renaming countries again\n",
    "\n",
    "pivot_free <- pivot_free %>%\n",
    "  mutate(\n",
    "    country = case_when(\n",
    "      country %in% 'USA' ~ \"United States\",\n",
    "      country %in% 'Venezuela' ~ \"Venezuela, Bolivarian Republic of\",\n",
    "      country %in% 'Brunei' ~ \"Brunei Darussalam\",\n",
    "      country %in% 'UAE' ~ \"United Arab Emirates\",\n",
    "      country %in% 'Cote d\\'Ivoire' ~ \"Côte d'Ivoire\",\n",
    "      country %in% 'Congo, Rep.' ~ \"Congo\",\n",
    "      country %in% 'UK' ~ \"United Kingdom\",\n",
    "      country %in% 'Iran' ~ \"Iran, Islamic Republic of\",\n",
    "      country %in% 'Lao' ~ \"Lao People's Democratic Republic\",\n",
    "      country %in% 'St. Kitts and Nevis' ~ \"Saint Kitts and Nevis\",\n",
    "      country %in% 'South Korea' ~ \"Korea, Republic of\",\n",
    "      country %in% 'St. Lucia' ~ \"Saint Lucia\",\n",
    "      country %in% 'Moldova' ~ \"Moldova, Republic of\",\n",
    "      country %in% 'Macedonia' ~ \"Macedonia, the former Yugoslav Republic of\",\n",
    "      country %in% 'North Korea' ~ \"Korea, Democratic People's Republic of\",\n",
    "      country %in% 'Russia' ~ \"Russian Federation\",\n",
    "      country %in% 'Slovak Republic' ~ \"Slovakia\",\n",
    "      country %in% 'St. Vincent and the Grenadines' ~ \"Saint Vincent and the Grenadines\",\n",
    "      country %in% 'Vietnam' ~ \"Viet Nam\",\n",
    "      country %in% 'Bolivia' ~ \"Bolivia, Plurinational State of\",\n",
    "      country %in% 'Kyrgyz Republic' ~ \"Kyrgyzstan\",\n",
    "      country %in% 'North Macedonia' ~ \"Macedonia, the former Yugoslav Republic of\",\n",
    "      TRUE ~ country\n",
    "    )\n",
    "  )\n"
   ]
  },
  {
   "cell_type": "code",
   "execution_count": 16,
   "id": "be77dc00-24db-4b77-871e-7c59f7ae4259",
   "metadata": {
    "tags": []
   },
   "outputs": [],
   "source": [
    "#and again\n",
    "\n",
    "pivot_gdp <- pivot_gdp %>%\n",
    "  mutate(\n",
    "    country = case_when(\n",
    "      country %in% 'USA' ~ \"United States\",\n",
    "      country %in% 'UAE' ~ \"United Arab Emirates\",\n",
    "      country %in% 'Bolivia' ~ \"Bolivia, Plurinational State of\",\n",
    "      country %in% 'Brunei' ~ \"Brunei Darussalam\",\n",
    "      country %in% 'Cote d\\'Ivoire' ~ \"Côte d'Ivoire\",\n",
    "      country %in% 'Congo, Rep.' ~ \"Congo\",\n",
    "      country %in% 'UK' ~ \"United Kingdom\",\n",
    "      country %in% 'Iran' ~ \"Iran, Islamic Republic of\",\n",
    "      country %in% 'St. Kitts and Nevis' ~ \"Saint Kitts and Nevis\",\n",
    "      country %in% 'South Korea' ~ \"Korea, Republic of\",\n",
    "      country %in% 'Lao' ~ \"Lao People's Democratic Republic\",\n",
    "      country %in% 'St. Lucia' ~ \"Saint Lucia\",\n",
    "      country %in% 'Moldova' ~ \"Moldova, Republic of\",\n",
    "      country %in% 'Macedonia' ~ \"Macedonia, the former Yugoslav Republic of\",\n",
    "      country %in% 'North Korea' ~ \"Korea, Democratic People's Republic of\",\n",
    "      country %in% 'Russia' ~ \"Russian Federation\",\n",
    "      country %in% 'St. Vincent and the Grenadines' ~ \"Saint Vincent and the Grenadines\",\n",
    "      country %in% 'Venezuela' ~ \"Venezuela, Bolivarian Republic of\",\n",
    "      country %in% 'Vietnam' ~ \"Viet Nam\",\n",
    "      TRUE ~ country\n",
    "    )\n",
    "  )\n"
   ]
  },
  {
   "cell_type": "markdown",
   "id": "76215a91-15ad-4499-be34-1926d81d5a40",
   "metadata": {},
   "source": [
    "Now it's time to start merging all the data together."
   ]
  },
  {
   "cell_type": "code",
   "execution_count": 17,
   "id": "6ddb915e-d2d3-4b3e-8bd9-c69a86b942fa",
   "metadata": {
    "tags": []
   },
   "outputs": [],
   "source": [
    "#inner join of freedom data and country/iso3 code data\n",
    "merged_free <- inner_join(pivot_free, gini_df, by = c('country', 'year'))"
   ]
  },
  {
   "cell_type": "code",
   "execution_count": 18,
   "id": "3db9bb67-69aa-4f11-85a2-c15c5840b7e9",
   "metadata": {
    "tags": []
   },
   "outputs": [],
   "source": [
    "#inner join of \n",
    "merged_freegdp <- inner_join(merged_free, pivot_gdp, by = c('country', 'year'))"
   ]
  },
  {
   "cell_type": "code",
   "execution_count": 19,
   "id": "b2d45604-096e-4703-827d-6bb4a4e2b918",
   "metadata": {
    "tags": []
   },
   "outputs": [],
   "source": [
    "merged_all_bmi = inner_join(merged_freegdp, df_bmi, by = c('year', 'country_code'))\n",
    "#head(merged_df)"
   ]
  },
  {
   "cell_type": "markdown",
   "id": "ca4f4acb-bd5e-44bb-9f86-6bc385992472",
   "metadata": {},
   "source": [
    "Now we have a dataframe that contains (almost) all the data we collected.  Need to convert the column names and improve the readability.  "
   ]
  },
  {
   "cell_type": "code",
   "execution_count": 20,
   "id": "243011e0-daba-447b-9ba5-763736077e72",
   "metadata": {
    "tags": []
   },
   "outputs": [],
   "source": [
    "#renaming the columns and adjusting datatypes\n",
    "merged_all_bmi = merged_all_bmi %>%\n",
    "    mutate(region_code = as.factor(ParentLocationCode),\n",
    "           country_code = as.factor(country_code),\n",
    "           region = as.factor(ParentLocation),\n",
    "           gender = Dim1,\n",
    "           age = as.factor(Dim2),\n",
    "           bmi_ave = FactValueNumeric,\n",
    "           bmi_low = FactValueNumericLow,\n",
    "           bmi_high = FactValueNumericHigh,\n",
    "           EU_member = eu)\n",
    "\n",
    "merged_all_bmi$gender[merged_all_bmi$gender %in% 'Both sexes'] <- \"Other\""
   ]
  },
  {
   "cell_type": "code",
   "execution_count": 21,
   "id": "7865a546-4823-4374-948b-00c196cb1760",
   "metadata": {
    "tags": []
   },
   "outputs": [],
   "source": [
    "merged_dff = inner_join(merged_all_bmi, sugar_df, by = c('year', 'country_code'))\n",
    "#head(merged_dff)"
   ]
  },
  {
   "cell_type": "markdown",
   "id": "119339ec-810e-43ba-9879-bce8f9fb7a81",
   "metadata": {},
   "source": [
    "We have a dataframe that we will now use to analyze the data."
   ]
  },
  {
   "cell_type": "code",
   "execution_count": 22,
   "id": "d9a9e0a9-1b8f-4278-9a69-10bba229d8ea",
   "metadata": {
    "tags": []
   },
   "outputs": [],
   "source": [
    "#keep the relevant rows\n",
    "dff = merged_dff %>%\n",
    "    select(year, country, Freedom_index, gini, GDP_per_capita,\n",
    "           region, region_code, country_code, EU_member, gender, \n",
    "           daily_sugar_pp_grams, bmi_ave, bmi_low, bmi_high\n",
    "       )\n",
    "#head(dff)"
   ]
  },
  {
   "cell_type": "code",
   "execution_count": 23,
   "id": "357a79cb-240a-44f9-b558-44ea30c2bc94",
   "metadata": {
    "tags": []
   },
   "outputs": [
    {
     "name": "stdout",
     "output_type": "stream",
     "text": [
      "Rows: 18,975\n",
      "Columns: 14\n",
      "$ year                 \u001b[3m\u001b[90m<dbl>\u001b[39m\u001b[23m 1975, 1975, 1975, 1976, 1976, 1976, 1977, 1977, 1…\n",
      "$ country              \u001b[3m\u001b[90m<chr>\u001b[39m\u001b[23m \"Afghanistan\", \"Afghanistan\", \"Afghanistan\", \"Afg…\n",
      "$ Freedom_index        \u001b[3m\u001b[90m<fct>\u001b[39m\u001b[23m 7, 7, 7, 7, 7, 7, 6, 6, 6, 7, 7, 7, 7, 7, 7, 7, 7…\n",
      "$ gini                 \u001b[3m\u001b[90m<dbl>\u001b[39m\u001b[23m 32.1, 32.1, 32.1, 32.2, 32.2, 32.2, 32.2, 32.2, 3…\n",
      "$ GDP_per_capita       \u001b[3m\u001b[90m<dbl>\u001b[39m\u001b[23m NA, NA, NA, NA, NA, NA, NA, NA, NA, NA, NA, NA, N…\n",
      "$ region               \u001b[3m\u001b[90m<fct>\u001b[39m\u001b[23m Eastern Mediterranean, Eastern Mediterranean, Eas…\n",
      "$ region_code          \u001b[3m\u001b[90m<fct>\u001b[39m\u001b[23m EMR, EMR, EMR, EMR, EMR, EMR, EMR, EMR, EMR, EMR,…\n",
      "$ country_code         \u001b[3m\u001b[90m<chr>\u001b[39m\u001b[23m \"AFG\", \"AFG\", \"AFG\", \"AFG\", \"AFG\", \"AFG\", \"AFG\", …\n",
      "$ EU_member            \u001b[3m\u001b[90m<lgl>\u001b[39m\u001b[23m FALSE, FALSE, FALSE, FALSE, FALSE, FALSE, FALSE, …\n",
      "$ gender               \u001b[3m\u001b[90m<chr>\u001b[39m\u001b[23m \"Female\", \"Other\", \"Male\", \"Female\", \"Other\", \"Ma…\n",
      "$ daily_sugar_pp_grams \u001b[3m\u001b[90m<dbl>\u001b[39m\u001b[23m 14.9, 14.9, 14.9, 15.7, 15.7, 15.7, 16.5, 16.5, 1…\n",
      "$ bmi_ave              \u001b[3m\u001b[90m<dbl>\u001b[39m\u001b[23m 18.9, 18.9, 19.0, 19.0, 19.0, 19.1, 19.1, 19.2, 1…\n",
      "$ bmi_low              \u001b[3m\u001b[90m<dbl>\u001b[39m\u001b[23m 15.8, 16.9, 16.3, 15.9, 17.0, 16.5, 16.2, 16.6, 1…\n",
      "$ bmi_high             \u001b[3m\u001b[90m<dbl>\u001b[39m\u001b[23m 21.9, 21.0, 21.7, 22.0, 21.0, 21.7, 22.0, 21.8, 2…\n"
     ]
    },
    {
     "data": {
      "image/png": "[encoded data removed]",
      "text/plain": [
       "plot without title"
      ]
     },
     "metadata": {
      "image/png": {
       "height": 420,
       "width": 420
      }
     },
     "output_type": "display_data"
    }
   ],
   "source": [
    "#check the results\n",
    "dff %>%\n",
    "    glimpse() %>%\n",
    "    vis_dat() "
   ]
  },
  {
   "cell_type": "markdown",
   "id": "80010f20-bb12-495b-af6a-60e7be9131ab",
   "metadata": {},
   "source": [
    "Mostly complete, data types are correct"
   ]
  },
  {
   "cell_type": "code",
   "execution_count": 24,
   "id": "f8c6b38a-2212-4d83-b723-1abfa62c2f91",
   "metadata": {
    "tags": []
   },
   "outputs": [
    {
     "name": "stderr",
     "output_type": "stream",
     "text": [
      "Warning message:\n",
      "\"\u001b[1m\u001b[22mRemoved 144 rows containing non-finite values (`stat_boxplot()`).\"\n"
     ]
    },
    {
     "data": {
      "image/png": "[encoded data removed]",
      "text/plain": [
       "plot without title"
      ]
     },
     "metadata": {
      "image/png": {
       "height": 420,
       "width": 420
      }
     },
     "output_type": "display_data"
    }
   ],
   "source": [
    "plot1 = dff %>%\n",
    "        ggplot(aes(y = bmi_ave)) +\n",
    "        geom_boxplot() +\n",
    "        facet_wrap(~region) +\n",
    "        theme_minimal() +\n",
    "        labs(title = 'Comparing BMI across regions - 1975 to 2016',\n",
    "             y = 'Average BMI') +\n",
    "        ylim(16, 32)\n",
    "\n",
    "plot1\n"
   ]
  },
  {
   "cell_type": "markdown",
   "id": "080aacb4-32b2-45e9-abe9-37bc52adcc43",
   "metadata": {},
   "source": [
    "We can see that the East Mediterranean & Western Pacific have the largest inter quartile ranges.  This may be indicative of wealth inequality or other social features of the country.  Africa is also interesting, as the median is relatively low but there are a cluster of outliers above the maximum.  This is worth investigating more."
   ]
  },
  {
   "cell_type": "code",
   "execution_count": 25,
   "id": "4637716f-991c-4258-b488-f069723c0c31",
   "metadata": {
    "tags": []
   },
   "outputs": [
    {
     "data": {
      "image/png": "[encoded data removed]",
      "text/plain": [
       "plot without title"
      ]
     },
     "metadata": {
      "image/png": {
       "height": 420,
       "width": 420
      }
     },
     "output_type": "display_data"
    }
   ],
   "source": [
    "plot2 = dff %>% \n",
    "    filter(region == 'Africa', \n",
    "           year == 2016) %>%\n",
    "        ggplot(aes(\n",
    "            x=bmi_ave,\n",
    "            y=country)) +\n",
    "        geom_boxplot() +\n",
    "        theme_minimal() +    \n",
    "    labs(title = 'South Africa is a major outlier\\n',\n",
    "        x = 'Average BMI',\n",
    "        y =  '')\n",
    "plot2"
   ]
  },
  {
   "cell_type": "markdown",
   "id": "768a6596-895b-420b-ab56-1aabe731c38c",
   "metadata": {},
   "source": [
    "South Africa is a large outlier.  And it appears that they are accountable for what we observed in plot1."
   ]
  },
  {
   "cell_type": "markdown",
   "id": "fd5de423-5373-487f-859f-8c73c3b9a80f",
   "metadata": {},
   "source": [
    "It would be nice to look at a world map and see how BMI varies by country/region.\n",
    "\n",
    "First we will create a simple features map and then add layers on top of it.\n",
    "\n",
    "Merging our 'final' dataset with this geometric data allows us to create world maps"
   ]
  },
  {
   "cell_type": "code",
   "execution_count": 26,
   "id": "0e600fd9-6ac7-4e9d-9b3e-dfef1a8a198a",
   "metadata": {
    "tags": []
   },
   "outputs": [],
   "source": [
    "world <- ne_countries(scale = \"small\", returnclass = \"sf\")\n",
    "\n",
    "dfmap <- world %>% #merging the geometric information with the dataframe\n",
    "  select(geometry, iso_a3) %>%\n",
    "  inner_join(dff, \n",
    "            by = c(\"iso_a3\" = \"country_code\")) %>%\n",
    "  rename(country_code = iso_a3)"
   ]
  },
  {
   "cell_type": "markdown",
   "id": "e05aa0d8-f243-419b-9957-45e96b0d5a55",
   "metadata": {},
   "source": [
    "Here is a plot of the evolution of BMI from 1975 to 2016.  \n",
    "\n",
    "It is interesting to note that the countries that can be seen entering the series during the 1980's or later are typically below average.  It would appear that more developed countries have higher BMI - this is not groundbreaking, but it is interesting to see it in the data."
   ]
  },
  {
   "cell_type": "code",
   "execution_count": 27,
   "id": "83232ff5-1d51-4858-840c-a68cd6f005bb",
   "metadata": {
    "tags": []
   },
   "outputs": [
    {
     "name": "stderr",
     "output_type": "stream",
     "text": [
      "\u001b[1m\u001b[22m`geom_smooth()` using method = 'loess' and formula = 'y ~ x'\n",
      "Warning message:\n",
      "\"\u001b[1m\u001b[22mRemoved 126 rows containing non-finite values (`stat_smooth()`).\"\n"
     ]
    },
    {
     "data": {
      "image/png": "[encoded data removed]",
      "text/plain": [
       "plot without title"
      ]
     },
     "metadata": {
      "image/png": {
       "height": 420,
       "width": 420
      }
     },
     "output_type": "display_data"
    }
   ],
   "source": [
    "bmi_ts = dfmap %>% \n",
    "  ggplot(aes(x = year, \n",
    "             y = bmi_ave, \n",
    "             colour = country)) + \n",
    "  geom_smooth(se = FALSE, linewidth=1.2) + #removes the standard bars and sets line width\n",
    "  labs(title = 'BMI across time',\n",
    "       subtitle = 'Majority of countries are trending up but the trends appears to be concave.',\n",
    "       x = '',\n",
    "       y = 'BMI',\n",
    "       colour = '') +\n",
    "  facet_wrap(~region) + #this creates a graph for each region\n",
    "  theme_minimal() + #I like how this looks\n",
    "  guides(colour = \"none\")  #this line removes the colour legend\n",
    "\n",
    "bmi_ts"
   ]
  },
  {
   "cell_type": "markdown",
   "id": "311c751b-32f5-4076-aceb-48a1f278b6ca",
   "metadata": {},
   "source": [
    "This plot takes the world map and adds additional layers, most importantly, our sugar measurements.  We can see that sugar is much more common in the Americas.  We will have a look at the 2016 figures next."
   ]
  },
  {
   "cell_type": "code",
   "execution_count": 28,
   "id": "c5677efb-c558-4bb1-bf62-e6125736e261",
   "metadata": {
    "tags": []
   },
   "outputs": [
    {
     "data": {
      "image/png": "[encoded data removed]",
      "text/plain": [
       "plot without title"
      ]
     },
     "metadata": {
      "image/png": {
       "height": 420,
       "width": 420
      }
     },
     "output_type": "display_data"
    }
   ],
   "source": [
    "world_plot_sugar_96 <- world %>%\n",
    "  filter(admin != \"Antarctica\") %>%\n",
    "  st_transform(crs = \"+proj=robin\") %>%\n",
    "  ggplot() +\n",
    "  geom_sf() + #this keeps the outlines of the countries if they're omitted\n",
    "  geom_sf(data = dfmap %>% \n",
    "          filter(year == 1996), \n",
    "          aes(fill = daily_sugar_pp_grams)) +\n",
    "  scale_fill_gradient(limits = c(0, 300), #need to set a limit on thresholds to allow comparison \n",
    "                      low = 'green',      #between the charts with a significant level difference over 20 years\n",
    "                      high = 'red', \n",
    "                      na.value = 'gray') +\n",
    "  theme_minimal() +\n",
    "  theme(\n",
    "    plot.title = element_text(face = \"bold\"),\n",
    "    axis.text.x = element_blank(),\n",
    "    plot.background = element_rect(fill = \"white\"),  #set the background color for the entire chart area\n",
    "    panel.background = element_blank()  #remove the panel background\n",
    "  ) +\n",
    "  labs(title = \"Daily Sugar Consumption - 1996\",\n",
    "       subtitle = 'USA and Colombia come out on top',\n",
    "       x = NULL, y = NULL,\n",
    "      caption = 'Data Health Harvesters',\n",
    "      fill = 'Grams')\n",
    "\n",
    "world_plot_sugar_96"
   ]
  },
  {
   "cell_type": "markdown",
   "id": "f167aad5-c166-46cc-93e3-57146584b850",
   "metadata": {},
   "source": [
    "Here we can see more recent data.  It appears that most of Asia and Africa have retained relatively low levels of sugar consumption."
   ]
  },
  {
   "cell_type": "code",
   "execution_count": 29,
   "id": "1163ccde-317f-48ce-8be1-c5b10f1413af",
   "metadata": {
    "tags": []
   },
   "outputs": [
    {
     "data": {
      "image/png": "[encoded data removed]",
      "text/plain": [
       "plot without title"
      ]
     },
     "metadata": {
      "image/png": {
       "height": 420,
       "width": 420
      }
     },
     "output_type": "display_data"
    }
   ],
   "source": [
    "world_plot_sugar_16 <- world %>%\n",
    "  filter(admin != \"Antarctica\") %>%\n",
    "  st_transform(crs = \"+proj=robin\") %>%\n",
    "  ggplot() +\n",
    "  geom_sf() +\n",
    "  geom_sf(data = dfmap %>% \n",
    "          filter(year == 2016), \n",
    "          aes(fill = daily_sugar_pp_grams)) +\n",
    "  scale_fill_gradient(limits = c(0, 300), \n",
    "                      low = 'green', \n",
    "                      high = 'red', \n",
    "                      na.value = 'gray') +\n",
    "  theme_minimal() +\n",
    "  theme(\n",
    "    plot.title = element_text(face = \"bold\"),\n",
    "    axis.text.x = element_blank(),\n",
    "    plot.background = element_rect(fill = \"white\"),  \n",
    "    panel.background = element_blank()  \n",
    "  ) +\n",
    "  labs(title = \"Daily Sugar Consumption - 2016\",\n",
    "       subtitle = 'A significant increase in sugar consumption!',\n",
    "       x = NULL, y = NULL,\n",
    "      caption = 'Data Health Harvesters',\n",
    "      fill = 'Grams')\n",
    "\n",
    "#ggsave(\"world_plot_sugar_.png\", plot = world_plot_sugar)\n",
    "world_plot_sugar_16"
   ]
  },
  {
   "cell_type": "markdown",
   "id": "e3de9d8c-179a-4635-96ef-9a08b6f7be1f",
   "metadata": {},
   "source": [
    "Similarly, for BMI we will look at a 20 year period from 1996."
   ]
  },
  {
   "cell_type": "code",
   "execution_count": 30,
   "id": "10006e1a-3f76-4d3f-8bfa-60ce1a788684",
   "metadata": {
    "tags": []
   },
   "outputs": [
    {
     "data": {
      "image/png": "[encoded data removed]",
      "text/plain": [
       "plot without title"
      ]
     },
     "metadata": {
      "image/png": {
       "height": 420,
       "width": 420
      }
     },
     "output_type": "display_data"
    }
   ],
   "source": [
    "world_plot_bmi_96 <- world %>%\n",
    "  filter(admin != \"Antarctica\") %>%\n",
    "  st_transform(crs = \"+proj=robin\") %>%\n",
    "  ggplot() +\n",
    "geom_sf() +\n",
    "  geom_sf(data = dfmap %>% \n",
    "          filter(year == 1996), \n",
    "          aes(fill = bmi_ave)) +\n",
    "  scale_fill_gradient(limits = c(15, 32), \n",
    "                      low = 'green', \n",
    "                      high = 'red', \n",
    "                      na.value = 'gray') +\n",
    "  theme(\n",
    "    plot.title = element_text(face = \"bold\"),\n",
    "    axis.text.x = element_blank(),\n",
    "    plot.background = element_rect(fill = \"white\"),  # Set the background color for the entire chart area\n",
    "    panel.background = element_blank()  # Remove the panel background\n",
    "  ) +\n",
    "  labs(title = \"Average BMI - 1996\",\n",
    "       subtitle = 'Developing countries typically have lower BMI',\n",
    "       x = NULL, y = NULL,\n",
    "      fill = 'BMI')\n",
    "\n",
    "\n",
    "#ggsave(\"world_plot_bmi.png\", plot = world_plot_bmi)\n",
    "world_plot_bmi_96"
   ]
  },
  {
   "cell_type": "markdown",
   "id": "a5c0e8b3-9071-49c0-abbe-11ef1fc4caae",
   "metadata": {},
   "source": [
    "There has a sizable increase in BMI, but it is interesting to note that some of the central African countries have changed very little."
   ]
  },
  {
   "cell_type": "code",
   "execution_count": 31,
   "id": "bd07553c-53af-4b0d-a6ff-018ae3acd1df",
   "metadata": {
    "tags": []
   },
   "outputs": [
    {
     "data": {
      "image/png": "[encoded data removed]",
      "text/plain": [
       "plot without title"
      ]
     },
     "metadata": {
      "image/png": {
       "height": 420,
       "width": 420
      }
     },
     "output_type": "display_data"
    }
   ],
   "source": [
    "world_plot_bmi_16 <- world %>%\n",
    "  filter(admin != \"Antarctica\") %>%\n",
    "  st_transform(crs = \"+proj=robin\") %>%\n",
    "  ggplot() +\n",
    "geom_sf() +\n",
    "  geom_sf(data = dfmap %>% \n",
    "          filter(year == 2016), \n",
    "          aes(fill = bmi_ave)) +\n",
    "  scale_fill_gradient(limits = c(15, 32), \n",
    "                      low = 'green', \n",
    "                      high = 'red', \n",
    "                      na.value = 'gray') +\n",
    "  theme(\n",
    "    plot.title = element_text(face = \"bold\"),\n",
    "    axis.text.x = element_blank(),\n",
    "    plot.background = element_rect(fill = \"white\"),  # Set the background color for the entire chart area\n",
    "    panel.background = element_blank()  # Remove the panel background\n",
    "  ) +\n",
    "  labs(title = \"Average BMI - 2016\",\n",
    "       subtitle = 'BMI has increased, particularly in Egypt',\n",
    "       x = NULL, y = NULL,\n",
    "      fill = 'BMI',\n",
    "      caption = 'Data Health Harvesters')\n",
    "\n",
    "#ggsave(\"world_plot_bmi.png\", plot = world_plot_bmi)\n",
    "world_plot_bmi_16"
   ]
  },
  {
   "cell_type": "markdown",
   "id": "c7a24230-7f55-457a-ad82-b0b2f66b63b1",
   "metadata": {},
   "source": [
    "**Bringing in the death data**"
   ]
  },
  {
   "cell_type": "markdown",
   "id": "55a71a17-a3dc-4e75-b3fd-f4650de3a34b",
   "metadata": {},
   "source": [
    "Now time to combine with the premature deaths dataset - this one runs from 2000-2019, so we will only have values for 2000-2016"
   ]
  },
  {
   "cell_type": "code",
   "execution_count": 32,
   "id": "b227a4f9-29fa-49b4-8c55-f2b356ce4f7c",
   "metadata": {
    "tags": []
   },
   "outputs": [],
   "source": [
    "dfmap_ncd = left_join(dfmap, premature_deaths, \n",
    "                      by = c('year', 'country_code', 'gender')) %>%\n",
    "            select(-country.y, -region.y, -region_code.y) %>%\n",
    "            rename(country = country.x, \n",
    "                   region = region.x,\n",
    "                   region_code = region_code.x)\n",
    "#head(dfmap_ncd)"
   ]
  },
  {
   "cell_type": "code",
   "execution_count": 33,
   "id": "297ba204-cd11-44a5-83c8-64d35dfc5908",
   "metadata": {
    "tags": []
   },
   "outputs": [
    {
     "data": {
      "application/geo+json": {
       "features": [
        {
         "geometry": {
          "coordinates": [
           [
            [
             [
              180,
              -16.0671
             ],
             [
              180,
              -16.5552
             ],
             [
              179.3641,
              -16.8014
             ],
             [
              178.7251,
              -17.012
             ],
             [
              178.5968,
              -16.6392
             ],
             [
              179.0966,
              -16.434
             ],
             [
              179.4135,
              -16.3791
             ],
             [
              180,
              -16.0671
             ]
            ]
           ],
           [
            [
             [
              178.1256,
              -17.5048
             ],
             [
              178.3736,
              -17.3399
             ],
             [
              178.7181,
              -17.6285
             ],
             [
              178.5527,
              -18.1506
             ],
             [
              177.9327,
              -18.288
             ],
             [
              177.3815,
              -18.1643
             ],
             [
              177.285,
              -17.7247
             ],
             [
              177.6709,
              -17.3811
             ],
             [
              178.1256,
              -17.5048
             ]
            ]
           ],
           [
            [
             [
              -179.7933,
              -16.0209
             ],
             [
              -179.9174,
              -16.5018
             ],
             [
              -180,
              -16.5552
             ],
             [
              -180,
              -16.0671
             ],
             [
              -179.7933,
              -16.0209
             ]
            ]
           ]
          ],
          "type": "MultiPolygon"
         },
         "properties": {
          "EU_member": false,
          "Freedom_index": "6",
          "GDP_per_capita": 4000,
          "bmi_ave": 25.1,
          "bmi_high": 25.7,
          "bmi_low": 24.4,
          "country": "Fiji",
          "country_code": "FJI",
          "daily_sugar_pp_grams": 78.8,
          "deaths": 69.29,
          "gender": "Male",
          "gini": 38,
          "max_deaths": 74.91,
          "min_deaths": 62.74,
          "region": "Western Pacific",
          "region_code": "WPR",
          "year": 2000
         },
         "type": "Feature"
        }
       ],
       "type": "FeatureCollection"
      },
      "text/html": [
       "<table class=\"dataframe\">\n",
       "<caption>A sf: 1 × 18</caption>\n",
       "<thead>\n",
       "\t<tr><th></th><th scope=col>country_code</th><th scope=col>year</th><th scope=col>country</th><th scope=col>Freedom_index</th><th scope=col>gini</th><th scope=col>GDP_per_capita</th><th scope=col>region</th><th scope=col>region_code</th><th scope=col>EU_member</th><th scope=col>gender</th><th scope=col>daily_sugar_pp_grams</th><th scope=col>bmi_ave</th><th scope=col>bmi_low</th><th scope=col>bmi_high</th><th scope=col>min_deaths</th><th scope=col>max_deaths</th><th scope=col>deaths</th><th scope=col>geometry</th></tr>\n",
       "\t<tr><th></th><th scope=col>&lt;chr&gt;</th><th scope=col>&lt;dbl&gt;</th><th scope=col>&lt;chr&gt;</th><th scope=col>&lt;fct&gt;</th><th scope=col>&lt;dbl&gt;</th><th scope=col>&lt;dbl&gt;</th><th scope=col>&lt;fct&gt;</th><th scope=col>&lt;fct&gt;</th><th scope=col>&lt;lgl&gt;</th><th scope=col>&lt;chr&gt;</th><th scope=col>&lt;dbl&gt;</th><th scope=col>&lt;dbl&gt;</th><th scope=col>&lt;dbl&gt;</th><th scope=col>&lt;dbl&gt;</th><th scope=col>&lt;dbl&gt;</th><th scope=col>&lt;dbl&gt;</th><th scope=col>&lt;dbl&gt;</th><th scope=col>&lt;MULTIPOLYGON [°]&gt;</th></tr>\n",
       "</thead>\n",
       "<tbody>\n",
       "\t<tr><th scope=row>76</th><td>FJI</td><td>2000</td><td>Fiji</td><td>6</td><td>38</td><td>4000</td><td>Western Pacific</td><td>WPR</td><td>FALSE</td><td>Male</td><td>78.8</td><td>25.1</td><td>24.4</td><td>25.7</td><td>62.74</td><td>74.91</td><td>69.29</td><td>MULTIPOLYGON (((180 -16.067...</td></tr>\n",
       "</tbody>\n",
       "</table>\n"
      ],
      "text/latex": [
       "A sf: 1 × 18\n",
       "\\begin{tabular}{r|llllllllllllllllll}\n",
       "  & country\\_code & year & country & Freedom\\_index & gini & GDP\\_per\\_capita & region & region\\_code & EU\\_member & gender & daily\\_sugar\\_pp\\_grams & bmi\\_ave & bmi\\_low & bmi\\_high & min\\_deaths & max\\_deaths & deaths & geometry\\\\\n",
       "  & <chr> & <dbl> & <chr> & <fct> & <dbl> & <dbl> & <fct> & <fct> & <lgl> & <chr> & <dbl> & <dbl> & <dbl> & <dbl> & <dbl> & <dbl> & <dbl> & <MULTIPOLYGON {[}°{]}>\\\\\n",
       "\\hline\n",
       "\t76 & FJI & 2000 & Fiji & 6 & 38 & 4000 & Western Pacific & WPR & FALSE & Male & 78.8 & 25.1 & 24.4 & 25.7 & 62.74 & 74.91 & 69.29 & MULTIPOLYGON (((180 -16.067...\\\\\n",
       "\\end{tabular}\n"
      ],
      "text/markdown": [
       "\n",
       "A sf: 1 × 18\n",
       "\n",
       "| <!--/--> | country_code &lt;chr&gt; | year &lt;dbl&gt; | country &lt;chr&gt; | Freedom_index &lt;fct&gt; | gini &lt;dbl&gt; | GDP_per_capita &lt;dbl&gt; | region &lt;fct&gt; | region_code &lt;fct&gt; | EU_member &lt;lgl&gt; | gender &lt;chr&gt; | daily_sugar_pp_grams &lt;dbl&gt; | bmi_ave &lt;dbl&gt; | bmi_low &lt;dbl&gt; | bmi_high &lt;dbl&gt; | min_deaths &lt;dbl&gt; | max_deaths &lt;dbl&gt; | deaths &lt;dbl&gt; | geometry &lt;MULTIPOLYGON [°]&gt; |\n",
       "|---|---|---|---|---|---|---|---|---|---|---|---|---|---|---|---|---|---|---|\n",
       "| 76 | FJI | 2000 | Fiji | 6 | 38 | 4000 | Western Pacific | WPR | FALSE | Male | 78.8 | 25.1 | 24.4 | 25.7 | 62.74 | 74.91 | 69.29 | MULTIPOLYGON (((180 -16.067... |\n",
       "\n"
      ],
      "text/plain": [
       "   country_code year country Freedom_index gini GDP_per_capita region         \n",
       "76 FJI          2000 Fiji    6             38   4000           Western Pacific\n",
       "   region_code EU_member gender daily_sugar_pp_grams bmi_ave bmi_low bmi_high\n",
       "76 WPR         FALSE     Male   78.8                 25.1    24.4    25.7    \n",
       "   min_deaths max_deaths deaths geometry                      \n",
       "76 62.74      74.91      69.29  MULTIPOLYGON (((180 -16.067..."
      ]
     },
     "metadata": {},
     "output_type": "display_data"
    }
   ],
   "source": [
    "#removing the missing values\n",
    "dfmap_ncd = dfmap_ncd %>% \n",
    "    na.omit()\n",
    "\n",
    "head(dfmap_ncd, 1)"
   ]
  },
  {
   "cell_type": "markdown",
   "id": "6b783a8c-e951-4c57-94a9-167543b55512",
   "metadata": {},
   "source": [
    "**Averaging BMI by gender**"
   ]
  },
  {
   "cell_type": "markdown",
   "id": "e0026238-39af-4df2-abf9-dd8ec487179b",
   "metadata": {},
   "source": [
    "Get the averages of the three genders (Male, Female, Other):"
   ]
  },
  {
   "cell_type": "code",
   "execution_count": 34,
   "id": "d9054543-b7ae-4a7a-aeb9-b53b18bd5b72",
   "metadata": {
    "tags": []
   },
   "outputs": [],
   "source": [
    "# Split the dataset into groups of three rows\n",
    "groups <- split(dfmap_ncd, rep(1:ceiling(nrow(dfmap_ncd)/3), each = 3, length.out = nrow(dfmap_ncd)))\n",
    "\n",
    "# Calculate the average for the \"bmi_ave\" column in each group\n",
    "averages <- lapply(groups, function(group) {\n",
    "  mean(group$bmi_ave, na.rm = TRUE)\n",
    "})\n",
    "\n",
    "# Convert the list of averages into a data frame\n",
    "average_data <- data.frame(Group = names(averages), Average = sapply(averages, mean))\n",
    "\n",
    "\n"
   ]
  },
  {
   "cell_type": "code",
   "execution_count": 35,
   "id": "757f8c44-4e02-4b84-8a30-c6f93c24a992",
   "metadata": {
    "tags": []
   },
   "outputs": [
    {
     "data": {
      "text/html": [
       "<table class=\"dataframe\">\n",
       "<caption>A data.frame: 6 × 2</caption>\n",
       "<thead>\n",
       "\t<tr><th></th><th scope=col>Group</th><th scope=col>Average</th></tr>\n",
       "\t<tr><th></th><th scope=col>&lt;chr&gt;</th><th scope=col>&lt;dbl&gt;</th></tr>\n",
       "</thead>\n",
       "<tbody>\n",
       "\t<tr><th scope=row>1</th><td>1</td><td>26.26667</td></tr>\n",
       "\t<tr><th scope=row>2</th><td>2</td><td>26.36667</td></tr>\n",
       "\t<tr><th scope=row>3</th><td>3</td><td>26.43333</td></tr>\n",
       "\t<tr><th scope=row>4</th><td>4</td><td>26.50000</td></tr>\n",
       "\t<tr><th scope=row>5</th><td>5</td><td>26.60000</td></tr>\n",
       "\t<tr><th scope=row>6</th><td>6</td><td>26.70000</td></tr>\n",
       "</tbody>\n",
       "</table>\n"
      ],
      "text/latex": [
       "A data.frame: 6 × 2\n",
       "\\begin{tabular}{r|ll}\n",
       "  & Group & Average\\\\\n",
       "  & <chr> & <dbl>\\\\\n",
       "\\hline\n",
       "\t1 & 1 & 26.26667\\\\\n",
       "\t2 & 2 & 26.36667\\\\\n",
       "\t3 & 3 & 26.43333\\\\\n",
       "\t4 & 4 & 26.50000\\\\\n",
       "\t5 & 5 & 26.60000\\\\\n",
       "\t6 & 6 & 26.70000\\\\\n",
       "\\end{tabular}\n"
      ],
      "text/markdown": [
       "\n",
       "A data.frame: 6 × 2\n",
       "\n",
       "| <!--/--> | Group &lt;chr&gt; | Average &lt;dbl&gt; |\n",
       "|---|---|---|\n",
       "| 1 | 1 | 26.26667 |\n",
       "| 2 | 2 | 26.36667 |\n",
       "| 3 | 3 | 26.43333 |\n",
       "| 4 | 4 | 26.50000 |\n",
       "| 5 | 5 | 26.60000 |\n",
       "| 6 | 6 | 26.70000 |\n",
       "\n"
      ],
      "text/plain": [
       "  Group Average \n",
       "1 1     26.26667\n",
       "2 2     26.36667\n",
       "3 3     26.43333\n",
       "4 4     26.50000\n",
       "5 5     26.60000\n",
       "6 6     26.70000"
      ]
     },
     "metadata": {},
     "output_type": "display_data"
    },
    {
     "data": {
      "text/html": [
       "2418"
      ],
      "text/latex": [
       "2418"
      ],
      "text/markdown": [
       "2418"
      ],
      "text/plain": [
       "[1] 2418"
      ]
     },
     "metadata": {},
     "output_type": "display_data"
    },
    {
     "data": {
      "text/html": [
       "7254"
      ],
      "text/latex": [
       "7254"
      ],
      "text/markdown": [
       "7254"
      ],
      "text/plain": [
       "[1] 7254"
      ]
     },
     "metadata": {},
     "output_type": "display_data"
    }
   ],
   "source": [
    "average_data %>% head() \n",
    "average_data %>% nrow()\n",
    "\n",
    "dfmap_ncd %>% nrow()"
   ]
  },
  {
   "cell_type": "markdown",
   "id": "41649c17-421e-479d-9a8e-1f428357396b",
   "metadata": {},
   "source": [
    "Now I have found the average bmis for each of the genders We need to duplicate each row twice so we have three rows for each observations so that it can join nicely with the original dataset:"
   ]
  },
  {
   "cell_type": "code",
   "execution_count": 36,
   "id": "3cc3ef66-403d-48e3-b5eb-de1517ca902b",
   "metadata": {
    "tags": []
   },
   "outputs": [],
   "source": [
    "# Duplicate every row twice\n",
    "average_data_tripled <- average_data[rep(seq_len(nrow(average_data)), each = 3), ]\n",
    "\n",
    "# Reset the row names if needed\n",
    "rownames(average_data_tripled) <- NULL"
   ]
  },
  {
   "cell_type": "markdown",
   "id": "e44b764b-7f42-40f2-9cdc-6f2e8ab01ffa",
   "metadata": {},
   "source": [
    "Nice! - The average values are correct, the number of rows is correct - this looks like it will join nicely. But first we need to remove the 'Group' Row because it is useless."
   ]
  },
  {
   "cell_type": "code",
   "execution_count": 37,
   "id": "486c02c8-5510-4638-af6a-00bed42e2f7a",
   "metadata": {
    "tags": []
   },
   "outputs": [],
   "source": [
    "average_data_tripled <- average_data_tripled %>%\n",
    "    subset(select = -Group)"
   ]
  },
  {
   "cell_type": "code",
   "execution_count": 38,
   "id": "46df74a0-e102-4030-ab8b-ee9315b14464",
   "metadata": {
    "tags": []
   },
   "outputs": [
    {
     "data": {
      "text/html": [
       "<table class=\"dataframe\">\n",
       "<caption>A data.frame: 6 × 1</caption>\n",
       "<thead>\n",
       "\t<tr><th></th><th scope=col>Average</th></tr>\n",
       "\t<tr><th></th><th scope=col>&lt;dbl&gt;</th></tr>\n",
       "</thead>\n",
       "<tbody>\n",
       "\t<tr><th scope=row>1</th><td>26.26667</td></tr>\n",
       "\t<tr><th scope=row>2</th><td>26.26667</td></tr>\n",
       "\t<tr><th scope=row>3</th><td>26.26667</td></tr>\n",
       "\t<tr><th scope=row>4</th><td>26.36667</td></tr>\n",
       "\t<tr><th scope=row>5</th><td>26.36667</td></tr>\n",
       "\t<tr><th scope=row>6</th><td>26.36667</td></tr>\n",
       "</tbody>\n",
       "</table>\n"
      ],
      "text/latex": [
       "A data.frame: 6 × 1\n",
       "\\begin{tabular}{r|l}\n",
       "  & Average\\\\\n",
       "  & <dbl>\\\\\n",
       "\\hline\n",
       "\t1 & 26.26667\\\\\n",
       "\t2 & 26.26667\\\\\n",
       "\t3 & 26.26667\\\\\n",
       "\t4 & 26.36667\\\\\n",
       "\t5 & 26.36667\\\\\n",
       "\t6 & 26.36667\\\\\n",
       "\\end{tabular}\n"
      ],
      "text/markdown": [
       "\n",
       "A data.frame: 6 × 1\n",
       "\n",
       "| <!--/--> | Average &lt;dbl&gt; |\n",
       "|---|---|\n",
       "| 1 | 26.26667 |\n",
       "| 2 | 26.26667 |\n",
       "| 3 | 26.26667 |\n",
       "| 4 | 26.36667 |\n",
       "| 5 | 26.36667 |\n",
       "| 6 | 26.36667 |\n",
       "\n"
      ],
      "text/plain": [
       "  Average \n",
       "1 26.26667\n",
       "2 26.26667\n",
       "3 26.26667\n",
       "4 26.36667\n",
       "5 26.36667\n",
       "6 26.36667"
      ]
     },
     "metadata": {},
     "output_type": "display_data"
    }
   ],
   "source": [
    "head(average_data_tripled)"
   ]
  },
  {
   "cell_type": "markdown",
   "id": "a120334c-9c4b-42c2-aeae-cd799a675ad1",
   "metadata": {},
   "source": [
    "Now that useless column is gone we can join this table to our dataset:"
   ]
  },
  {
   "cell_type": "code",
   "execution_count": 39,
   "id": "9c8f72d1-f8c5-455e-b847-185625a92f5f",
   "metadata": {
    "tags": []
   },
   "outputs": [],
   "source": [
    "merged_data <- data.frame(dfmap_ncd, average_data_tripled)\n"
   ]
  },
  {
   "cell_type": "code",
   "execution_count": 40,
   "id": "9af64131-706d-4178-8292-10fce87e1967",
   "metadata": {
    "tags": []
   },
   "outputs": [
    {
     "data": {
      "text/html": [
       "<table class=\"dataframe\">\n",
       "<caption>A data.frame: 6 × 19</caption>\n",
       "<thead>\n",
       "\t<tr><th></th><th scope=col>country_code</th><th scope=col>year</th><th scope=col>country</th><th scope=col>Freedom_index</th><th scope=col>gini</th><th scope=col>GDP_per_capita</th><th scope=col>region</th><th scope=col>region_code</th><th scope=col>EU_member</th><th scope=col>gender</th><th scope=col>daily_sugar_pp_grams</th><th scope=col>bmi_ave</th><th scope=col>bmi_low</th><th scope=col>bmi_high</th><th scope=col>min_deaths</th><th scope=col>max_deaths</th><th scope=col>deaths</th><th scope=col>geometry</th><th scope=col>Average</th></tr>\n",
       "\t<tr><th></th><th scope=col>&lt;chr&gt;</th><th scope=col>&lt;dbl&gt;</th><th scope=col>&lt;chr&gt;</th><th scope=col>&lt;fct&gt;</th><th scope=col>&lt;dbl&gt;</th><th scope=col>&lt;dbl&gt;</th><th scope=col>&lt;fct&gt;</th><th scope=col>&lt;fct&gt;</th><th scope=col>&lt;lgl&gt;</th><th scope=col>&lt;chr&gt;</th><th scope=col>&lt;dbl&gt;</th><th scope=col>&lt;dbl&gt;</th><th scope=col>&lt;dbl&gt;</th><th scope=col>&lt;dbl&gt;</th><th scope=col>&lt;dbl&gt;</th><th scope=col>&lt;dbl&gt;</th><th scope=col>&lt;dbl&gt;</th><th scope=col>&lt;MULTIPOLYGON [°]&gt;</th><th scope=col>&lt;dbl&gt;</th></tr>\n",
       "</thead>\n",
       "<tbody>\n",
       "\t<tr><th scope=row>76</th><td>FJI</td><td>2000</td><td>Fiji</td><td>6</td><td>38.0</td><td>4000</td><td>Western Pacific</td><td>WPR</td><td>FALSE</td><td>Male  </td><td>78.8</td><td>25.1</td><td>24.4</td><td>25.7</td><td>62.74</td><td>74.91</td><td>69.29</td><td>MULTIPOLYGON (((180 -16.067...</td><td>26.26667</td></tr>\n",
       "\t<tr><th scope=row>77</th><td>FJI</td><td>2000</td><td>Fiji</td><td>6</td><td>38.0</td><td>4000</td><td>Western Pacific</td><td>WPR</td><td>FALSE</td><td>Other </td><td>78.8</td><td>26.3</td><td>25.7</td><td>26.8</td><td>61.26</td><td>74.39</td><td>68.41</td><td>MULTIPOLYGON (((180 -16.067...</td><td>26.26667</td></tr>\n",
       "\t<tr><th scope=row>78</th><td>FJI</td><td>2000</td><td>Fiji</td><td>6</td><td>38.0</td><td>4000</td><td>Western Pacific</td><td>WPR</td><td>FALSE</td><td>Female</td><td>78.8</td><td>27.4</td><td>26.7</td><td>28.2</td><td>59.27</td><td>73.73</td><td>67.26</td><td>MULTIPOLYGON (((180 -16.067...</td><td>26.26667</td></tr>\n",
       "\t<tr><th scope=row>79</th><td>FJI</td><td>2001</td><td>Fiji</td><td>4</td><td>38.1</td><td>4040</td><td>Western Pacific</td><td>WPR</td><td>FALSE</td><td>Male  </td><td>90.4</td><td>25.2</td><td>24.6</td><td>25.8</td><td>62.10</td><td>73.94</td><td>68.42</td><td>MULTIPOLYGON (((180 -16.067...</td><td>26.36667</td></tr>\n",
       "\t<tr><th scope=row>80</th><td>FJI</td><td>2001</td><td>Fiji</td><td>4</td><td>38.1</td><td>4040</td><td>Western Pacific</td><td>WPR</td><td>FALSE</td><td>Other </td><td>90.4</td><td>26.4</td><td>25.9</td><td>26.8</td><td>60.64</td><td>73.45</td><td>67.56</td><td>MULTIPOLYGON (((180 -16.067...</td><td>26.36667</td></tr>\n",
       "\t<tr><th scope=row>81</th><td>FJI</td><td>2001</td><td>Fiji</td><td>4</td><td>38.1</td><td>4040</td><td>Western Pacific</td><td>WPR</td><td>FALSE</td><td>Female</td><td>90.4</td><td>27.5</td><td>26.8</td><td>28.3</td><td>58.59</td><td>72.79</td><td>66.38</td><td>MULTIPOLYGON (((180 -16.067...</td><td>26.36667</td></tr>\n",
       "</tbody>\n",
       "</table>\n"
      ],
      "text/latex": [
       "A data.frame: 6 × 19\n",
       "\\begin{tabular}{r|lllllllllllllllllll}\n",
       "  & country\\_code & year & country & Freedom\\_index & gini & GDP\\_per\\_capita & region & region\\_code & EU\\_member & gender & daily\\_sugar\\_pp\\_grams & bmi\\_ave & bmi\\_low & bmi\\_high & min\\_deaths & max\\_deaths & deaths & geometry & Average\\\\\n",
       "  & <chr> & <dbl> & <chr> & <fct> & <dbl> & <dbl> & <fct> & <fct> & <lgl> & <chr> & <dbl> & <dbl> & <dbl> & <dbl> & <dbl> & <dbl> & <dbl> & <MULTIPOLYGON {[}°{]}> & <dbl>\\\\\n",
       "\\hline\n",
       "\t76 & FJI & 2000 & Fiji & 6 & 38.0 & 4000 & Western Pacific & WPR & FALSE & Male   & 78.8 & 25.1 & 24.4 & 25.7 & 62.74 & 74.91 & 69.29 & MULTIPOLYGON (((180 -16.067... & 26.26667\\\\\n",
       "\t77 & FJI & 2000 & Fiji & 6 & 38.0 & 4000 & Western Pacific & WPR & FALSE & Other  & 78.8 & 26.3 & 25.7 & 26.8 & 61.26 & 74.39 & 68.41 & MULTIPOLYGON (((180 -16.067... & 26.26667\\\\\n",
       "\t78 & FJI & 2000 & Fiji & 6 & 38.0 & 4000 & Western Pacific & WPR & FALSE & Female & 78.8 & 27.4 & 26.7 & 28.2 & 59.27 & 73.73 & 67.26 & MULTIPOLYGON (((180 -16.067... & 26.26667\\\\\n",
       "\t79 & FJI & 2001 & Fiji & 4 & 38.1 & 4040 & Western Pacific & WPR & FALSE & Male   & 90.4 & 25.2 & 24.6 & 25.8 & 62.10 & 73.94 & 68.42 & MULTIPOLYGON (((180 -16.067... & 26.36667\\\\\n",
       "\t80 & FJI & 2001 & Fiji & 4 & 38.1 & 4040 & Western Pacific & WPR & FALSE & Other  & 90.4 & 26.4 & 25.9 & 26.8 & 60.64 & 73.45 & 67.56 & MULTIPOLYGON (((180 -16.067... & 26.36667\\\\\n",
       "\t81 & FJI & 2001 & Fiji & 4 & 38.1 & 4040 & Western Pacific & WPR & FALSE & Female & 90.4 & 27.5 & 26.8 & 28.3 & 58.59 & 72.79 & 66.38 & MULTIPOLYGON (((180 -16.067... & 26.36667\\\\\n",
       "\\end{tabular}\n"
      ],
      "text/markdown": [
       "\n",
       "A data.frame: 6 × 19\n",
       "\n",
       "| <!--/--> | country_code &lt;chr&gt; | year &lt;dbl&gt; | country &lt;chr&gt; | Freedom_index &lt;fct&gt; | gini &lt;dbl&gt; | GDP_per_capita &lt;dbl&gt; | region &lt;fct&gt; | region_code &lt;fct&gt; | EU_member &lt;lgl&gt; | gender &lt;chr&gt; | daily_sugar_pp_grams &lt;dbl&gt; | bmi_ave &lt;dbl&gt; | bmi_low &lt;dbl&gt; | bmi_high &lt;dbl&gt; | min_deaths &lt;dbl&gt; | max_deaths &lt;dbl&gt; | deaths &lt;dbl&gt; | geometry &lt;MULTIPOLYGON [°]&gt; | Average &lt;dbl&gt; |\n",
       "|---|---|---|---|---|---|---|---|---|---|---|---|---|---|---|---|---|---|---|---|\n",
       "| 76 | FJI | 2000 | Fiji | 6 | 38.0 | 4000 | Western Pacific | WPR | FALSE | Male   | 78.8 | 25.1 | 24.4 | 25.7 | 62.74 | 74.91 | 69.29 | MULTIPOLYGON (((180 -16.067... | 26.26667 |\n",
       "| 77 | FJI | 2000 | Fiji | 6 | 38.0 | 4000 | Western Pacific | WPR | FALSE | Other  | 78.8 | 26.3 | 25.7 | 26.8 | 61.26 | 74.39 | 68.41 | MULTIPOLYGON (((180 -16.067... | 26.26667 |\n",
       "| 78 | FJI | 2000 | Fiji | 6 | 38.0 | 4000 | Western Pacific | WPR | FALSE | Female | 78.8 | 27.4 | 26.7 | 28.2 | 59.27 | 73.73 | 67.26 | MULTIPOLYGON (((180 -16.067... | 26.26667 |\n",
       "| 79 | FJI | 2001 | Fiji | 4 | 38.1 | 4040 | Western Pacific | WPR | FALSE | Male   | 90.4 | 25.2 | 24.6 | 25.8 | 62.10 | 73.94 | 68.42 | MULTIPOLYGON (((180 -16.067... | 26.36667 |\n",
       "| 80 | FJI | 2001 | Fiji | 4 | 38.1 | 4040 | Western Pacific | WPR | FALSE | Other  | 90.4 | 26.4 | 25.9 | 26.8 | 60.64 | 73.45 | 67.56 | MULTIPOLYGON (((180 -16.067... | 26.36667 |\n",
       "| 81 | FJI | 2001 | Fiji | 4 | 38.1 | 4040 | Western Pacific | WPR | FALSE | Female | 90.4 | 27.5 | 26.8 | 28.3 | 58.59 | 72.79 | 66.38 | MULTIPOLYGON (((180 -16.067... | 26.36667 |\n",
       "\n"
      ],
      "text/plain": [
       "   country_code year country Freedom_index gini GDP_per_capita region         \n",
       "76 FJI          2000 Fiji    6             38.0 4000           Western Pacific\n",
       "77 FJI          2000 Fiji    6             38.0 4000           Western Pacific\n",
       "78 FJI          2000 Fiji    6             38.0 4000           Western Pacific\n",
       "79 FJI          2001 Fiji    4             38.1 4040           Western Pacific\n",
       "80 FJI          2001 Fiji    4             38.1 4040           Western Pacific\n",
       "81 FJI          2001 Fiji    4             38.1 4040           Western Pacific\n",
       "   region_code EU_member gender daily_sugar_pp_grams bmi_ave bmi_low bmi_high\n",
       "76 WPR         FALSE     Male   78.8                 25.1    24.4    25.7    \n",
       "77 WPR         FALSE     Other  78.8                 26.3    25.7    26.8    \n",
       "78 WPR         FALSE     Female 78.8                 27.4    26.7    28.2    \n",
       "79 WPR         FALSE     Male   90.4                 25.2    24.6    25.8    \n",
       "80 WPR         FALSE     Other  90.4                 26.4    25.9    26.8    \n",
       "81 WPR         FALSE     Female 90.4                 27.5    26.8    28.3    \n",
       "   min_deaths max_deaths deaths geometry                       Average \n",
       "76 62.74      74.91      69.29  MULTIPOLYGON (((180 -16.067... 26.26667\n",
       "77 61.26      74.39      68.41  MULTIPOLYGON (((180 -16.067... 26.26667\n",
       "78 59.27      73.73      67.26  MULTIPOLYGON (((180 -16.067... 26.26667\n",
       "79 62.10      73.94      68.42  MULTIPOLYGON (((180 -16.067... 26.36667\n",
       "80 60.64      73.45      67.56  MULTIPOLYGON (((180 -16.067... 26.36667\n",
       "81 58.59      72.79      66.38  MULTIPOLYGON (((180 -16.067... 26.36667"
      ]
     },
     "metadata": {},
     "output_type": "display_data"
    },
    {
     "data": {
      "text/html": [
       "<table class=\"dataframe\">\n",
       "<caption>A data.frame: 6 × 19</caption>\n",
       "<thead>\n",
       "\t<tr><th></th><th scope=col>country_code</th><th scope=col>year</th><th scope=col>country</th><th scope=col>Freedom_index</th><th scope=col>gini</th><th scope=col>GDP_per_capita</th><th scope=col>region</th><th scope=col>region_code</th><th scope=col>EU_member</th><th scope=col>gender</th><th scope=col>daily_sugar_pp_grams</th><th scope=col>bmi_ave</th><th scope=col>bmi_low</th><th scope=col>bmi_high</th><th scope=col>min_deaths</th><th scope=col>max_deaths</th><th scope=col>deaths</th><th scope=col>geometry</th><th scope=col>Average</th></tr>\n",
       "\t<tr><th></th><th scope=col>&lt;chr&gt;</th><th scope=col>&lt;dbl&gt;</th><th scope=col>&lt;chr&gt;</th><th scope=col>&lt;fct&gt;</th><th scope=col>&lt;dbl&gt;</th><th scope=col>&lt;dbl&gt;</th><th scope=col>&lt;fct&gt;</th><th scope=col>&lt;fct&gt;</th><th scope=col>&lt;lgl&gt;</th><th scope=col>&lt;chr&gt;</th><th scope=col>&lt;dbl&gt;</th><th scope=col>&lt;dbl&gt;</th><th scope=col>&lt;dbl&gt;</th><th scope=col>&lt;dbl&gt;</th><th scope=col>&lt;dbl&gt;</th><th scope=col>&lt;dbl&gt;</th><th scope=col>&lt;dbl&gt;</th><th scope=col>&lt;MULTIPOLYGON [°]&gt;</th><th scope=col>&lt;dbl&gt;</th></tr>\n",
       "</thead>\n",
       "<tbody>\n",
       "\t<tr><th scope=row>16954</th><td>TTO</td><td>2015</td><td>Trinidad and Tobago</td><td>2</td><td>41.3</td><td>184000</td><td>Americas</td><td>AMR</td><td>FALSE</td><td>Male  </td><td>173</td><td>26.5</td><td>24.8</td><td>28.1</td><td>39.65</td><td>60.23</td><td>50.41</td><td>MULTIPOLYGON (((-61.68 10.7...</td><td>27.5</td></tr>\n",
       "\t<tr><th scope=row>16955</th><td>TTO</td><td>2015</td><td>Trinidad and Tobago</td><td>2</td><td>41.3</td><td>184000</td><td>Americas</td><td>AMR</td><td>FALSE</td><td>Other </td><td>173</td><td>27.5</td><td>26.2</td><td>28.8</td><td>37.06</td><td>57.64</td><td>47.68</td><td>MULTIPOLYGON (((-61.68 10.7...</td><td>27.5</td></tr>\n",
       "\t<tr><th scope=row>16956</th><td>TTO</td><td>2015</td><td>Trinidad and Tobago</td><td>2</td><td>41.3</td><td>184000</td><td>Americas</td><td>AMR</td><td>FALSE</td><td>Female</td><td>173</td><td>28.5</td><td>26.5</td><td>30.4</td><td>33.97</td><td>54.40</td><td>44.32</td><td>MULTIPOLYGON (((-61.68 10.7...</td><td>27.5</td></tr>\n",
       "\t<tr><th scope=row>16957</th><td>TTO</td><td>2016</td><td>Trinidad and Tobago</td><td>2</td><td>41.3</td><td> 17000</td><td>Americas</td><td>AMR</td><td>FALSE</td><td>Male  </td><td>181</td><td>26.6</td><td>24.8</td><td>28.3</td><td>38.43</td><td>59.73</td><td>49.58</td><td>MULTIPOLYGON (((-61.68 10.7...</td><td>27.6</td></tr>\n",
       "\t<tr><th scope=row>16958</th><td>TTO</td><td>2016</td><td>Trinidad and Tobago</td><td>2</td><td>41.3</td><td> 17000</td><td>Americas</td><td>AMR</td><td>FALSE</td><td>Other </td><td>181</td><td>27.6</td><td>26.2</td><td>28.9</td><td>36.04</td><td>57.40</td><td>47.10</td><td>MULTIPOLYGON (((-61.68 10.7...</td><td>27.6</td></tr>\n",
       "\t<tr><th scope=row>16959</th><td>TTO</td><td>2016</td><td>Trinidad and Tobago</td><td>2</td><td>41.3</td><td> 17000</td><td>Americas</td><td>AMR</td><td>FALSE</td><td>Female</td><td>181</td><td>28.6</td><td>26.5</td><td>30.6</td><td>33.15</td><td>54.46</td><td>44.05</td><td>MULTIPOLYGON (((-61.68 10.7...</td><td>27.6</td></tr>\n",
       "</tbody>\n",
       "</table>\n"
      ],
      "text/latex": [
       "A data.frame: 6 × 19\n",
       "\\begin{tabular}{r|lllllllllllllllllll}\n",
       "  & country\\_code & year & country & Freedom\\_index & gini & GDP\\_per\\_capita & region & region\\_code & EU\\_member & gender & daily\\_sugar\\_pp\\_grams & bmi\\_ave & bmi\\_low & bmi\\_high & min\\_deaths & max\\_deaths & deaths & geometry & Average\\\\\n",
       "  & <chr> & <dbl> & <chr> & <fct> & <dbl> & <dbl> & <fct> & <fct> & <lgl> & <chr> & <dbl> & <dbl> & <dbl> & <dbl> & <dbl> & <dbl> & <dbl> & <MULTIPOLYGON {[}°{]}> & <dbl>\\\\\n",
       "\\hline\n",
       "\t16954 & TTO & 2015 & Trinidad and Tobago & 2 & 41.3 & 184000 & Americas & AMR & FALSE & Male   & 173 & 26.5 & 24.8 & 28.1 & 39.65 & 60.23 & 50.41 & MULTIPOLYGON (((-61.68 10.7... & 27.5\\\\\n",
       "\t16955 & TTO & 2015 & Trinidad and Tobago & 2 & 41.3 & 184000 & Americas & AMR & FALSE & Other  & 173 & 27.5 & 26.2 & 28.8 & 37.06 & 57.64 & 47.68 & MULTIPOLYGON (((-61.68 10.7... & 27.5\\\\\n",
       "\t16956 & TTO & 2015 & Trinidad and Tobago & 2 & 41.3 & 184000 & Americas & AMR & FALSE & Female & 173 & 28.5 & 26.5 & 30.4 & 33.97 & 54.40 & 44.32 & MULTIPOLYGON (((-61.68 10.7... & 27.5\\\\\n",
       "\t16957 & TTO & 2016 & Trinidad and Tobago & 2 & 41.3 &  17000 & Americas & AMR & FALSE & Male   & 181 & 26.6 & 24.8 & 28.3 & 38.43 & 59.73 & 49.58 & MULTIPOLYGON (((-61.68 10.7... & 27.6\\\\\n",
       "\t16958 & TTO & 2016 & Trinidad and Tobago & 2 & 41.3 &  17000 & Americas & AMR & FALSE & Other  & 181 & 27.6 & 26.2 & 28.9 & 36.04 & 57.40 & 47.10 & MULTIPOLYGON (((-61.68 10.7... & 27.6\\\\\n",
       "\t16959 & TTO & 2016 & Trinidad and Tobago & 2 & 41.3 &  17000 & Americas & AMR & FALSE & Female & 181 & 28.6 & 26.5 & 30.6 & 33.15 & 54.46 & 44.05 & MULTIPOLYGON (((-61.68 10.7... & 27.6\\\\\n",
       "\\end{tabular}\n"
      ],
      "text/markdown": [
       "\n",
       "A data.frame: 6 × 19\n",
       "\n",
       "| <!--/--> | country_code &lt;chr&gt; | year &lt;dbl&gt; | country &lt;chr&gt; | Freedom_index &lt;fct&gt; | gini &lt;dbl&gt; | GDP_per_capita &lt;dbl&gt; | region &lt;fct&gt; | region_code &lt;fct&gt; | EU_member &lt;lgl&gt; | gender &lt;chr&gt; | daily_sugar_pp_grams &lt;dbl&gt; | bmi_ave &lt;dbl&gt; | bmi_low &lt;dbl&gt; | bmi_high &lt;dbl&gt; | min_deaths &lt;dbl&gt; | max_deaths &lt;dbl&gt; | deaths &lt;dbl&gt; | geometry &lt;MULTIPOLYGON [°]&gt; | Average &lt;dbl&gt; |\n",
       "|---|---|---|---|---|---|---|---|---|---|---|---|---|---|---|---|---|---|---|---|\n",
       "| 16954 | TTO | 2015 | Trinidad and Tobago | 2 | 41.3 | 184000 | Americas | AMR | FALSE | Male   | 173 | 26.5 | 24.8 | 28.1 | 39.65 | 60.23 | 50.41 | MULTIPOLYGON (((-61.68 10.7... | 27.5 |\n",
       "| 16955 | TTO | 2015 | Trinidad and Tobago | 2 | 41.3 | 184000 | Americas | AMR | FALSE | Other  | 173 | 27.5 | 26.2 | 28.8 | 37.06 | 57.64 | 47.68 | MULTIPOLYGON (((-61.68 10.7... | 27.5 |\n",
       "| 16956 | TTO | 2015 | Trinidad and Tobago | 2 | 41.3 | 184000 | Americas | AMR | FALSE | Female | 173 | 28.5 | 26.5 | 30.4 | 33.97 | 54.40 | 44.32 | MULTIPOLYGON (((-61.68 10.7... | 27.5 |\n",
       "| 16957 | TTO | 2016 | Trinidad and Tobago | 2 | 41.3 |  17000 | Americas | AMR | FALSE | Male   | 181 | 26.6 | 24.8 | 28.3 | 38.43 | 59.73 | 49.58 | MULTIPOLYGON (((-61.68 10.7... | 27.6 |\n",
       "| 16958 | TTO | 2016 | Trinidad and Tobago | 2 | 41.3 |  17000 | Americas | AMR | FALSE | Other  | 181 | 27.6 | 26.2 | 28.9 | 36.04 | 57.40 | 47.10 | MULTIPOLYGON (((-61.68 10.7... | 27.6 |\n",
       "| 16959 | TTO | 2016 | Trinidad and Tobago | 2 | 41.3 |  17000 | Americas | AMR | FALSE | Female | 181 | 28.6 | 26.5 | 30.6 | 33.15 | 54.46 | 44.05 | MULTIPOLYGON (((-61.68 10.7... | 27.6 |\n",
       "\n"
      ],
      "text/plain": [
       "      country_code year country             Freedom_index gini GDP_per_capita\n",
       "16954 TTO          2015 Trinidad and Tobago 2             41.3 184000        \n",
       "16955 TTO          2015 Trinidad and Tobago 2             41.3 184000        \n",
       "16956 TTO          2015 Trinidad and Tobago 2             41.3 184000        \n",
       "16957 TTO          2016 Trinidad and Tobago 2             41.3  17000        \n",
       "16958 TTO          2016 Trinidad and Tobago 2             41.3  17000        \n",
       "16959 TTO          2016 Trinidad and Tobago 2             41.3  17000        \n",
       "      region   region_code EU_member gender daily_sugar_pp_grams bmi_ave\n",
       "16954 Americas AMR         FALSE     Male   173                  26.5   \n",
       "16955 Americas AMR         FALSE     Other  173                  27.5   \n",
       "16956 Americas AMR         FALSE     Female 173                  28.5   \n",
       "16957 Americas AMR         FALSE     Male   181                  26.6   \n",
       "16958 Americas AMR         FALSE     Other  181                  27.6   \n",
       "16959 Americas AMR         FALSE     Female 181                  28.6   \n",
       "      bmi_low bmi_high min_deaths max_deaths deaths\n",
       "16954 24.8    28.1     39.65      60.23      50.41 \n",
       "16955 26.2    28.8     37.06      57.64      47.68 \n",
       "16956 26.5    30.4     33.97      54.40      44.32 \n",
       "16957 24.8    28.3     38.43      59.73      49.58 \n",
       "16958 26.2    28.9     36.04      57.40      47.10 \n",
       "16959 26.5    30.6     33.15      54.46      44.05 \n",
       "      geometry                       Average\n",
       "16954 MULTIPOLYGON (((-61.68 10.7... 27.5   \n",
       "16955 MULTIPOLYGON (((-61.68 10.7... 27.5   \n",
       "16956 MULTIPOLYGON (((-61.68 10.7... 27.5   \n",
       "16957 MULTIPOLYGON (((-61.68 10.7... 27.6   \n",
       "16958 MULTIPOLYGON (((-61.68 10.7... 27.6   \n",
       "16959 MULTIPOLYGON (((-61.68 10.7... 27.6   "
      ]
     },
     "metadata": {},
     "output_type": "display_data"
    }
   ],
   "source": [
    "merged_data %>% head()\n",
    "merged_data %>% tail()"
   ]
  },
  {
   "cell_type": "code",
   "execution_count": 41,
   "id": "89b06757-9fd4-4b14-a10c-a5f2406ef672",
   "metadata": {
    "tags": []
   },
   "outputs": [],
   "source": [
    "#rename the new columns:\n",
    "merged_data <- merged_data %>%\n",
    "    rename(bmi_ave_gender = Average)"
   ]
  },
  {
   "cell_type": "code",
   "execution_count": 42,
   "id": "6abdd344-ad83-488d-9d5a-914396253d08",
   "metadata": {
    "tags": []
   },
   "outputs": [
    {
     "data": {
      "text/html": [
       "<table class=\"dataframe\">\n",
       "<caption>A data.frame: 6 × 1</caption>\n",
       "<thead>\n",
       "\t<tr><th></th><th scope=col>bmi_ave_gender</th></tr>\n",
       "\t<tr><th></th><th scope=col>&lt;dbl&gt;</th></tr>\n",
       "</thead>\n",
       "<tbody>\n",
       "\t<tr><th scope=row>76</th><td>26.26667</td></tr>\n",
       "\t<tr><th scope=row>77</th><td>26.26667</td></tr>\n",
       "\t<tr><th scope=row>78</th><td>26.26667</td></tr>\n",
       "\t<tr><th scope=row>79</th><td>26.36667</td></tr>\n",
       "\t<tr><th scope=row>80</th><td>26.36667</td></tr>\n",
       "\t<tr><th scope=row>81</th><td>26.36667</td></tr>\n",
       "</tbody>\n",
       "</table>\n"
      ],
      "text/latex": [
       "A data.frame: 6 × 1\n",
       "\\begin{tabular}{r|l}\n",
       "  & bmi\\_ave\\_gender\\\\\n",
       "  & <dbl>\\\\\n",
       "\\hline\n",
       "\t76 & 26.26667\\\\\n",
       "\t77 & 26.26667\\\\\n",
       "\t78 & 26.26667\\\\\n",
       "\t79 & 26.36667\\\\\n",
       "\t80 & 26.36667\\\\\n",
       "\t81 & 26.36667\\\\\n",
       "\\end{tabular}\n"
      ],
      "text/markdown": [
       "\n",
       "A data.frame: 6 × 1\n",
       "\n",
       "| <!--/--> | bmi_ave_gender &lt;dbl&gt; |\n",
       "|---|---|\n",
       "| 76 | 26.26667 |\n",
       "| 77 | 26.26667 |\n",
       "| 78 | 26.26667 |\n",
       "| 79 | 26.36667 |\n",
       "| 80 | 26.36667 |\n",
       "| 81 | 26.36667 |\n",
       "\n"
      ],
      "text/plain": [
       "   bmi_ave_gender\n",
       "76 26.26667      \n",
       "77 26.26667      \n",
       "78 26.26667      \n",
       "79 26.36667      \n",
       "80 26.36667      \n",
       "81 26.36667      "
      ]
     },
     "metadata": {},
     "output_type": "display_data"
    }
   ],
   "source": [
    "head(merged_data[19])"
   ]
  },
  {
   "cell_type": "markdown",
   "id": "3e773d96-6841-46f4-886a-7fc3ea677754",
   "metadata": {},
   "source": [
    "**Average Deaths**"
   ]
  },
  {
   "cell_type": "markdown",
   "id": "e2b97a36-c981-4eb0-b591-8a7648de31c8",
   "metadata": {},
   "source": [
    "For the Deaths accross time plot we need to find the average deaths for all genders, so we will repeat the process but for the deaths:\n"
   ]
  },
  {
   "cell_type": "code",
   "execution_count": 43,
   "id": "2db8e73d-55ba-47e9-962a-a6a9f14b0ed0",
   "metadata": {
    "tags": []
   },
   "outputs": [],
   "source": [
    "# Split the dataset into groups of three rows\n",
    "groups <- split(dfmap_ncd, rep(1:ceiling(nrow(dfmap_ncd)/3), each = 3, length.out = nrow(dfmap_ncd)))\n",
    "\n",
    "# Calculate the average for the \"bmi_ave\" column in each group\n",
    "averages <- lapply(groups, function(group) {\n",
    "  mean(group$deaths, na.rm = TRUE)\n",
    "})\n",
    "\n",
    "# Convert the list of averages into a data frame\n",
    "average_data <- data.frame(Group = names(averages), Average = sapply(averages, mean))\n",
    "\n",
    "\n"
   ]
  },
  {
   "cell_type": "code",
   "execution_count": 44,
   "id": "7ec0b8ab-7120-4ffc-bf7d-b3e62ee098f5",
   "metadata": {
    "tags": []
   },
   "outputs": [
    {
     "data": {
      "text/html": [
       "<table class=\"dataframe\">\n",
       "<caption>A data.frame: 6 × 2</caption>\n",
       "<thead>\n",
       "\t<tr><th></th><th scope=col>Group</th><th scope=col>Average</th></tr>\n",
       "\t<tr><th></th><th scope=col>&lt;chr&gt;</th><th scope=col>&lt;dbl&gt;</th></tr>\n",
       "</thead>\n",
       "<tbody>\n",
       "\t<tr><th scope=row>1</th><td>1</td><td>68.32000</td></tr>\n",
       "\t<tr><th scope=row>2</th><td>2</td><td>67.45333</td></tr>\n",
       "\t<tr><th scope=row>3</th><td>3</td><td>66.76000</td></tr>\n",
       "\t<tr><th scope=row>4</th><td>4</td><td>66.59667</td></tr>\n",
       "\t<tr><th scope=row>5</th><td>5</td><td>67.49333</td></tr>\n",
       "\t<tr><th scope=row>6</th><td>6</td><td>69.15333</td></tr>\n",
       "</tbody>\n",
       "</table>\n"
      ],
      "text/latex": [
       "A data.frame: 6 × 2\n",
       "\\begin{tabular}{r|ll}\n",
       "  & Group & Average\\\\\n",
       "  & <chr> & <dbl>\\\\\n",
       "\\hline\n",
       "\t1 & 1 & 68.32000\\\\\n",
       "\t2 & 2 & 67.45333\\\\\n",
       "\t3 & 3 & 66.76000\\\\\n",
       "\t4 & 4 & 66.59667\\\\\n",
       "\t5 & 5 & 67.49333\\\\\n",
       "\t6 & 6 & 69.15333\\\\\n",
       "\\end{tabular}\n"
      ],
      "text/markdown": [
       "\n",
       "A data.frame: 6 × 2\n",
       "\n",
       "| <!--/--> | Group &lt;chr&gt; | Average &lt;dbl&gt; |\n",
       "|---|---|---|\n",
       "| 1 | 1 | 68.32000 |\n",
       "| 2 | 2 | 67.45333 |\n",
       "| 3 | 3 | 66.76000 |\n",
       "| 4 | 4 | 66.59667 |\n",
       "| 5 | 5 | 67.49333 |\n",
       "| 6 | 6 | 69.15333 |\n",
       "\n"
      ],
      "text/plain": [
       "  Group Average \n",
       "1 1     68.32000\n",
       "2 2     67.45333\n",
       "3 3     66.76000\n",
       "4 4     66.59667\n",
       "5 5     67.49333\n",
       "6 6     69.15333"
      ]
     },
     "metadata": {},
     "output_type": "display_data"
    },
    {
     "data": {
      "text/html": [
       "2418"
      ],
      "text/latex": [
       "2418"
      ],
      "text/markdown": [
       "2418"
      ],
      "text/plain": [
       "[1] 2418"
      ]
     },
     "metadata": {},
     "output_type": "display_data"
    },
    {
     "data": {
      "text/html": [
       "7254"
      ],
      "text/latex": [
       "7254"
      ],
      "text/markdown": [
       "7254"
      ],
      "text/plain": [
       "[1] 7254"
      ]
     },
     "metadata": {},
     "output_type": "display_data"
    }
   ],
   "source": [
    "average_data %>% head() \n",
    "average_data %>% nrow()\n",
    "\n",
    "dfmap_ncd %>% nrow()"
   ]
  },
  {
   "cell_type": "code",
   "execution_count": 45,
   "id": "8bc51493-4791-4e89-a515-3a5951ddf60b",
   "metadata": {
    "tags": []
   },
   "outputs": [],
   "source": [
    "# Duplicate every row twice\n",
    "average_data_tripled <- average_data[rep(seq_len(nrow(average_data)), each = 3), ]\n",
    "\n",
    "# Reset the row names if needed\n",
    "rownames(average_data_tripled) <- NULL\n"
   ]
  },
  {
   "cell_type": "code",
   "execution_count": 46,
   "id": "360cf6f2-41c7-438d-ab33-1d1833ceb1a4",
   "metadata": {
    "tags": []
   },
   "outputs": [
    {
     "data": {
      "text/html": [
       "<table class=\"dataframe\">\n",
       "<caption>A data.frame: 6 × 1</caption>\n",
       "<thead>\n",
       "\t<tr><th></th><th scope=col>Average</th></tr>\n",
       "\t<tr><th></th><th scope=col>&lt;dbl&gt;</th></tr>\n",
       "</thead>\n",
       "<tbody>\n",
       "\t<tr><th scope=row>1</th><td>68.32000</td></tr>\n",
       "\t<tr><th scope=row>2</th><td>68.32000</td></tr>\n",
       "\t<tr><th scope=row>3</th><td>68.32000</td></tr>\n",
       "\t<tr><th scope=row>4</th><td>67.45333</td></tr>\n",
       "\t<tr><th scope=row>5</th><td>67.45333</td></tr>\n",
       "\t<tr><th scope=row>6</th><td>67.45333</td></tr>\n",
       "</tbody>\n",
       "</table>\n"
      ],
      "text/latex": [
       "A data.frame: 6 × 1\n",
       "\\begin{tabular}{r|l}\n",
       "  & Average\\\\\n",
       "  & <dbl>\\\\\n",
       "\\hline\n",
       "\t1 & 68.32000\\\\\n",
       "\t2 & 68.32000\\\\\n",
       "\t3 & 68.32000\\\\\n",
       "\t4 & 67.45333\\\\\n",
       "\t5 & 67.45333\\\\\n",
       "\t6 & 67.45333\\\\\n",
       "\\end{tabular}\n"
      ],
      "text/markdown": [
       "\n",
       "A data.frame: 6 × 1\n",
       "\n",
       "| <!--/--> | Average &lt;dbl&gt; |\n",
       "|---|---|\n",
       "| 1 | 68.32000 |\n",
       "| 2 | 68.32000 |\n",
       "| 3 | 68.32000 |\n",
       "| 4 | 67.45333 |\n",
       "| 5 | 67.45333 |\n",
       "| 6 | 67.45333 |\n",
       "\n"
      ],
      "text/plain": [
       "  Average \n",
       "1 68.32000\n",
       "2 68.32000\n",
       "3 68.32000\n",
       "4 67.45333\n",
       "5 67.45333\n",
       "6 67.45333"
      ]
     },
     "metadata": {},
     "output_type": "display_data"
    }
   ],
   "source": [
    "average_data_tripled <- average_data_tripled %>%\n",
    "    subset(select = -Group)\n",
    "\n",
    "head(average_data_tripled)"
   ]
  },
  {
   "cell_type": "code",
   "execution_count": 47,
   "id": "0213cd83-6a23-4b3b-b0b5-47e2e6a5af60",
   "metadata": {
    "tags": []
   },
   "outputs": [],
   "source": [
    "merged_data <- data.frame(merged_data, average_data_tripled)"
   ]
  },
  {
   "cell_type": "code",
   "execution_count": 48,
   "id": "8ae7cda4-4dbd-4813-b2fe-f7a6c4057de0",
   "metadata": {
    "tags": []
   },
   "outputs": [
    {
     "data": {
      "text/html": [
       "<table class=\"dataframe\">\n",
       "<caption>A data.frame: 6 × 20</caption>\n",
       "<thead>\n",
       "\t<tr><th></th><th scope=col>country_code</th><th scope=col>year</th><th scope=col>country</th><th scope=col>Freedom_index</th><th scope=col>gini</th><th scope=col>GDP_per_capita</th><th scope=col>region</th><th scope=col>region_code</th><th scope=col>EU_member</th><th scope=col>gender</th><th scope=col>daily_sugar_pp_grams</th><th scope=col>bmi_ave</th><th scope=col>bmi_low</th><th scope=col>bmi_high</th><th scope=col>min_deaths</th><th scope=col>max_deaths</th><th scope=col>deaths</th><th scope=col>geometry</th><th scope=col>bmi_ave_gender</th><th scope=col>Average</th></tr>\n",
       "\t<tr><th></th><th scope=col>&lt;chr&gt;</th><th scope=col>&lt;dbl&gt;</th><th scope=col>&lt;chr&gt;</th><th scope=col>&lt;fct&gt;</th><th scope=col>&lt;dbl&gt;</th><th scope=col>&lt;dbl&gt;</th><th scope=col>&lt;fct&gt;</th><th scope=col>&lt;fct&gt;</th><th scope=col>&lt;lgl&gt;</th><th scope=col>&lt;chr&gt;</th><th scope=col>&lt;dbl&gt;</th><th scope=col>&lt;dbl&gt;</th><th scope=col>&lt;dbl&gt;</th><th scope=col>&lt;dbl&gt;</th><th scope=col>&lt;dbl&gt;</th><th scope=col>&lt;dbl&gt;</th><th scope=col>&lt;dbl&gt;</th><th scope=col>&lt;MULTIPOLYGON [°]&gt;</th><th scope=col>&lt;dbl&gt;</th><th scope=col>&lt;dbl&gt;</th></tr>\n",
       "</thead>\n",
       "<tbody>\n",
       "\t<tr><th scope=row>76</th><td>FJI</td><td>2000</td><td>Fiji</td><td>6</td><td>38.0</td><td>4000</td><td>Western Pacific</td><td>WPR</td><td>FALSE</td><td>Male  </td><td>78.8</td><td>25.1</td><td>24.4</td><td>25.7</td><td>62.74</td><td>74.91</td><td>69.29</td><td>MULTIPOLYGON (((180 -16.067...</td><td>26.26667</td><td>68.32000</td></tr>\n",
       "\t<tr><th scope=row>77</th><td>FJI</td><td>2000</td><td>Fiji</td><td>6</td><td>38.0</td><td>4000</td><td>Western Pacific</td><td>WPR</td><td>FALSE</td><td>Other </td><td>78.8</td><td>26.3</td><td>25.7</td><td>26.8</td><td>61.26</td><td>74.39</td><td>68.41</td><td>MULTIPOLYGON (((180 -16.067...</td><td>26.26667</td><td>68.32000</td></tr>\n",
       "\t<tr><th scope=row>78</th><td>FJI</td><td>2000</td><td>Fiji</td><td>6</td><td>38.0</td><td>4000</td><td>Western Pacific</td><td>WPR</td><td>FALSE</td><td>Female</td><td>78.8</td><td>27.4</td><td>26.7</td><td>28.2</td><td>59.27</td><td>73.73</td><td>67.26</td><td>MULTIPOLYGON (((180 -16.067...</td><td>26.26667</td><td>68.32000</td></tr>\n",
       "\t<tr><th scope=row>79</th><td>FJI</td><td>2001</td><td>Fiji</td><td>4</td><td>38.1</td><td>4040</td><td>Western Pacific</td><td>WPR</td><td>FALSE</td><td>Male  </td><td>90.4</td><td>25.2</td><td>24.6</td><td>25.8</td><td>62.10</td><td>73.94</td><td>68.42</td><td>MULTIPOLYGON (((180 -16.067...</td><td>26.36667</td><td>67.45333</td></tr>\n",
       "\t<tr><th scope=row>80</th><td>FJI</td><td>2001</td><td>Fiji</td><td>4</td><td>38.1</td><td>4040</td><td>Western Pacific</td><td>WPR</td><td>FALSE</td><td>Other </td><td>90.4</td><td>26.4</td><td>25.9</td><td>26.8</td><td>60.64</td><td>73.45</td><td>67.56</td><td>MULTIPOLYGON (((180 -16.067...</td><td>26.36667</td><td>67.45333</td></tr>\n",
       "\t<tr><th scope=row>81</th><td>FJI</td><td>2001</td><td>Fiji</td><td>4</td><td>38.1</td><td>4040</td><td>Western Pacific</td><td>WPR</td><td>FALSE</td><td>Female</td><td>90.4</td><td>27.5</td><td>26.8</td><td>28.3</td><td>58.59</td><td>72.79</td><td>66.38</td><td>MULTIPOLYGON (((180 -16.067...</td><td>26.36667</td><td>67.45333</td></tr>\n",
       "</tbody>\n",
       "</table>\n"
      ],
      "text/latex": [
       "A data.frame: 6 × 20\n",
       "\\begin{tabular}{r|llllllllllllllllllll}\n",
       "  & country\\_code & year & country & Freedom\\_index & gini & GDP\\_per\\_capita & region & region\\_code & EU\\_member & gender & daily\\_sugar\\_pp\\_grams & bmi\\_ave & bmi\\_low & bmi\\_high & min\\_deaths & max\\_deaths & deaths & geometry & bmi\\_ave\\_gender & Average\\\\\n",
       "  & <chr> & <dbl> & <chr> & <fct> & <dbl> & <dbl> & <fct> & <fct> & <lgl> & <chr> & <dbl> & <dbl> & <dbl> & <dbl> & <dbl> & <dbl> & <dbl> & <MULTIPOLYGON {[}°{]}> & <dbl> & <dbl>\\\\\n",
       "\\hline\n",
       "\t76 & FJI & 2000 & Fiji & 6 & 38.0 & 4000 & Western Pacific & WPR & FALSE & Male   & 78.8 & 25.1 & 24.4 & 25.7 & 62.74 & 74.91 & 69.29 & MULTIPOLYGON (((180 -16.067... & 26.26667 & 68.32000\\\\\n",
       "\t77 & FJI & 2000 & Fiji & 6 & 38.0 & 4000 & Western Pacific & WPR & FALSE & Other  & 78.8 & 26.3 & 25.7 & 26.8 & 61.26 & 74.39 & 68.41 & MULTIPOLYGON (((180 -16.067... & 26.26667 & 68.32000\\\\\n",
       "\t78 & FJI & 2000 & Fiji & 6 & 38.0 & 4000 & Western Pacific & WPR & FALSE & Female & 78.8 & 27.4 & 26.7 & 28.2 & 59.27 & 73.73 & 67.26 & MULTIPOLYGON (((180 -16.067... & 26.26667 & 68.32000\\\\\n",
       "\t79 & FJI & 2001 & Fiji & 4 & 38.1 & 4040 & Western Pacific & WPR & FALSE & Male   & 90.4 & 25.2 & 24.6 & 25.8 & 62.10 & 73.94 & 68.42 & MULTIPOLYGON (((180 -16.067... & 26.36667 & 67.45333\\\\\n",
       "\t80 & FJI & 2001 & Fiji & 4 & 38.1 & 4040 & Western Pacific & WPR & FALSE & Other  & 90.4 & 26.4 & 25.9 & 26.8 & 60.64 & 73.45 & 67.56 & MULTIPOLYGON (((180 -16.067... & 26.36667 & 67.45333\\\\\n",
       "\t81 & FJI & 2001 & Fiji & 4 & 38.1 & 4040 & Western Pacific & WPR & FALSE & Female & 90.4 & 27.5 & 26.8 & 28.3 & 58.59 & 72.79 & 66.38 & MULTIPOLYGON (((180 -16.067... & 26.36667 & 67.45333\\\\\n",
       "\\end{tabular}\n"
      ],
      "text/markdown": [
       "\n",
       "A data.frame: 6 × 20\n",
       "\n",
       "| <!--/--> | country_code &lt;chr&gt; | year &lt;dbl&gt; | country &lt;chr&gt; | Freedom_index &lt;fct&gt; | gini &lt;dbl&gt; | GDP_per_capita &lt;dbl&gt; | region &lt;fct&gt; | region_code &lt;fct&gt; | EU_member &lt;lgl&gt; | gender &lt;chr&gt; | daily_sugar_pp_grams &lt;dbl&gt; | bmi_ave &lt;dbl&gt; | bmi_low &lt;dbl&gt; | bmi_high &lt;dbl&gt; | min_deaths &lt;dbl&gt; | max_deaths &lt;dbl&gt; | deaths &lt;dbl&gt; | geometry &lt;MULTIPOLYGON [°]&gt; | bmi_ave_gender &lt;dbl&gt; | Average &lt;dbl&gt; |\n",
       "|---|---|---|---|---|---|---|---|---|---|---|---|---|---|---|---|---|---|---|---|---|\n",
       "| 76 | FJI | 2000 | Fiji | 6 | 38.0 | 4000 | Western Pacific | WPR | FALSE | Male   | 78.8 | 25.1 | 24.4 | 25.7 | 62.74 | 74.91 | 69.29 | MULTIPOLYGON (((180 -16.067... | 26.26667 | 68.32000 |\n",
       "| 77 | FJI | 2000 | Fiji | 6 | 38.0 | 4000 | Western Pacific | WPR | FALSE | Other  | 78.8 | 26.3 | 25.7 | 26.8 | 61.26 | 74.39 | 68.41 | MULTIPOLYGON (((180 -16.067... | 26.26667 | 68.32000 |\n",
       "| 78 | FJI | 2000 | Fiji | 6 | 38.0 | 4000 | Western Pacific | WPR | FALSE | Female | 78.8 | 27.4 | 26.7 | 28.2 | 59.27 | 73.73 | 67.26 | MULTIPOLYGON (((180 -16.067... | 26.26667 | 68.32000 |\n",
       "| 79 | FJI | 2001 | Fiji | 4 | 38.1 | 4040 | Western Pacific | WPR | FALSE | Male   | 90.4 | 25.2 | 24.6 | 25.8 | 62.10 | 73.94 | 68.42 | MULTIPOLYGON (((180 -16.067... | 26.36667 | 67.45333 |\n",
       "| 80 | FJI | 2001 | Fiji | 4 | 38.1 | 4040 | Western Pacific | WPR | FALSE | Other  | 90.4 | 26.4 | 25.9 | 26.8 | 60.64 | 73.45 | 67.56 | MULTIPOLYGON (((180 -16.067... | 26.36667 | 67.45333 |\n",
       "| 81 | FJI | 2001 | Fiji | 4 | 38.1 | 4040 | Western Pacific | WPR | FALSE | Female | 90.4 | 27.5 | 26.8 | 28.3 | 58.59 | 72.79 | 66.38 | MULTIPOLYGON (((180 -16.067... | 26.36667 | 67.45333 |\n",
       "\n"
      ],
      "text/plain": [
       "   country_code year country Freedom_index gini GDP_per_capita region         \n",
       "76 FJI          2000 Fiji    6             38.0 4000           Western Pacific\n",
       "77 FJI          2000 Fiji    6             38.0 4000           Western Pacific\n",
       "78 FJI          2000 Fiji    6             38.0 4000           Western Pacific\n",
       "79 FJI          2001 Fiji    4             38.1 4040           Western Pacific\n",
       "80 FJI          2001 Fiji    4             38.1 4040           Western Pacific\n",
       "81 FJI          2001 Fiji    4             38.1 4040           Western Pacific\n",
       "   region_code EU_member gender daily_sugar_pp_grams bmi_ave bmi_low bmi_high\n",
       "76 WPR         FALSE     Male   78.8                 25.1    24.4    25.7    \n",
       "77 WPR         FALSE     Other  78.8                 26.3    25.7    26.8    \n",
       "78 WPR         FALSE     Female 78.8                 27.4    26.7    28.2    \n",
       "79 WPR         FALSE     Male   90.4                 25.2    24.6    25.8    \n",
       "80 WPR         FALSE     Other  90.4                 26.4    25.9    26.8    \n",
       "81 WPR         FALSE     Female 90.4                 27.5    26.8    28.3    \n",
       "   min_deaths max_deaths deaths geometry                       bmi_ave_gender\n",
       "76 62.74      74.91      69.29  MULTIPOLYGON (((180 -16.067... 26.26667      \n",
       "77 61.26      74.39      68.41  MULTIPOLYGON (((180 -16.067... 26.26667      \n",
       "78 59.27      73.73      67.26  MULTIPOLYGON (((180 -16.067... 26.26667      \n",
       "79 62.10      73.94      68.42  MULTIPOLYGON (((180 -16.067... 26.36667      \n",
       "80 60.64      73.45      67.56  MULTIPOLYGON (((180 -16.067... 26.36667      \n",
       "81 58.59      72.79      66.38  MULTIPOLYGON (((180 -16.067... 26.36667      \n",
       "   Average \n",
       "76 68.32000\n",
       "77 68.32000\n",
       "78 68.32000\n",
       "79 67.45333\n",
       "80 67.45333\n",
       "81 67.45333"
      ]
     },
     "metadata": {},
     "output_type": "display_data"
    }
   ],
   "source": [
    "head(merged_data)"
   ]
  },
  {
   "cell_type": "code",
   "execution_count": 49,
   "id": "959b4070-2f63-49af-9e22-5bf553ec5f4f",
   "metadata": {
    "tags": []
   },
   "outputs": [],
   "source": [
    "merged_data <- merged_data %>%\n",
    "    rename(deaths_average_gender = Average)"
   ]
  },
  {
   "cell_type": "code",
   "execution_count": 50,
   "id": "21b74041-3952-4bb9-b6d9-44c4153b4dc8",
   "metadata": {
    "tags": []
   },
   "outputs": [
    {
     "data": {
      "text/html": [
       "<table class=\"dataframe\">\n",
       "<caption>A data.frame: 6 × 20</caption>\n",
       "<thead>\n",
       "\t<tr><th></th><th scope=col>country_code</th><th scope=col>year</th><th scope=col>country</th><th scope=col>Freedom_index</th><th scope=col>gini</th><th scope=col>GDP_per_capita</th><th scope=col>region</th><th scope=col>region_code</th><th scope=col>EU_member</th><th scope=col>gender</th><th scope=col>daily_sugar_pp_grams</th><th scope=col>bmi_ave</th><th scope=col>bmi_low</th><th scope=col>bmi_high</th><th scope=col>min_deaths</th><th scope=col>max_deaths</th><th scope=col>deaths</th><th scope=col>geometry</th><th scope=col>bmi_ave_gender</th><th scope=col>deaths_average_gender</th></tr>\n",
       "\t<tr><th></th><th scope=col>&lt;chr&gt;</th><th scope=col>&lt;dbl&gt;</th><th scope=col>&lt;chr&gt;</th><th scope=col>&lt;fct&gt;</th><th scope=col>&lt;dbl&gt;</th><th scope=col>&lt;dbl&gt;</th><th scope=col>&lt;fct&gt;</th><th scope=col>&lt;fct&gt;</th><th scope=col>&lt;lgl&gt;</th><th scope=col>&lt;chr&gt;</th><th scope=col>&lt;dbl&gt;</th><th scope=col>&lt;dbl&gt;</th><th scope=col>&lt;dbl&gt;</th><th scope=col>&lt;dbl&gt;</th><th scope=col>&lt;dbl&gt;</th><th scope=col>&lt;dbl&gt;</th><th scope=col>&lt;dbl&gt;</th><th scope=col>&lt;MULTIPOLYGON [°]&gt;</th><th scope=col>&lt;dbl&gt;</th><th scope=col>&lt;dbl&gt;</th></tr>\n",
       "</thead>\n",
       "<tbody>\n",
       "\t<tr><th scope=row>76</th><td>FJI</td><td>2000</td><td>Fiji</td><td>6</td><td>38.0</td><td>4000</td><td>Western Pacific</td><td>WPR</td><td>FALSE</td><td>Male  </td><td>78.8</td><td>25.1</td><td>24.4</td><td>25.7</td><td>62.74</td><td>74.91</td><td>69.29</td><td>MULTIPOLYGON (((180 -16.067...</td><td>26.26667</td><td>68.32000</td></tr>\n",
       "\t<tr><th scope=row>77</th><td>FJI</td><td>2000</td><td>Fiji</td><td>6</td><td>38.0</td><td>4000</td><td>Western Pacific</td><td>WPR</td><td>FALSE</td><td>Other </td><td>78.8</td><td>26.3</td><td>25.7</td><td>26.8</td><td>61.26</td><td>74.39</td><td>68.41</td><td>MULTIPOLYGON (((180 -16.067...</td><td>26.26667</td><td>68.32000</td></tr>\n",
       "\t<tr><th scope=row>78</th><td>FJI</td><td>2000</td><td>Fiji</td><td>6</td><td>38.0</td><td>4000</td><td>Western Pacific</td><td>WPR</td><td>FALSE</td><td>Female</td><td>78.8</td><td>27.4</td><td>26.7</td><td>28.2</td><td>59.27</td><td>73.73</td><td>67.26</td><td>MULTIPOLYGON (((180 -16.067...</td><td>26.26667</td><td>68.32000</td></tr>\n",
       "\t<tr><th scope=row>79</th><td>FJI</td><td>2001</td><td>Fiji</td><td>4</td><td>38.1</td><td>4040</td><td>Western Pacific</td><td>WPR</td><td>FALSE</td><td>Male  </td><td>90.4</td><td>25.2</td><td>24.6</td><td>25.8</td><td>62.10</td><td>73.94</td><td>68.42</td><td>MULTIPOLYGON (((180 -16.067...</td><td>26.36667</td><td>67.45333</td></tr>\n",
       "\t<tr><th scope=row>80</th><td>FJI</td><td>2001</td><td>Fiji</td><td>4</td><td>38.1</td><td>4040</td><td>Western Pacific</td><td>WPR</td><td>FALSE</td><td>Other </td><td>90.4</td><td>26.4</td><td>25.9</td><td>26.8</td><td>60.64</td><td>73.45</td><td>67.56</td><td>MULTIPOLYGON (((180 -16.067...</td><td>26.36667</td><td>67.45333</td></tr>\n",
       "\t<tr><th scope=row>81</th><td>FJI</td><td>2001</td><td>Fiji</td><td>4</td><td>38.1</td><td>4040</td><td>Western Pacific</td><td>WPR</td><td>FALSE</td><td>Female</td><td>90.4</td><td>27.5</td><td>26.8</td><td>28.3</td><td>58.59</td><td>72.79</td><td>66.38</td><td>MULTIPOLYGON (((180 -16.067...</td><td>26.36667</td><td>67.45333</td></tr>\n",
       "</tbody>\n",
       "</table>\n"
      ],
      "text/latex": [
       "A data.frame: 6 × 20\n",
       "\\begin{tabular}{r|llllllllllllllllllll}\n",
       "  & country\\_code & year & country & Freedom\\_index & gini & GDP\\_per\\_capita & region & region\\_code & EU\\_member & gender & daily\\_sugar\\_pp\\_grams & bmi\\_ave & bmi\\_low & bmi\\_high & min\\_deaths & max\\_deaths & deaths & geometry & bmi\\_ave\\_gender & deaths\\_average\\_gender\\\\\n",
       "  & <chr> & <dbl> & <chr> & <fct> & <dbl> & <dbl> & <fct> & <fct> & <lgl> & <chr> & <dbl> & <dbl> & <dbl> & <dbl> & <dbl> & <dbl> & <dbl> & <MULTIPOLYGON {[}°{]}> & <dbl> & <dbl>\\\\\n",
       "\\hline\n",
       "\t76 & FJI & 2000 & Fiji & 6 & 38.0 & 4000 & Western Pacific & WPR & FALSE & Male   & 78.8 & 25.1 & 24.4 & 25.7 & 62.74 & 74.91 & 69.29 & MULTIPOLYGON (((180 -16.067... & 26.26667 & 68.32000\\\\\n",
       "\t77 & FJI & 2000 & Fiji & 6 & 38.0 & 4000 & Western Pacific & WPR & FALSE & Other  & 78.8 & 26.3 & 25.7 & 26.8 & 61.26 & 74.39 & 68.41 & MULTIPOLYGON (((180 -16.067... & 26.26667 & 68.32000\\\\\n",
       "\t78 & FJI & 2000 & Fiji & 6 & 38.0 & 4000 & Western Pacific & WPR & FALSE & Female & 78.8 & 27.4 & 26.7 & 28.2 & 59.27 & 73.73 & 67.26 & MULTIPOLYGON (((180 -16.067... & 26.26667 & 68.32000\\\\\n",
       "\t79 & FJI & 2001 & Fiji & 4 & 38.1 & 4040 & Western Pacific & WPR & FALSE & Male   & 90.4 & 25.2 & 24.6 & 25.8 & 62.10 & 73.94 & 68.42 & MULTIPOLYGON (((180 -16.067... & 26.36667 & 67.45333\\\\\n",
       "\t80 & FJI & 2001 & Fiji & 4 & 38.1 & 4040 & Western Pacific & WPR & FALSE & Other  & 90.4 & 26.4 & 25.9 & 26.8 & 60.64 & 73.45 & 67.56 & MULTIPOLYGON (((180 -16.067... & 26.36667 & 67.45333\\\\\n",
       "\t81 & FJI & 2001 & Fiji & 4 & 38.1 & 4040 & Western Pacific & WPR & FALSE & Female & 90.4 & 27.5 & 26.8 & 28.3 & 58.59 & 72.79 & 66.38 & MULTIPOLYGON (((180 -16.067... & 26.36667 & 67.45333\\\\\n",
       "\\end{tabular}\n"
      ],
      "text/markdown": [
       "\n",
       "A data.frame: 6 × 20\n",
       "\n",
       "| <!--/--> | country_code &lt;chr&gt; | year &lt;dbl&gt; | country &lt;chr&gt; | Freedom_index &lt;fct&gt; | gini &lt;dbl&gt; | GDP_per_capita &lt;dbl&gt; | region &lt;fct&gt; | region_code &lt;fct&gt; | EU_member &lt;lgl&gt; | gender &lt;chr&gt; | daily_sugar_pp_grams &lt;dbl&gt; | bmi_ave &lt;dbl&gt; | bmi_low &lt;dbl&gt; | bmi_high &lt;dbl&gt; | min_deaths &lt;dbl&gt; | max_deaths &lt;dbl&gt; | deaths &lt;dbl&gt; | geometry &lt;MULTIPOLYGON [°]&gt; | bmi_ave_gender &lt;dbl&gt; | deaths_average_gender &lt;dbl&gt; |\n",
       "|---|---|---|---|---|---|---|---|---|---|---|---|---|---|---|---|---|---|---|---|---|\n",
       "| 76 | FJI | 2000 | Fiji | 6 | 38.0 | 4000 | Western Pacific | WPR | FALSE | Male   | 78.8 | 25.1 | 24.4 | 25.7 | 62.74 | 74.91 | 69.29 | MULTIPOLYGON (((180 -16.067... | 26.26667 | 68.32000 |\n",
       "| 77 | FJI | 2000 | Fiji | 6 | 38.0 | 4000 | Western Pacific | WPR | FALSE | Other  | 78.8 | 26.3 | 25.7 | 26.8 | 61.26 | 74.39 | 68.41 | MULTIPOLYGON (((180 -16.067... | 26.26667 | 68.32000 |\n",
       "| 78 | FJI | 2000 | Fiji | 6 | 38.0 | 4000 | Western Pacific | WPR | FALSE | Female | 78.8 | 27.4 | 26.7 | 28.2 | 59.27 | 73.73 | 67.26 | MULTIPOLYGON (((180 -16.067... | 26.26667 | 68.32000 |\n",
       "| 79 | FJI | 2001 | Fiji | 4 | 38.1 | 4040 | Western Pacific | WPR | FALSE | Male   | 90.4 | 25.2 | 24.6 | 25.8 | 62.10 | 73.94 | 68.42 | MULTIPOLYGON (((180 -16.067... | 26.36667 | 67.45333 |\n",
       "| 80 | FJI | 2001 | Fiji | 4 | 38.1 | 4040 | Western Pacific | WPR | FALSE | Other  | 90.4 | 26.4 | 25.9 | 26.8 | 60.64 | 73.45 | 67.56 | MULTIPOLYGON (((180 -16.067... | 26.36667 | 67.45333 |\n",
       "| 81 | FJI | 2001 | Fiji | 4 | 38.1 | 4040 | Western Pacific | WPR | FALSE | Female | 90.4 | 27.5 | 26.8 | 28.3 | 58.59 | 72.79 | 66.38 | MULTIPOLYGON (((180 -16.067... | 26.36667 | 67.45333 |\n",
       "\n"
      ],
      "text/plain": [
       "   country_code year country Freedom_index gini GDP_per_capita region         \n",
       "76 FJI          2000 Fiji    6             38.0 4000           Western Pacific\n",
       "77 FJI          2000 Fiji    6             38.0 4000           Western Pacific\n",
       "78 FJI          2000 Fiji    6             38.0 4000           Western Pacific\n",
       "79 FJI          2001 Fiji    4             38.1 4040           Western Pacific\n",
       "80 FJI          2001 Fiji    4             38.1 4040           Western Pacific\n",
       "81 FJI          2001 Fiji    4             38.1 4040           Western Pacific\n",
       "   region_code EU_member gender daily_sugar_pp_grams bmi_ave bmi_low bmi_high\n",
       "76 WPR         FALSE     Male   78.8                 25.1    24.4    25.7    \n",
       "77 WPR         FALSE     Other  78.8                 26.3    25.7    26.8    \n",
       "78 WPR         FALSE     Female 78.8                 27.4    26.7    28.2    \n",
       "79 WPR         FALSE     Male   90.4                 25.2    24.6    25.8    \n",
       "80 WPR         FALSE     Other  90.4                 26.4    25.9    26.8    \n",
       "81 WPR         FALSE     Female 90.4                 27.5    26.8    28.3    \n",
       "   min_deaths max_deaths deaths geometry                       bmi_ave_gender\n",
       "76 62.74      74.91      69.29  MULTIPOLYGON (((180 -16.067... 26.26667      \n",
       "77 61.26      74.39      68.41  MULTIPOLYGON (((180 -16.067... 26.26667      \n",
       "78 59.27      73.73      67.26  MULTIPOLYGON (((180 -16.067... 26.26667      \n",
       "79 62.10      73.94      68.42  MULTIPOLYGON (((180 -16.067... 26.36667      \n",
       "80 60.64      73.45      67.56  MULTIPOLYGON (((180 -16.067... 26.36667      \n",
       "81 58.59      72.79      66.38  MULTIPOLYGON (((180 -16.067... 26.36667      \n",
       "   deaths_average_gender\n",
       "76 68.32000             \n",
       "77 68.32000             \n",
       "78 68.32000             \n",
       "79 67.45333             \n",
       "80 67.45333             \n",
       "81 67.45333             "
      ]
     },
     "metadata": {},
     "output_type": "display_data"
    }
   ],
   "source": [
    "head(merged_data)"
   ]
  },
  {
   "cell_type": "markdown",
   "id": "cbe113b7-2d45-466f-b3da-9c2cb9493ab8",
   "metadata": {},
   "source": [
    "**Death Plots**"
   ]
  },
  {
   "cell_type": "code",
   "execution_count": 51,
   "id": "0ee7a960-3d15-4408-9576-6dfcc899b4ca",
   "metadata": {
    "tags": []
   },
   "outputs": [
    {
     "data": {
      "image/png": "[encoded data removed]",
      "text/plain": [
       "plot without title"
      ]
     },
     "metadata": {
      "image/png": {
       "height": 420,
       "width": 420
      }
     },
     "output_type": "display_data"
    }
   ],
   "source": [
    "death_ts = merged_data %>% \n",
    "    filter(year == 2000) %>%\n",
    "  ggplot(aes(y = deaths_average_gender,\n",
    "            colour = region)) + \n",
    "  geom_boxplot() + #removes the standard bars and sets line width\n",
    "  labs(title = 'Premature deaths from non commutable diseases in 2000',\n",
    "       subtitle = 'This is for all genders ',\n",
    "       x = '',\n",
    "       y = 'death') +\n",
    "  facet_wrap(~region) + #this creates a graph for each region\n",
    "  theme_minimal() + #I like how this looks\n",
    "  guides(colour = \"none\")  #this line removes the colour legend\n",
    "\n",
    "death_ts"
   ]
  },
  {
   "cell_type": "code",
   "execution_count": 52,
   "id": "19cc4ea9-191e-4ad8-811b-fdb4b8bd0263",
   "metadata": {
    "tags": []
   },
   "outputs": [
    {
     "data": {
      "image/png": "[encoded data removed]",
      "text/plain": [
       "plot without title"
      ]
     },
     "metadata": {
      "image/png": {
       "height": 420,
       "width": 420
      }
     },
     "output_type": "display_data"
    }
   ],
   "source": [
    "death_ts = merged_data %>% \n",
    "    filter(year == 2016) %>%\n",
    "  ggplot(aes(y = deaths_average_gender,\n",
    "            colour = region)) + \n",
    "  geom_boxplot() + #removes the standard bars and sets line width\n",
    "  labs(title = 'Premature Deaths from non commutable diseases in 2016',\n",
    "       subtitle = 'This is for all genders ',\n",
    "       x = '',\n",
    "       y = 'death') +\n",
    "  facet_wrap(~region) + #this creates a graph for each region\n",
    "  theme_minimal() + #I like how this looks\n",
    "  guides(colour = \"none\")  #this line removes the colour legend\n",
    "\n",
    "death_ts"
   ]
  },
  {
   "cell_type": "markdown",
   "id": "77f2c092-6bfc-4a46-8720-9836119d4556",
   "metadata": {},
   "source": [
    "The graphs show that premature deaths only increased slightly in the Eastern Mediteranean from the year 2000s to 2016, since the BMI in the Eastern Mediteranean has increased since the 200s it is possible that having a high BMI plays a role in premature deaths. Other countries preamture deaths have decreased, this is likely due to having more access to modern health care."
   ]
  },
  {
   "cell_type": "markdown",
   "id": "87c48b1c-69e2-4b4d-b865-427e664165f5",
   "metadata": {},
   "source": [
    "Comment on the trends"
   ]
  },
  {
   "cell_type": "code",
   "execution_count": null,
   "id": "68ec9e64-41e3-45bb-b35b-7683aafc8ec4",
   "metadata": {},
   "outputs": [],
   "source": []
  },
  {
   "cell_type": "markdown",
   "id": "386c6cb4-e2c0-43ad-95ec-c41f51262e15",
   "metadata": {},
   "source": [
    "Does sugar Consumption Play a role in BMI?"
   ]
  },
  {
   "cell_type": "code",
   "execution_count": 53,
   "id": "8827a5f1-e96b-4eb8-a83f-bb40a91b8978",
   "metadata": {
    "tags": []
   },
   "outputs": [
    {
     "name": "stderr",
     "output_type": "stream",
     "text": [
      "Warning message:\n",
      "\"\u001b[1m\u001b[22mRemoved 24 rows containing non-finite values (`stat_smooth()`).\"\n",
      "Warning message:\n",
      "\"\u001b[1m\u001b[22mRemoved 24 rows containing missing values (`geom_point()`).\"\n"
     ]
    },
    {
     "data": {
      "image/png": "[encoded data removed]",
      "text/plain": [
       "plot without title"
      ]
     },
     "metadata": {
      "image/png": {
       "height": 420,
       "width": 420
      }
     },
     "output_type": "display_data"
    }
   ],
   "source": [
    "merged_data %>%\n",
    "  filter(year =='2000'|\n",
    "         year =='2005'|\n",
    "         year =='2010'|\n",
    "         year =='2015') %>%\n",
    "  ggplot(aes(x = daily_sugar_pp_grams, y = bmi_ave_gender)) + \n",
    "  geom_jitter(aes(colour = region)) +\n",
    "  geom_smooth(method='lm', \n",
    "              formula = y ~ log(x), #assume a log relationshiop.  it is likely that \n",
    "              se = FALSE, linewidth=1) +  #the relationship is concave.\n",
    "  xlim(0,200) +\n",
    "  labs(title = 'BMI from daily sugar consumption ',\n",
    "       subtitle = '',\n",
    "       x = 'sugar consumed per day (grams)',\n",
    "       y = 'BMI',\n",
    "       colour = '') +\n",
    "  facet_wrap(~year) + #this creates a graph for each specified year\n",
    "  theme_minimal()"
   ]
  },
  {
   "cell_type": "markdown",
   "id": "52925673-ebcc-4de3-944b-8b3c5125a803",
   "metadata": {},
   "source": [
    "There is definetly a correlation between daily sugar consumption and bmi, the plots show that increased daily sugar consumption correlates with a higher bmi. \n",
    "\n",
    "We can also assume that higher sugar consumption causes a higher bmi, the 4 plots all show the same relationship which means that it is not a coincidence. \n",
    "Research also shows that eating too much sugar over time can lead to weight gain and obeisity. \n",
    "\n",
    "NOTE: access to sugar is more likely in developed countries.  More developed countries have higher BMIs.  There has been a slow increase in the mean and it appears that the coefficient on sugar consumption has stayed constant.  "
   ]
  },
  {
   "cell_type": "code",
   "execution_count": 54,
   "id": "b499b8d0-ec61-4c49-9baf-54d20fb2810f",
   "metadata": {
    "tags": []
   },
   "outputs": [
    {
     "data": {
      "text/html": [
       "<table class=\"dataframe\">\n",
       "<caption>A data.frame: 6 × 20</caption>\n",
       "<thead>\n",
       "\t<tr><th></th><th scope=col>country_code</th><th scope=col>year</th><th scope=col>country</th><th scope=col>Freedom_index</th><th scope=col>gini</th><th scope=col>GDP_per_capita</th><th scope=col>region</th><th scope=col>region_code</th><th scope=col>EU_member</th><th scope=col>gender</th><th scope=col>daily_sugar_pp_grams</th><th scope=col>bmi_ave</th><th scope=col>bmi_low</th><th scope=col>bmi_high</th><th scope=col>min_deaths</th><th scope=col>max_deaths</th><th scope=col>deaths</th><th scope=col>geometry</th><th scope=col>bmi_ave_gender</th><th scope=col>deaths_average_gender</th></tr>\n",
       "\t<tr><th></th><th scope=col>&lt;chr&gt;</th><th scope=col>&lt;dbl&gt;</th><th scope=col>&lt;chr&gt;</th><th scope=col>&lt;fct&gt;</th><th scope=col>&lt;dbl&gt;</th><th scope=col>&lt;dbl&gt;</th><th scope=col>&lt;fct&gt;</th><th scope=col>&lt;fct&gt;</th><th scope=col>&lt;lgl&gt;</th><th scope=col>&lt;chr&gt;</th><th scope=col>&lt;dbl&gt;</th><th scope=col>&lt;dbl&gt;</th><th scope=col>&lt;dbl&gt;</th><th scope=col>&lt;dbl&gt;</th><th scope=col>&lt;dbl&gt;</th><th scope=col>&lt;dbl&gt;</th><th scope=col>&lt;dbl&gt;</th><th scope=col>&lt;MULTIPOLYGON [°]&gt;</th><th scope=col>&lt;dbl&gt;</th><th scope=col>&lt;dbl&gt;</th></tr>\n",
       "</thead>\n",
       "<tbody>\n",
       "\t<tr><th scope=row>76</th><td>FJI</td><td>2000</td><td>Fiji</td><td>6</td><td>38.0</td><td>4000</td><td>Western Pacific</td><td>WPR</td><td>FALSE</td><td>Male  </td><td>78.8</td><td>25.1</td><td>24.4</td><td>25.7</td><td>62.74</td><td>74.91</td><td>69.29</td><td>MULTIPOLYGON (((180 -16.067...</td><td>26.26667</td><td>68.32000</td></tr>\n",
       "\t<tr><th scope=row>77</th><td>FJI</td><td>2000</td><td>Fiji</td><td>6</td><td>38.0</td><td>4000</td><td>Western Pacific</td><td>WPR</td><td>FALSE</td><td>Other </td><td>78.8</td><td>26.3</td><td>25.7</td><td>26.8</td><td>61.26</td><td>74.39</td><td>68.41</td><td>MULTIPOLYGON (((180 -16.067...</td><td>26.26667</td><td>68.32000</td></tr>\n",
       "\t<tr><th scope=row>78</th><td>FJI</td><td>2000</td><td>Fiji</td><td>6</td><td>38.0</td><td>4000</td><td>Western Pacific</td><td>WPR</td><td>FALSE</td><td>Female</td><td>78.8</td><td>27.4</td><td>26.7</td><td>28.2</td><td>59.27</td><td>73.73</td><td>67.26</td><td>MULTIPOLYGON (((180 -16.067...</td><td>26.26667</td><td>68.32000</td></tr>\n",
       "\t<tr><th scope=row>79</th><td>FJI</td><td>2001</td><td>Fiji</td><td>4</td><td>38.1</td><td>4040</td><td>Western Pacific</td><td>WPR</td><td>FALSE</td><td>Male  </td><td>90.4</td><td>25.2</td><td>24.6</td><td>25.8</td><td>62.10</td><td>73.94</td><td>68.42</td><td>MULTIPOLYGON (((180 -16.067...</td><td>26.36667</td><td>67.45333</td></tr>\n",
       "\t<tr><th scope=row>80</th><td>FJI</td><td>2001</td><td>Fiji</td><td>4</td><td>38.1</td><td>4040</td><td>Western Pacific</td><td>WPR</td><td>FALSE</td><td>Other </td><td>90.4</td><td>26.4</td><td>25.9</td><td>26.8</td><td>60.64</td><td>73.45</td><td>67.56</td><td>MULTIPOLYGON (((180 -16.067...</td><td>26.36667</td><td>67.45333</td></tr>\n",
       "\t<tr><th scope=row>81</th><td>FJI</td><td>2001</td><td>Fiji</td><td>4</td><td>38.1</td><td>4040</td><td>Western Pacific</td><td>WPR</td><td>FALSE</td><td>Female</td><td>90.4</td><td>27.5</td><td>26.8</td><td>28.3</td><td>58.59</td><td>72.79</td><td>66.38</td><td>MULTIPOLYGON (((180 -16.067...</td><td>26.36667</td><td>67.45333</td></tr>\n",
       "</tbody>\n",
       "</table>\n"
      ],
      "text/latex": [
       "A data.frame: 6 × 20\n",
       "\\begin{tabular}{r|llllllllllllllllllll}\n",
       "  & country\\_code & year & country & Freedom\\_index & gini & GDP\\_per\\_capita & region & region\\_code & EU\\_member & gender & daily\\_sugar\\_pp\\_grams & bmi\\_ave & bmi\\_low & bmi\\_high & min\\_deaths & max\\_deaths & deaths & geometry & bmi\\_ave\\_gender & deaths\\_average\\_gender\\\\\n",
       "  & <chr> & <dbl> & <chr> & <fct> & <dbl> & <dbl> & <fct> & <fct> & <lgl> & <chr> & <dbl> & <dbl> & <dbl> & <dbl> & <dbl> & <dbl> & <dbl> & <MULTIPOLYGON {[}°{]}> & <dbl> & <dbl>\\\\\n",
       "\\hline\n",
       "\t76 & FJI & 2000 & Fiji & 6 & 38.0 & 4000 & Western Pacific & WPR & FALSE & Male   & 78.8 & 25.1 & 24.4 & 25.7 & 62.74 & 74.91 & 69.29 & MULTIPOLYGON (((180 -16.067... & 26.26667 & 68.32000\\\\\n",
       "\t77 & FJI & 2000 & Fiji & 6 & 38.0 & 4000 & Western Pacific & WPR & FALSE & Other  & 78.8 & 26.3 & 25.7 & 26.8 & 61.26 & 74.39 & 68.41 & MULTIPOLYGON (((180 -16.067... & 26.26667 & 68.32000\\\\\n",
       "\t78 & FJI & 2000 & Fiji & 6 & 38.0 & 4000 & Western Pacific & WPR & FALSE & Female & 78.8 & 27.4 & 26.7 & 28.2 & 59.27 & 73.73 & 67.26 & MULTIPOLYGON (((180 -16.067... & 26.26667 & 68.32000\\\\\n",
       "\t79 & FJI & 2001 & Fiji & 4 & 38.1 & 4040 & Western Pacific & WPR & FALSE & Male   & 90.4 & 25.2 & 24.6 & 25.8 & 62.10 & 73.94 & 68.42 & MULTIPOLYGON (((180 -16.067... & 26.36667 & 67.45333\\\\\n",
       "\t80 & FJI & 2001 & Fiji & 4 & 38.1 & 4040 & Western Pacific & WPR & FALSE & Other  & 90.4 & 26.4 & 25.9 & 26.8 & 60.64 & 73.45 & 67.56 & MULTIPOLYGON (((180 -16.067... & 26.36667 & 67.45333\\\\\n",
       "\t81 & FJI & 2001 & Fiji & 4 & 38.1 & 4040 & Western Pacific & WPR & FALSE & Female & 90.4 & 27.5 & 26.8 & 28.3 & 58.59 & 72.79 & 66.38 & MULTIPOLYGON (((180 -16.067... & 26.36667 & 67.45333\\\\\n",
       "\\end{tabular}\n"
      ],
      "text/markdown": [
       "\n",
       "A data.frame: 6 × 20\n",
       "\n",
       "| <!--/--> | country_code &lt;chr&gt; | year &lt;dbl&gt; | country &lt;chr&gt; | Freedom_index &lt;fct&gt; | gini &lt;dbl&gt; | GDP_per_capita &lt;dbl&gt; | region &lt;fct&gt; | region_code &lt;fct&gt; | EU_member &lt;lgl&gt; | gender &lt;chr&gt; | daily_sugar_pp_grams &lt;dbl&gt; | bmi_ave &lt;dbl&gt; | bmi_low &lt;dbl&gt; | bmi_high &lt;dbl&gt; | min_deaths &lt;dbl&gt; | max_deaths &lt;dbl&gt; | deaths &lt;dbl&gt; | geometry &lt;MULTIPOLYGON [°]&gt; | bmi_ave_gender &lt;dbl&gt; | deaths_average_gender &lt;dbl&gt; |\n",
       "|---|---|---|---|---|---|---|---|---|---|---|---|---|---|---|---|---|---|---|---|---|\n",
       "| 76 | FJI | 2000 | Fiji | 6 | 38.0 | 4000 | Western Pacific | WPR | FALSE | Male   | 78.8 | 25.1 | 24.4 | 25.7 | 62.74 | 74.91 | 69.29 | MULTIPOLYGON (((180 -16.067... | 26.26667 | 68.32000 |\n",
       "| 77 | FJI | 2000 | Fiji | 6 | 38.0 | 4000 | Western Pacific | WPR | FALSE | Other  | 78.8 | 26.3 | 25.7 | 26.8 | 61.26 | 74.39 | 68.41 | MULTIPOLYGON (((180 -16.067... | 26.26667 | 68.32000 |\n",
       "| 78 | FJI | 2000 | Fiji | 6 | 38.0 | 4000 | Western Pacific | WPR | FALSE | Female | 78.8 | 27.4 | 26.7 | 28.2 | 59.27 | 73.73 | 67.26 | MULTIPOLYGON (((180 -16.067... | 26.26667 | 68.32000 |\n",
       "| 79 | FJI | 2001 | Fiji | 4 | 38.1 | 4040 | Western Pacific | WPR | FALSE | Male   | 90.4 | 25.2 | 24.6 | 25.8 | 62.10 | 73.94 | 68.42 | MULTIPOLYGON (((180 -16.067... | 26.36667 | 67.45333 |\n",
       "| 80 | FJI | 2001 | Fiji | 4 | 38.1 | 4040 | Western Pacific | WPR | FALSE | Other  | 90.4 | 26.4 | 25.9 | 26.8 | 60.64 | 73.45 | 67.56 | MULTIPOLYGON (((180 -16.067... | 26.36667 | 67.45333 |\n",
       "| 81 | FJI | 2001 | Fiji | 4 | 38.1 | 4040 | Western Pacific | WPR | FALSE | Female | 90.4 | 27.5 | 26.8 | 28.3 | 58.59 | 72.79 | 66.38 | MULTIPOLYGON (((180 -16.067... | 26.36667 | 67.45333 |\n",
       "\n"
      ],
      "text/plain": [
       "   country_code year country Freedom_index gini GDP_per_capita region         \n",
       "76 FJI          2000 Fiji    6             38.0 4000           Western Pacific\n",
       "77 FJI          2000 Fiji    6             38.0 4000           Western Pacific\n",
       "78 FJI          2000 Fiji    6             38.0 4000           Western Pacific\n",
       "79 FJI          2001 Fiji    4             38.1 4040           Western Pacific\n",
       "80 FJI          2001 Fiji    4             38.1 4040           Western Pacific\n",
       "81 FJI          2001 Fiji    4             38.1 4040           Western Pacific\n",
       "   region_code EU_member gender daily_sugar_pp_grams bmi_ave bmi_low bmi_high\n",
       "76 WPR         FALSE     Male   78.8                 25.1    24.4    25.7    \n",
       "77 WPR         FALSE     Other  78.8                 26.3    25.7    26.8    \n",
       "78 WPR         FALSE     Female 78.8                 27.4    26.7    28.2    \n",
       "79 WPR         FALSE     Male   90.4                 25.2    24.6    25.8    \n",
       "80 WPR         FALSE     Other  90.4                 26.4    25.9    26.8    \n",
       "81 WPR         FALSE     Female 90.4                 27.5    26.8    28.3    \n",
       "   min_deaths max_deaths deaths geometry                       bmi_ave_gender\n",
       "76 62.74      74.91      69.29  MULTIPOLYGON (((180 -16.067... 26.26667      \n",
       "77 61.26      74.39      68.41  MULTIPOLYGON (((180 -16.067... 26.26667      \n",
       "78 59.27      73.73      67.26  MULTIPOLYGON (((180 -16.067... 26.26667      \n",
       "79 62.10      73.94      68.42  MULTIPOLYGON (((180 -16.067... 26.36667      \n",
       "80 60.64      73.45      67.56  MULTIPOLYGON (((180 -16.067... 26.36667      \n",
       "81 58.59      72.79      66.38  MULTIPOLYGON (((180 -16.067... 26.36667      \n",
       "   deaths_average_gender\n",
       "76 68.32000             \n",
       "77 68.32000             \n",
       "78 68.32000             \n",
       "79 67.45333             \n",
       "80 67.45333             \n",
       "81 67.45333             "
      ]
     },
     "metadata": {},
     "output_type": "display_data"
    }
   ],
   "source": [
    "head(merged_data)"
   ]
  },
  {
   "cell_type": "markdown",
   "id": "44ea0292-8c60-4794-b91b-dbfaf7679852",
   "metadata": {},
   "source": [
    "**GDP chart**"
   ]
  },
  {
   "cell_type": "markdown",
   "id": "b97adaf6-1994-47fb-b82c-19f34a648df8",
   "metadata": {},
   "source": [
    "Firstly, the x axis had to be logged to allow graphical representation.\n",
    "\n",
    "This is an interesting chart.  We can see that there is a positive relationship between BMI and GDP - this is well known, as GDP indicates an on average greater access to food.\n",
    "\n",
    "We also observe the distribution of the various countries by region.  We can see the increase in the GDP in countries from the Americas.  The log scale makes it a little hard to interp"
   ]
  },
  {
   "cell_type": "code",
   "execution_count": 55,
   "id": "f974bdaf-45c2-4d2a-a321-4f0f075ab016",
   "metadata": {
    "tags": []
   },
   "outputs": [
    {
     "name": "stderr",
     "output_type": "stream",
     "text": [
      "\u001b[1m\u001b[22m`geom_smooth()` using formula = 'y ~ x'\n"
     ]
    },
    {
     "data": {
      "image/png": "[encoded data removed]",
      "text/plain": [
       "plot without title"
      ]
     },
     "metadata": {
      "image/png": {
       "height": 420,
       "width": 420
      }
     },
     "output_type": "display_data"
    }
   ],
   "source": [
    "merged_data %>%\n",
    "  filter(year =='2000'|\n",
    "         year =='2005'|\n",
    "         year =='2010'|\n",
    "         year =='2015',\n",
    "         GDP_per_capita > 56000) %>%\n",
    "  ggplot(aes(x = GDP_per_capita, y = bmi_ave_gender)) + \n",
    "  geom_jitter(aes(colour = region)) +\n",
    "  geom_smooth(method='lm', se = FALSE, linewidth=1) +\n",
    "  labs(title = 'GDP/capita and Average BMI - Developed Countries',\n",
    "       subtitle = 'A general decrease in BMI and more countries becoming \"developed\"',\n",
    "       x = 'sugar consumed per day (grams)',\n",
    "       y = 'BMI',\n",
    "       colour = '') +\n",
    "  facet_wrap(~year) + #this creates a graph for each specified year\n",
    "  theme_minimal()"
   ]
  },
  {
   "cell_type": "markdown",
   "id": "ff82a359-76e5-4a89-89f8-faec73e0b5fb",
   "metadata": {},
   "source": [
    "This one is for emerging market & developing countries.  It's interesting to note the opposite relationship between GDP and BMI.  Perhaps there is a turning point.  It is also possible that the increasing number of European countries is skewing the true relationship.  Referring to earlier charts on BMI distribution by region we can see that Europe has a very low and tight BMI range."
   ]
  },
  {
   "cell_type": "code",
   "execution_count": 56,
   "id": "56b42b1b-dde2-4b49-95d5-88e6c403126f",
   "metadata": {
    "tags": []
   },
   "outputs": [
    {
     "data": {
      "image/png": "[encoded data removed]",
      "text/plain": [
       "plot without title"
      ]
     },
     "metadata": {
      "image/png": {
       "height": 420,
       "width": 420
      }
     },
     "output_type": "display_data"
    }
   ],
   "source": [
    "merged_data %>%\n",
    "  filter(year =='2000'|\n",
    "         year =='2005'|\n",
    "         year =='2010'|\n",
    "         year =='2015',\n",
    "         GDP_per_capita <= 56000) %>%\n",
    "  ggplot(aes(x = GDP_per_capita, y = bmi_ave_gender)) + \n",
    "  geom_jitter(aes(colour = region)) +\n",
    "  geom_smooth(method='lm', \n",
    "              formula = y ~ log(x), #assume a log relationshiop.  it is likely that \n",
    "              se = FALSE, linewidth=1) +  #the relationship is concave.\n",
    "  scale_x_continuous(trans = 'log') +\n",
    "  labs(title = 'GDP/capita and Average BMI - Developed Countries',\n",
    "       subtitle = 'A general decrease in BMI and more countries becoming \"developed\"',\n",
    "       x = 'sugar consumed per day (grams)',\n",
    "       y = 'BMI',\n",
    "       colour = '') +\n",
    "  facet_wrap(~year) + #this creates a graph for each specified year\n",
    "  theme_minimal()"
   ]
  },
  {
   "cell_type": "code",
   "execution_count": null,
   "id": "ce195c1d-9f79-4332-a214-249670deb8e3",
   "metadata": {},
   "outputs": [],
   "source": []
  }
 ],
 "metadata": {
  "kernelspec": {
   "display_name": "R",
   "language": "R",
   "name": "ir"
  },
  "language_info": {
   "codemirror_mode": "r",
   "file_extension": ".r",
   "mimetype": "text/x-r-source",
   "name": "R",
   "pygments_lexer": "r",
   "version": "4.3.1"
  }
 },
 "nbformat": 4,
 "nbformat_minor": 5
}
