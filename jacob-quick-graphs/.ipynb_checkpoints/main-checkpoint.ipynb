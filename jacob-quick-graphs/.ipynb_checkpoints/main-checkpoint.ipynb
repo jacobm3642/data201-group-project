{
 "cells": [
  {
   "cell_type": "code",
   "execution_count": null,
   "id": "a60ed2e3-d920-4841-bc98-44b6704c18ff",
   "metadata": {},
   "outputs": [],
   "source": []
  }
 ],
 "metadata": {
  "kernelspec": {
   "display_name": "R",
   "language": "R",
   "name": "ir"
  },
  "language_info": {
   "codemirror_mode": "r",
   "file_extension": ".r",
   "mimetype": "text/x-r-source",
   "name": "R",
   "pygments_lexer": "r",
   "version": "4.3.1"
  }
 },
 "nbformat": 4,
 "nbformat_minor": 5
}
