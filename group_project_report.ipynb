{
 "cells": [
  {
   "cell_type": "markdown",
   "id": "577d7fee-5d6b-4abf-a198-0b98951e5077",
   "metadata": {},
   "source": [
    "# DATA201 GROUP PROJECT REPORT"
   ]
  },
  {
   "cell_type": "markdown",
   "id": "4c913aa0-3f82-4e33-b85a-f76fb01e5180",
   "metadata": {},
   "source": [
    "## Initialize Libraries:"
   ]
  },
  {
   "cell_type": "code",
   "execution_count": 1,
   "id": "bde6f594-1e01-43ce-b27d-da61cf5601b5",
   "metadata": {
    "tags": []
   },
   "outputs": [
    {
     "name": "stderr",
     "output_type": "stream",
     "text": [
      "── \u001b[1mAttaching core tidyverse packages\u001b[22m ──────────────────────────────────────────────────────────────── tidyverse 2.0.0 ──\n",
      "\u001b[32m✔\u001b[39m \u001b[34mdplyr    \u001b[39m 1.1.2     \u001b[32m✔\u001b[39m \u001b[34mreadr    \u001b[39m 2.1.4\n",
      "\u001b[32m✔\u001b[39m \u001b[34mforcats  \u001b[39m 1.0.0     \u001b[32m✔\u001b[39m \u001b[34mstringr  \u001b[39m 1.5.0\n",
      "\u001b[32m✔\u001b[39m \u001b[34mggplot2  \u001b[39m 3.4.2     \u001b[32m✔\u001b[39m \u001b[34mtibble   \u001b[39m 3.2.1\n",
      "\u001b[32m✔\u001b[39m \u001b[34mlubridate\u001b[39m 1.9.2     \u001b[32m✔\u001b[39m \u001b[34mtidyr    \u001b[39m 1.3.0\n",
      "\u001b[32m✔\u001b[39m \u001b[34mpurrr    \u001b[39m 1.0.1     \n",
      "── \u001b[1mConflicts\u001b[22m ────────────────────────────────────────────────────────────────────────────────── tidyverse_conflicts() ──\n",
      "\u001b[31m✖\u001b[39m \u001b[34mdplyr\u001b[39m::\u001b[32mfilter()\u001b[39m masks \u001b[34mstats\u001b[39m::filter()\n",
      "\u001b[31m✖\u001b[39m \u001b[34mdplyr\u001b[39m::\u001b[32mlag()\u001b[39m    masks \u001b[34mstats\u001b[39m::lag()\n",
      "\u001b[36mℹ\u001b[39m Use the conflicted package (\u001b[3m\u001b[34m<http://conflicted.r-lib.org/>\u001b[39m\u001b[23m) to force all conflicts to become errors\n"
     ]
    }
   ],
   "source": [
    "library(tidyverse)\n",
    "library(skimr)"
   ]
  },
  {
   "cell_type": "markdown",
   "id": "0f27a16c-4d1e-4782-95c6-8fafa4aae4e3",
   "metadata": {},
   "source": [
    "## Read Data"
   ]
  },
  {
   "cell_type": "code",
   "execution_count": 7,
   "id": "b98e8b7a-57ba-4bb8-8de2-db592f7e4745",
   "metadata": {
    "tags": []
   },
   "outputs": [
    {
     "data": {
      "text/html": [
       "<table class=\"dataframe\">\n",
       "<caption>A data.frame: 6 × 34</caption>\n",
       "<thead>\n",
       "\t<tr><th></th><th scope=col>IndicatorCode</th><th scope=col>Indicator</th><th scope=col>ValueType</th><th scope=col>ParentLocationCode</th><th scope=col>ParentLocation</th><th scope=col>Location.type</th><th scope=col>SpatialDimValueCode</th><th scope=col>Location</th><th scope=col>Period.type</th><th scope=col>Period</th><th scope=col>⋯</th><th scope=col>FactValueUoM</th><th scope=col>FactValueNumericLowPrefix</th><th scope=col>FactValueNumericLow</th><th scope=col>FactValueNumericHighPrefix</th><th scope=col>FactValueNumericHigh</th><th scope=col>Value</th><th scope=col>FactValueTranslationID</th><th scope=col>FactComments</th><th scope=col>Language</th><th scope=col>DateModified</th></tr>\n",
       "\t<tr><th></th><th scope=col>&lt;chr&gt;</th><th scope=col>&lt;chr&gt;</th><th scope=col>&lt;chr&gt;</th><th scope=col>&lt;chr&gt;</th><th scope=col>&lt;chr&gt;</th><th scope=col>&lt;chr&gt;</th><th scope=col>&lt;chr&gt;</th><th scope=col>&lt;chr&gt;</th><th scope=col>&lt;chr&gt;</th><th scope=col>&lt;int&gt;</th><th scope=col>⋯</th><th scope=col>&lt;lgl&gt;</th><th scope=col>&lt;lgl&gt;</th><th scope=col>&lt;dbl&gt;</th><th scope=col>&lt;lgl&gt;</th><th scope=col>&lt;dbl&gt;</th><th scope=col>&lt;chr&gt;</th><th scope=col>&lt;int&gt;</th><th scope=col>&lt;chr&gt;</th><th scope=col>&lt;chr&gt;</th><th scope=col>&lt;chr&gt;</th></tr>\n",
       "</thead>\n",
       "<tbody>\n",
       "\t<tr><th scope=row>1</th><td>NCD_BMI_MEAN</td><td>Mean BMI (kg/m²) (age-standardized estimate)</td><td>numeric</td><td>AFR</td><td>Africa</td><td>Country</td><td>ETH</td><td>Ethiopia  </td><td>Year</td><td>2016</td><td>⋯</td><td>NA</td><td>NA</td><td>19.0</td><td>NA</td><td>21.0</td><td>20.1 [19 – 21]    </td><td>NA</td><td></td><td>EN</td><td>2017-09-26T11:00:00.000Z</td></tr>\n",
       "\t<tr><th scope=row>2</th><td>NCD_BMI_MEAN</td><td>Mean BMI (kg/m²) (age-standardized estimate)</td><td>numeric</td><td>AFR</td><td>Africa</td><td>Country</td><td>ERI</td><td>Eritrea   </td><td>Year</td><td>2016</td><td>⋯</td><td>NA</td><td>NA</td><td>19.2</td><td>NA</td><td>21.3</td><td>20.2 [19.2 – 21.3]</td><td>NA</td><td></td><td>EN</td><td>2017-09-26T11:00:00.000Z</td></tr>\n",
       "\t<tr><th scope=row>3</th><td>NCD_BMI_MEAN</td><td>Mean BMI (kg/m²) (age-standardized estimate)</td><td>numeric</td><td>AFR</td><td>Africa</td><td>Country</td><td>ETH</td><td>Ethiopia  </td><td>Year</td><td>2016</td><td>⋯</td><td>NA</td><td>NA</td><td>19.8</td><td>NA</td><td>21.3</td><td>20.6 [19.8 – 21.3]</td><td>NA</td><td></td><td>EN</td><td>2017-09-26T11:00:00.000Z</td></tr>\n",
       "\t<tr><th scope=row>4</th><td>NCD_BMI_MEAN</td><td>Mean BMI (kg/m²) (age-standardized estimate)</td><td>numeric</td><td>AFR</td><td>Africa</td><td>Country</td><td>ERI</td><td>Eritrea   </td><td>Year</td><td>2016</td><td>⋯</td><td>NA</td><td>NA</td><td>19.9</td><td>NA</td><td>21.5</td><td>20.7 [19.9 – 21.5]</td><td>NA</td><td></td><td>EN</td><td>2017-09-26T11:00:00.000Z</td></tr>\n",
       "\t<tr><th scope=row>5</th><td>NCD_BMI_MEAN</td><td>Mean BMI (kg/m²) (age-standardized estimate)</td><td>numeric</td><td>AFR</td><td>Africa</td><td>Country</td><td>MDG</td><td>Madagascar</td><td>Year</td><td>2016</td><td>⋯</td><td>NA</td><td>NA</td><td>19.9</td><td>NA</td><td>22.3</td><td>21.1 [19.9 – 22.3]</td><td>NA</td><td></td><td>EN</td><td>2017-09-26T11:00:00.000Z</td></tr>\n",
       "\t<tr><th scope=row>6</th><td>NCD_BMI_MEAN</td><td>Mean BMI (kg/m²) (age-standardized estimate)</td><td>numeric</td><td>AFR</td><td>Africa</td><td>Country</td><td>ERI</td><td>Eritrea   </td><td>Year</td><td>2016</td><td>⋯</td><td>NA</td><td>NA</td><td>20.0</td><td>NA</td><td>22.2</td><td>21.1 [20 – 22.2]  </td><td>NA</td><td></td><td>EN</td><td>2017-09-26T11:00:00.000Z</td></tr>\n",
       "</tbody>\n",
       "</table>\n"
      ],
      "text/latex": [
       "A data.frame: 6 × 34\n",
       "\\begin{tabular}{r|lllllllllllllllllllll}\n",
       "  & IndicatorCode & Indicator & ValueType & ParentLocationCode & ParentLocation & Location.type & SpatialDimValueCode & Location & Period.type & Period & ⋯ & FactValueUoM & FactValueNumericLowPrefix & FactValueNumericLow & FactValueNumericHighPrefix & FactValueNumericHigh & Value & FactValueTranslationID & FactComments & Language & DateModified\\\\\n",
       "  & <chr> & <chr> & <chr> & <chr> & <chr> & <chr> & <chr> & <chr> & <chr> & <int> & ⋯ & <lgl> & <lgl> & <dbl> & <lgl> & <dbl> & <chr> & <int> & <chr> & <chr> & <chr>\\\\\n",
       "\\hline\n",
       "\t1 & NCD\\_BMI\\_MEAN & Mean BMI (kg/m²) (age-standardized estimate) & numeric & AFR & Africa & Country & ETH & Ethiopia   & Year & 2016 & ⋯ & NA & NA & 19.0 & NA & 21.0 & 20.1 {[}19 – 21{]}     & NA &  & EN & 2017-09-26T11:00:00.000Z\\\\\n",
       "\t2 & NCD\\_BMI\\_MEAN & Mean BMI (kg/m²) (age-standardized estimate) & numeric & AFR & Africa & Country & ERI & Eritrea    & Year & 2016 & ⋯ & NA & NA & 19.2 & NA & 21.3 & 20.2 {[}19.2 – 21.3{]} & NA &  & EN & 2017-09-26T11:00:00.000Z\\\\\n",
       "\t3 & NCD\\_BMI\\_MEAN & Mean BMI (kg/m²) (age-standardized estimate) & numeric & AFR & Africa & Country & ETH & Ethiopia   & Year & 2016 & ⋯ & NA & NA & 19.8 & NA & 21.3 & 20.6 {[}19.8 – 21.3{]} & NA &  & EN & 2017-09-26T11:00:00.000Z\\\\\n",
       "\t4 & NCD\\_BMI\\_MEAN & Mean BMI (kg/m²) (age-standardized estimate) & numeric & AFR & Africa & Country & ERI & Eritrea    & Year & 2016 & ⋯ & NA & NA & 19.9 & NA & 21.5 & 20.7 {[}19.9 – 21.5{]} & NA &  & EN & 2017-09-26T11:00:00.000Z\\\\\n",
       "\t5 & NCD\\_BMI\\_MEAN & Mean BMI (kg/m²) (age-standardized estimate) & numeric & AFR & Africa & Country & MDG & Madagascar & Year & 2016 & ⋯ & NA & NA & 19.9 & NA & 22.3 & 21.1 {[}19.9 – 22.3{]} & NA &  & EN & 2017-09-26T11:00:00.000Z\\\\\n",
       "\t6 & NCD\\_BMI\\_MEAN & Mean BMI (kg/m²) (age-standardized estimate) & numeric & AFR & Africa & Country & ERI & Eritrea    & Year & 2016 & ⋯ & NA & NA & 20.0 & NA & 22.2 & 21.1 {[}20 – 22.2{]}   & NA &  & EN & 2017-09-26T11:00:00.000Z\\\\\n",
       "\\end{tabular}\n"
      ],
      "text/markdown": [
       "\n",
       "A data.frame: 6 × 34\n",
       "\n",
       "| <!--/--> | IndicatorCode &lt;chr&gt; | Indicator &lt;chr&gt; | ValueType &lt;chr&gt; | ParentLocationCode &lt;chr&gt; | ParentLocation &lt;chr&gt; | Location.type &lt;chr&gt; | SpatialDimValueCode &lt;chr&gt; | Location &lt;chr&gt; | Period.type &lt;chr&gt; | Period &lt;int&gt; | ⋯ ⋯ | FactValueUoM &lt;lgl&gt; | FactValueNumericLowPrefix &lt;lgl&gt; | FactValueNumericLow &lt;dbl&gt; | FactValueNumericHighPrefix &lt;lgl&gt; | FactValueNumericHigh &lt;dbl&gt; | Value &lt;chr&gt; | FactValueTranslationID &lt;int&gt; | FactComments &lt;chr&gt; | Language &lt;chr&gt; | DateModified &lt;chr&gt; |\n",
       "|---|---|---|---|---|---|---|---|---|---|---|---|---|---|---|---|---|---|---|---|---|---|\n",
       "| 1 | NCD_BMI_MEAN | Mean BMI (kg/m²) (age-standardized estimate) | numeric | AFR | Africa | Country | ETH | Ethiopia   | Year | 2016 | ⋯ | NA | NA | 19.0 | NA | 21.0 | 20.1 [19 – 21]     | NA | <!----> | EN | 2017-09-26T11:00:00.000Z |\n",
       "| 2 | NCD_BMI_MEAN | Mean BMI (kg/m²) (age-standardized estimate) | numeric | AFR | Africa | Country | ERI | Eritrea    | Year | 2016 | ⋯ | NA | NA | 19.2 | NA | 21.3 | 20.2 [19.2 – 21.3] | NA | <!----> | EN | 2017-09-26T11:00:00.000Z |\n",
       "| 3 | NCD_BMI_MEAN | Mean BMI (kg/m²) (age-standardized estimate) | numeric | AFR | Africa | Country | ETH | Ethiopia   | Year | 2016 | ⋯ | NA | NA | 19.8 | NA | 21.3 | 20.6 [19.8 – 21.3] | NA | <!----> | EN | 2017-09-26T11:00:00.000Z |\n",
       "| 4 | NCD_BMI_MEAN | Mean BMI (kg/m²) (age-standardized estimate) | numeric | AFR | Africa | Country | ERI | Eritrea    | Year | 2016 | ⋯ | NA | NA | 19.9 | NA | 21.5 | 20.7 [19.9 – 21.5] | NA | <!----> | EN | 2017-09-26T11:00:00.000Z |\n",
       "| 5 | NCD_BMI_MEAN | Mean BMI (kg/m²) (age-standardized estimate) | numeric | AFR | Africa | Country | MDG | Madagascar | Year | 2016 | ⋯ | NA | NA | 19.9 | NA | 22.3 | 21.1 [19.9 – 22.3] | NA | <!----> | EN | 2017-09-26T11:00:00.000Z |\n",
       "| 6 | NCD_BMI_MEAN | Mean BMI (kg/m²) (age-standardized estimate) | numeric | AFR | Africa | Country | ERI | Eritrea    | Year | 2016 | ⋯ | NA | NA | 20.0 | NA | 22.2 | 21.1 [20 – 22.2]   | NA | <!----> | EN | 2017-09-26T11:00:00.000Z |\n",
       "\n"
      ],
      "text/plain": [
       "  IndicatorCode Indicator                                    ValueType\n",
       "1 NCD_BMI_MEAN  Mean BMI (kg/m²) (age-standardized estimate) numeric  \n",
       "2 NCD_BMI_MEAN  Mean BMI (kg/m²) (age-standardized estimate) numeric  \n",
       "3 NCD_BMI_MEAN  Mean BMI (kg/m²) (age-standardized estimate) numeric  \n",
       "4 NCD_BMI_MEAN  Mean BMI (kg/m²) (age-standardized estimate) numeric  \n",
       "5 NCD_BMI_MEAN  Mean BMI (kg/m²) (age-standardized estimate) numeric  \n",
       "6 NCD_BMI_MEAN  Mean BMI (kg/m²) (age-standardized estimate) numeric  \n",
       "  ParentLocationCode ParentLocation Location.type SpatialDimValueCode\n",
       "1 AFR                Africa         Country       ETH                \n",
       "2 AFR                Africa         Country       ERI                \n",
       "3 AFR                Africa         Country       ETH                \n",
       "4 AFR                Africa         Country       ERI                \n",
       "5 AFR                Africa         Country       MDG                \n",
       "6 AFR                Africa         Country       ERI                \n",
       "  Location   Period.type Period ⋯ FactValueUoM FactValueNumericLowPrefix\n",
       "1 Ethiopia   Year        2016   ⋯ NA           NA                       \n",
       "2 Eritrea    Year        2016   ⋯ NA           NA                       \n",
       "3 Ethiopia   Year        2016   ⋯ NA           NA                       \n",
       "4 Eritrea    Year        2016   ⋯ NA           NA                       \n",
       "5 Madagascar Year        2016   ⋯ NA           NA                       \n",
       "6 Eritrea    Year        2016   ⋯ NA           NA                       \n",
       "  FactValueNumericLow FactValueNumericHighPrefix FactValueNumericHigh\n",
       "1 19.0                NA                         21.0                \n",
       "2 19.2                NA                         21.3                \n",
       "3 19.8                NA                         21.3                \n",
       "4 19.9                NA                         21.5                \n",
       "5 19.9                NA                         22.3                \n",
       "6 20.0                NA                         22.2                \n",
       "  Value              FactValueTranslationID FactComments Language\n",
       "1 20.1 [19 – 21]     NA                                  EN      \n",
       "2 20.2 [19.2 – 21.3] NA                                  EN      \n",
       "3 20.6 [19.8 – 21.3] NA                                  EN      \n",
       "4 20.7 [19.9 – 21.5] NA                                  EN      \n",
       "5 21.1 [19.9 – 22.3] NA                                  EN      \n",
       "6 21.1 [20 – 22.2]   NA                                  EN      \n",
       "  DateModified            \n",
       "1 2017-09-26T11:00:00.000Z\n",
       "2 2017-09-26T11:00:00.000Z\n",
       "3 2017-09-26T11:00:00.000Z\n",
       "4 2017-09-26T11:00:00.000Z\n",
       "5 2017-09-26T11:00:00.000Z\n",
       "6 2017-09-26T11:00:00.000Z"
      ]
     },
     "metadata": {},
     "output_type": "display_data"
    },
    {
     "name": "stdout",
     "output_type": "stream",
     "text": [
      "Rows: 24,570\n",
      "Columns: 34\n",
      "$ IndicatorCode              \u001b[3m\u001b[90m<chr>\u001b[39m\u001b[23m \"NCD_BMI_MEAN\", \"NCD_BMI_MEAN\", \"NCD_BMI_ME…\n",
      "$ Indicator                  \u001b[3m\u001b[90m<chr>\u001b[39m\u001b[23m \"Mean BMI (kg/m²) (age-standardized estimat…\n",
      "$ ValueType                  \u001b[3m\u001b[90m<chr>\u001b[39m\u001b[23m \"numeric\", \"numeric\", \"numeric\", \"numeric\",…\n",
      "$ ParentLocationCode         \u001b[3m\u001b[90m<chr>\u001b[39m\u001b[23m \"AFR\", \"AFR\", \"AFR\", \"AFR\", \"AFR\", \"AFR\", \"…\n",
      "$ ParentLocation             \u001b[3m\u001b[90m<chr>\u001b[39m\u001b[23m \"Africa\", \"Africa\", \"Africa\", \"Africa\", \"Af…\n",
      "$ Location.type              \u001b[3m\u001b[90m<chr>\u001b[39m\u001b[23m \"Country\", \"Country\", \"Country\", \"Country\",…\n",
      "$ SpatialDimValueCode        \u001b[3m\u001b[90m<chr>\u001b[39m\u001b[23m \"ETH\", \"ERI\", \"ETH\", \"ERI\", \"MDG\", \"ERI\", \"…\n",
      "$ Location                   \u001b[3m\u001b[90m<chr>\u001b[39m\u001b[23m \"Ethiopia\", \"Eritrea\", \"Ethiopia\", \"Eritrea…\n",
      "$ Period.type                \u001b[3m\u001b[90m<chr>\u001b[39m\u001b[23m \"Year\", \"Year\", \"Year\", \"Year\", \"Year\", \"Ye…\n",
      "$ Period                     \u001b[3m\u001b[90m<int>\u001b[39m\u001b[23m 2016, 2016, 2016, 2016, 2016, 2016, 2016, 2…\n",
      "$ IsLatestYear               \u001b[3m\u001b[90m<lgl>\u001b[39m\u001b[23m TRUE, TRUE, TRUE, TRUE, TRUE, TRUE, TRUE, T…\n",
      "$ Dim1.type                  \u001b[3m\u001b[90m<chr>\u001b[39m\u001b[23m \"Sex\", \"Sex\", \"Sex\", \"Sex\", \"Sex\", \"Sex\", \"…\n",
      "$ Dim1                       \u001b[3m\u001b[90m<chr>\u001b[39m\u001b[23m \"Male\", \"Male\", \"Both sexes\", \"Both sexes\",…\n",
      "$ Dim1ValueCode              \u001b[3m\u001b[90m<chr>\u001b[39m\u001b[23m \"MLE\", \"MLE\", \"BTSX\", \"BTSX\", \"FMLE\", \"FMLE…\n",
      "$ Dim2.type                  \u001b[3m\u001b[90m<chr>\u001b[39m\u001b[23m \"Age Group\", \"Age Group\", \"Age Group\", \"Age…\n",
      "$ Dim2                       \u001b[3m\u001b[90m<chr>\u001b[39m\u001b[23m \"18+  years\", \"18+  years\", \"18+  years\", \"…\n",
      "$ Dim2ValueCode              \u001b[3m\u001b[90m<chr>\u001b[39m\u001b[23m \"YEARS18-PLUS\", \"YEARS18-PLUS\", \"YEARS18-PL…\n",
      "$ Dim3.type                  \u001b[3m\u001b[90m<lgl>\u001b[39m\u001b[23m NA, NA, NA, NA, NA, NA, NA, NA, NA, NA, NA,…\n",
      "$ Dim3                       \u001b[3m\u001b[90m<lgl>\u001b[39m\u001b[23m NA, NA, NA, NA, NA, NA, NA, NA, NA, NA, NA,…\n",
      "$ Dim3ValueCode              \u001b[3m\u001b[90m<lgl>\u001b[39m\u001b[23m NA, NA, NA, NA, NA, NA, NA, NA, NA, NA, NA,…\n",
      "$ DataSourceDimValueCode     \u001b[3m\u001b[90m<lgl>\u001b[39m\u001b[23m NA, NA, NA, NA, NA, NA, NA, NA, NA, NA, NA,…\n",
      "$ DataSource                 \u001b[3m\u001b[90m<lgl>\u001b[39m\u001b[23m NA, NA, NA, NA, NA, NA, NA, NA, NA, NA, NA,…\n",
      "$ FactValueNumericPrefix     \u001b[3m\u001b[90m<lgl>\u001b[39m\u001b[23m NA, NA, NA, NA, NA, NA, NA, NA, NA, NA, NA,…\n",
      "$ FactValueNumeric           \u001b[3m\u001b[90m<dbl>\u001b[39m\u001b[23m 20.1, 20.2, 20.6, 20.7, 21.1, 21.1, 21.1, 2…\n",
      "$ FactValueUoM               \u001b[3m\u001b[90m<lgl>\u001b[39m\u001b[23m NA, NA, NA, NA, NA, NA, NA, NA, NA, NA, NA,…\n",
      "$ FactValueNumericLowPrefix  \u001b[3m\u001b[90m<lgl>\u001b[39m\u001b[23m NA, NA, NA, NA, NA, NA, NA, NA, NA, NA, NA,…\n",
      "$ FactValueNumericLow        \u001b[3m\u001b[90m<dbl>\u001b[39m\u001b[23m 19.0, 19.2, 19.8, 19.9, 19.9, 20.0, 20.0, 1…\n",
      "$ FactValueNumericHighPrefix \u001b[3m\u001b[90m<lgl>\u001b[39m\u001b[23m NA, NA, NA, NA, NA, NA, NA, NA, NA, NA, NA,…\n",
      "$ FactValueNumericHigh       \u001b[3m\u001b[90m<dbl>\u001b[39m\u001b[23m 21.0, 21.3, 21.3, 21.5, 22.3, 22.2, 22.2, 2…\n",
      "$ Value                      \u001b[3m\u001b[90m<chr>\u001b[39m\u001b[23m \"20.1 [19 – 21]\", \"20.2 [19.2 – 21.3]\", \"20…\n",
      "$ FactValueTranslationID     \u001b[3m\u001b[90m<int>\u001b[39m\u001b[23m NA, NA, NA, NA, NA, NA, NA, NA, NA, NA, NA,…\n",
      "$ FactComments               \u001b[3m\u001b[90m<chr>\u001b[39m\u001b[23m \"\", \"\", \"\", \"\", \"\", \"\", \"\", \"\", \"\", \"\", \"\",…\n",
      "$ Language                   \u001b[3m\u001b[90m<chr>\u001b[39m\u001b[23m \"EN\", \"EN\", \"EN\", \"EN\", \"EN\", \"EN\", \"EN\", \"…\n",
      "$ DateModified               \u001b[3m\u001b[90m<chr>\u001b[39m\u001b[23m \"2017-09-26T11:00:00.000Z\", \"2017-09-26T11:…\n",
      "── Data Summary ────────────────────────\n",
      "                           Values\n",
      "Name                       data  \n",
      "Number of rows             24570 \n",
      "Number of columns          34    \n",
      "_______________________          \n",
      "Column type frequency:           \n",
      "  character                19    \n",
      "  logical                  10    \n",
      "  numeric                  5     \n",
      "________________________         \n",
      "Group variables            None  \n",
      "\n",
      "── Variable type: character ────────────────────────────────────────────────────\n",
      "   skim_variable       n_missing complete_rate min max empty n_unique whitespace\n",
      "\u001b[90m 1\u001b[39m IndicatorCode               0             1  12  12     0        1          0\n",
      "\u001b[90m 2\u001b[39m Indicator                   0             1  44  44     0        1          0\n",
      "\u001b[90m 3\u001b[39m ValueType                   0             1   7   7     0        1          0\n",
      "\u001b[90m 4\u001b[39m ParentLocationCode          0             1   3   4     0        6          0\n",
      "\u001b[90m 5\u001b[39m ParentLocation              0             1   6  21     0        6          0\n",
      "\u001b[90m 6\u001b[39m Location.type               0             1   7   7     0        1          0\n",
      "\u001b[90m 7\u001b[39m SpatialDimValueCode         0             1   3   6     0      195          0\n",
      "\u001b[90m 8\u001b[39m Location                    0             1   4  52     0      195          0\n",
      "\u001b[90m 9\u001b[39m Period.type                 0             1   4   4     0        1          0\n",
      "\u001b[90m10\u001b[39m Dim1.type                   0             1   3   3     0        1          0\n",
      "\u001b[90m11\u001b[39m Dim1                        0             1   4  10     0        3          0\n",
      "\u001b[90m12\u001b[39m Dim1ValueCode               0             1   3   4     0        3          0\n",
      "\u001b[90m13\u001b[39m Dim2.type                   0             1   9   9     0        1          0\n",
      "\u001b[90m14\u001b[39m Dim2                        0             1  10  10     0        1          0\n",
      "\u001b[90m15\u001b[39m Dim2ValueCode               0             1  12  12     0        1          0\n",
      "\u001b[90m16\u001b[39m Value                       0             1   7  18     0     \u001b[4m7\u001b[24m614          0\n",
      "\u001b[90m17\u001b[39m FactComments                0             1   0  83 \u001b[4m2\u001b[24m\u001b[4m4\u001b[24m066        2          0\n",
      "\u001b[90m18\u001b[39m Language                    0             1   2   2     0        1          0\n",
      "\u001b[90m19\u001b[39m DateModified                0             1  24  24     0        1          0\n",
      "\n",
      "── Variable type: logical ──────────────────────────────────────────────────────\n",
      "   skim_variable              n_missing complete_rate     mean\n",
      "\u001b[90m 1\u001b[39m IsLatestYear                       0             1   0.023\u001b[4m8\u001b[24m\n",
      "\u001b[90m 2\u001b[39m Dim3.type                      \u001b[4m2\u001b[24m\u001b[4m4\u001b[24m570             0 \u001b[31mNaN\u001b[39m     \n",
      "\u001b[90m 3\u001b[39m Dim3                           \u001b[4m2\u001b[24m\u001b[4m4\u001b[24m570             0 \u001b[31mNaN\u001b[39m     \n",
      "\u001b[90m 4\u001b[39m Dim3ValueCode                  \u001b[4m2\u001b[24m\u001b[4m4\u001b[24m570             0 \u001b[31mNaN\u001b[39m     \n",
      "\u001b[90m 5\u001b[39m DataSourceDimValueCode         \u001b[4m2\u001b[24m\u001b[4m4\u001b[24m570             0 \u001b[31mNaN\u001b[39m     \n",
      "\u001b[90m 6\u001b[39m DataSource                     \u001b[4m2\u001b[24m\u001b[4m4\u001b[24m570             0 \u001b[31mNaN\u001b[39m     \n",
      "\u001b[90m 7\u001b[39m FactValueNumericPrefix         \u001b[4m2\u001b[24m\u001b[4m4\u001b[24m570             0 \u001b[31mNaN\u001b[39m     \n",
      "\u001b[90m 8\u001b[39m FactValueUoM                   \u001b[4m2\u001b[24m\u001b[4m4\u001b[24m570             0 \u001b[31mNaN\u001b[39m     \n",
      "\u001b[90m 9\u001b[39m FactValueNumericLowPrefix      \u001b[4m2\u001b[24m\u001b[4m4\u001b[24m570             0 \u001b[31mNaN\u001b[39m     \n",
      "\u001b[90m10\u001b[39m FactValueNumericHighPrefix     \u001b[4m2\u001b[24m\u001b[4m4\u001b[24m570             0 \u001b[31mNaN\u001b[39m     \n",
      "   count                 \n",
      "\u001b[90m 1\u001b[39m \u001b[90m\"\u001b[39mFAL: 23985, TRU: 585\u001b[90m\"\u001b[39m\n",
      "\u001b[90m 2\u001b[39m \u001b[90m\"\u001b[39m: \u001b[90m\"\u001b[39m                  \n",
      "\u001b[90m 3\u001b[39m \u001b[90m\"\u001b[39m: \u001b[90m\"\u001b[39m                  \n",
      "\u001b[90m 4\u001b[39m \u001b[90m\"\u001b[39m: \u001b[90m\"\u001b[39m                  \n",
      "\u001b[90m 5\u001b[39m \u001b[90m\"\u001b[39m: \u001b[90m\"\u001b[39m                  \n",
      "\u001b[90m 6\u001b[39m \u001b[90m\"\u001b[39m: \u001b[90m\"\u001b[39m                  \n",
      "\u001b[90m 7\u001b[39m \u001b[90m\"\u001b[39m: \u001b[90m\"\u001b[39m                  \n",
      "\u001b[90m 8\u001b[39m \u001b[90m\"\u001b[39m: \u001b[90m\"\u001b[39m                  \n",
      "\u001b[90m 9\u001b[39m \u001b[90m\"\u001b[39m: \u001b[90m\"\u001b[39m                  \n",
      "\u001b[90m10\u001b[39m \u001b[90m\"\u001b[39m: \u001b[90m\"\u001b[39m                  \n",
      "\n",
      "── Variable type: numeric ──────────────────────────────────────────────────────\n",
      "  skim_variable          n_missing complete_rate   mean    sd     p0    p25\n",
      "\u001b[90m1\u001b[39m Period                         0        1      \u001b[4m1\u001b[24m996.  12.1  \u001b[4m1\u001b[24m975   \u001b[4m1\u001b[24m985  \n",
      "\u001b[90m2\u001b[39m FactValueNumeric             504        0.979    24.2  2.71   16.5   22.3\n",
      "\u001b[90m3\u001b[39m FactValueNumericLow          504        0.979    23.1  2.91   14.4   21.2\n",
      "\u001b[90m4\u001b[39m FactValueNumericHigh         504        0.979    25.3  2.64   18.6   23.3\n",
      "\u001b[90m5\u001b[39m FactValueTranslationID     \u001b[4m2\u001b[24m\u001b[4m4\u001b[24m066        0.020\u001b[4m5\u001b[24m  827    0     827    827  \n",
      "     p50    p75   p100 hist \n",
      "\u001b[90m1\u001b[39m \u001b[4m1\u001b[24m996.  \u001b[4m2\u001b[24m006   \u001b[4m2\u001b[24m016   ▇▇▇▇▇\n",
      "\u001b[90m2\u001b[39m   24.4   25.9   34.1 ▁▅▇▂▁\n",
      "\u001b[90m3\u001b[39m   23.4   25.1   33.5 ▁▅▇▂▁\n",
      "\u001b[90m4\u001b[39m   25.5   26.8   35   ▂▆▇▁▁\n",
      "\u001b[90m5\u001b[39m  827    827    827   ▁▁▇▁▁\n"
     ]
    },
    {
     "ename": "ERROR",
     "evalue": "Error in is.null(text_repr) || nchar(text_repr) == 0L: 'length = 19' in coercion to 'logical(1)'\n",
     "output_type": "error",
     "traceback": [
      "Error in is.null(text_repr) || nchar(text_repr) == 0L: 'length = 19' in coercion to 'logical(1)'\nTraceback:\n"
     ]
    }
   ],
   "source": [
    "data <- read.csv('bmi_data.csv')\n",
    "head(data)\n",
    "glimpse(data)\n",
    "skim(data)"
   ]
  }
 ],
 "metadata": {
  "kernelspec": {
   "display_name": "R",
   "language": "R",
   "name": "ir"
  },
  "language_info": {
   "codemirror_mode": "r",
   "file_extension": ".r",
   "mimetype": "text/x-r-source",
   "name": "R",
   "pygments_lexer": "r",
   "version": "4.3.1"
  }
 },
 "nbformat": 4,
 "nbformat_minor": 5
}
