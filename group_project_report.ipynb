{
 "cells": [
  {
   "cell_type": "raw",
   "id": "53afb433-abef-48b8-ad1c-23ab143a2ffc",
   "metadata": {},
   "source": [
    "DATA201 GROUP PROJECT REPORT"
   ]
  }
 ],
 "metadata": {
  "kernelspec": {
   "display_name": "R",
   "language": "R",
   "name": "ir"
  },
  "language_info": {
   "codemirror_mode": "r",
   "file_extension": ".r",
   "mimetype": "text/x-r-source",
   "name": "R",
   "pygments_lexer": "r",
   "version": "4.3.1"
  }
 },
 "nbformat": 4,
 "nbformat_minor": 5
}
